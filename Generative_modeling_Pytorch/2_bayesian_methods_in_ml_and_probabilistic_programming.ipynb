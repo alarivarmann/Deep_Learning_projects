{
 "cells": [
  {
   "cell_type": "code",
   "execution_count": 9,
   "metadata": {},
   "outputs": [],
   "source": [
    "from IPython.display import Image\n",
    "from IPython.core.display import HTML "
   ]
  },
  {
   "cell_type": "markdown",
   "metadata": {},
   "source": [
    "## Introduction to Bayesian Methods (in Machine Learning)\n",
    "Start by watching\n",
    "[Introduction to Bayesian Methods in Machine Learning](https://filedn.com/lK1VhM9GbBxVlERr9KFjD4B/Bayes_Public/Intro%20Bayes/)\n",
    "\n",
    "If these surfaces describe our prior distributions on the unknowns, what happens to our space after we incorporate our observed data X? The data X does not change the space, but it changes the surface of the space by pulling and stretching the fabric of the prior surface to reflect where the true parameters likely live. More data means more pulling and stretching, and our original shape becomes mangled or insignificant compared to the newly formed shape. Less data, and our original shape is more present. Regardless, the resulting surface describes the posterior distribution.\n",
    "\n",
    "![Frequentist VS Bayes](https://filedn.com/lK1VhM9GbBxVlERr9KFjD4B/pictures_to_use_in_bayesian_module/bayes_thinking/freq_bayes.JPG)\n",
    "\n",
    "![Statistical Inference](https://filedn.com/lK1VhM9GbBxVlERr9KFjD4B/pictures_to_use_in_bayesian_module/stat_inf.PNG)\n",
    "\n",
    "![Bayesian Methods](https://filedn.com/lK1VhM9GbBxVlERr9KFjD4B/pictures_to_use_in_bayesian_module/bayesian_methods.PNG)\n",
    "\n",
    "![Why Bayesian Methods now](https://filedn.com/lK1VhM9GbBxVlERr9KFjD4B/pictures_to_use_in_bayesian_module/bayes_thinking/bayes%20--%20past%20vs%20now.JPG)\n"
   ]
  },
  {
   "cell_type": "markdown",
   "metadata": {},
   "source": [
    "## Exponential Family and Conjugate Prior\n",
    "\n",
    "Start by watching the videos on:\n",
    "[Conjugate prior topic](https://filedn.com/lK1VhM9GbBxVlERr9KFjD4B/Bayes_Public/Conjugate%20Priors/)\n",
    "\n",
    "\n",
    "### Exponential Family of Distributions\n",
    "\n",
    "![Exponential Family of Distributions](https://filedn.com/lK1VhM9GbBxVlERr9KFjD4B/pictures_to_use_in_bayesian_module/conjugate.PNG)\n",
    "\n",
    "### Conjugate Distributions\n",
    "\n",
    "**Start by opening the conjugate distributions tables on Onenote**\n",
    "\n",
    "\n",
    "![Conjugate 2](https://filedn.com/lK1VhM9GbBxVlERr9KFjD4B/pictures_to_use_in_bayesian_module/TOWARDS%20conjugate.JPG)\n",
    "\n",
    "It is said that $p(\\theta)$ is conjugate to $p(X \\vert \\theta)$."
   ]
  },
  {
   "cell_type": "markdown",
   "metadata": {},
   "source": [
    "## Introduction to Probabilistic Programming"
   ]
  },
  {
   "cell_type": "markdown",
   "metadata": {},
   "source": [
    "\n",
    "\n",
    "### To Get Started, please read the interview with [Thomas Wiecki, the creator of PyMc3, probabilistic programming language library](https://notamonadtutorial.com/inteview-with-thomas-wiecki-about-probabilistic-programming-and-pymc-66a12b6f3f2e)\n",
    "\n",
    "\n",
    "Talk about how classically Bayesian Statistics has been a tool most adhered to when using small data. There may be many reasons to why limited data is available : Maybe it's because obtaining the data is hard or unethical, e.g. having to do with people dying in biomedical experiments for example. Although it is known that there are generative models that can be used to generate more data, it is more used in the field of computer vision and natural language processing where it's easy for a human to judge the data.\n",
    "\n",
    "Nevertheless, Bayesian methods supercede the definition of Bayesian statistics for small data.\n",
    "In the last years, the powerful concept of Bayesian Machine Learning has emerged where sampling, that classically has been used in small data and low dimensionality settings, is being scaled up into higher dimensions. The idea behind this utilizing the Automatic Differentiation utility which is nowadays built into most state-of-the-art Deep Learning Libraries such as PyTorch (used in Facebook) and Tensorflow (used in Google).\n",
    "\n",
    "It is believed that the fields of Bayesian Statistics and Deep Learning are gradually emerging, enriching each other by combining the strengths of mathematics and the most intelligent computer science algorithms into really powerful frameworks that can process huge quantities of data, making accurate classifications and generating new data for the world to use.\n",
    "\n",
    "[Read where Bayesian Analysis is used in Companies](https://statmodeling.stat.columbia.edu/2014/10/17/companies-use-bayesian-methods/)\n",
    "\n",
    "[Bayesian Approach is usually Parametric for us, read on Wikipedia](https://en.wikipedia.org/wiki/Parametric_statistics)\n"
   ]
  },
  {
   "cell_type": "markdown",
   "metadata": {},
   "source": [
    "\n",
    "[Start by reading through this article](https://towardsdatascience.com/stan-vs-pymc3-vs-edward-1d45c5d6da77)"
   ]
  },
  {
   "cell_type": "markdown",
   "metadata": {},
   "source": [
    "PyMC3 on the other hand was made with Python user specifically in mind. Most of the data science community is migrating to Python these days, so that’s not really an issue at all. You can see below a code example. The syntax isn’t quite as nice as Stan, but still workable. I really don’t like how you have to name the variable again, but this is a side effect of using theano in the backend. The pm.sample part simply samples from the posterior. I love the fact that it isn’t fazed even if I had a discrete variable to sample, which Stan so far cannot do."
   ]
  },
  {
   "cell_type": "markdown",
   "metadata": {},
   "source": [
    "PyMC3 is a result of the desire to implement next-generation Hamiltonian Monte Carlo (HMC) samplers which are vastly superior to previous MCMC algorithms. Contrary to these previous algorithms, HMC requires gradients to be computed. Theano was the first library that allowed to build a compute graph in Python from which it is easy to automatically compute gradients. John Salvatier went through various designs until he came up with the core design that would constitute PyMC3. While HMC is the core motivation, Theano provides many other benefits to PyMC3, like high performance due to graph optimizations and compilation to CPU and GPU, while keeping the model definition and code-base pure Python."
   ]
  },
  {
   "cell_type": "markdown",
   "metadata": {},
   "source": [
    "The biggest difference to Stan is that this one is written in C++ with a custom DSL to define models. This is great as it allows interfaces from various languages but it comes at the cost of a more complex code-base, and having to learn a DSL rather than being able to use Python. Having said that, PyMC3 is hugely inspired by Stan in many ways.\n",
    "https://notamonadtutorial.com/inteview-with-thomas-wiecki-about-probabilistic-programming-and-pymc-66a12b6f3f2e"
   ]
  },
  {
   "cell_type": "markdown",
   "metadata": {},
   "source": [
    "### Talk about the Link Function -- it is the  The logit in logistic regression is a special case of a link function in a generalized linear model: it is the canonical link function for the Bernoulli distribution."
   ]
  },
  {
   "cell_type": "markdown",
   "metadata": {},
   "source": [
    "###  What Framework are we going to use in this course and why?\n",
    "\n",
    "Intro to Stan vs PyMC3 : It has been commented before that Edward is more advised for the future because of the amount of work done in Bayesian Deep Learning, but : \n",
    "\n",
    "Edit : If you read the interview with Thomas Wiecki carefully enough, you saw that Edward's community has most probably switched to Tensorflow Probability by now, so then it might make sense to compare Tensorflow Probability with PyMC3, and people also add ```Pyro```to the mix.\n",
    "\n",
    "**Recap : In general, I would say that if you are a ML researcher developing new deep networks or variational inference algorithms, use TensorFlow Probability; if you are an R user with a statistical background, use Stan; if you are a Data Scientist most comfortable in Python, use PyMC3.**\n",
    "\n",
    "**Since this course doesn't assume you are a ML Researcher YET, we are going to use PyMC3.**\n",
    "\n",
    "\n",
    "\n",
    "Reason 2 comes from the Pre Course poll, which showed students' overall consistent interest towards science.\n",
    "From Wiecki:\n",
    "\n",
    "*PyMC3 is widely used in academia, there are currently close to 200 papers using PyMC3 in various fields, including astronomy, chemistry, ecology, psychology, neuroscience, computer security, and many more. It is also used to solve various business problems by large and small companies. One common use case I have heard is for A/B testing, which makes sense as uncertainty plays a big role. Another problem well solved by PyMC3 is supply chain optimization.\"*\n",
    "\n",
    "Extra comment from a user:\n",
    "*The reason PyMC3 is my go to (Bayesian) tool is for one reason and one reason alone, the ```pm.variational.advi_minibatch``` function. Bayesian models really struggle when it has to deal with a reasonably large amount of data (~10000+ data points). Variational inference is one way of doing approximate Bayesian inference. Both Stan and PyMC3 has this. But it is the extra step that PyMC3 has taken of expanding this to be able to use mini batches of data.*\n",
    "\n",
    "Nevertheless, PyMC3 and Tensorflow Probability are both good options since:\n",
    "\n",
    "**PyMC4 will be based on TensorFlow Probability (TFP) which definitely has a strong focus on deep generative models so this type of model will be much easier to build and TFP’s powerful inference algorithms will also allow it to scale.**"
   ]
  },
  {
   "cell_type": "markdown",
   "metadata": {},
   "source": [
    "### BASIC CONCEPT : POSTERIOR PREDICTIVE CHECK"
   ]
  },
  {
   "cell_type": "markdown",
   "metadata": {},
   "source": [
    "https://en.wikipedia.org/wiki/Posterior_predictive_distribution\n",
    "Posterior predictive check -- same as obtaining validation error in frequentist machine learning\n",
    "https://stats.stackexchange.com/questions/115157/what-are-posterior-predictive-checks-and-what-makes-them-useful\n",
    "\n",
    "Posterior predictive checks are, in simple words, \"simulating replicated data under the fitted model and then comparing these to the observed data\" (Gelman and Hill, 2007, p. 158). So, you use posterior predictive to \"look for systematic discrepancies between real and simulated data\" (Gelman et al. 2004, p. 169).\n",
    "\n",
    "The argument about \"using the data twice\" is that you use your data for estimating the model and then, for checking if the model fits the data, while generally it is a bad idea and it would be better to validate your model on external data, that was not used for estimation.\n",
    "\n",
    "Posterior predictive checks are helpful in assessing if your model gives you \"valid\" predictions about the reality - do they fit the observed data or not. It is a helpful phase of model building and checking. It does not give you a definite answer on if your model is \"ok\" or if it is \"better\" then other model, however, it can help you to check if your model makes sense"
   ]
  },
  {
   "cell_type": "markdown",
   "metadata": {},
   "source": [
    "## HOMEWORK 2 : Building a BAYESIAN MODEL IN PyMC3 : A/B TESTING FULL HOMEWORK\n",
    "\n",
    "A/B testing is a statistical design pattern for determining the difference of effectiveness between two different treatments. For example, a pharmaceutical company is interested in the effectiveness of drug A vs drug B. The company will test drug A on some fraction of their trials, and drug B on the other fraction (this fraction is often 1/2, but we will relax this assumption). After performing enough trials, the in-house statisticians sift through the data to determine which drug yielded better results.\n",
    "\n",
    "Similarly, front-end web developers are interested in which design of their website yields more sales or some other metric of interest. They will route some fraction of visitors to site A, and the other fraction to site B, and record if the visit yielded a sale or not. The data is recorded (in real-time), and analyzed afterwards.\n",
    "\n",
    "Often, the post-experiment analysis is done using something called a hypothesis test like difference of means test or difference of proportions test. This involves often misunderstood quantities like a \"Z-score\" and even more confusing \"p-values\" (please don't ask). If you have taken a statistics course, you have probably been taught this technique (though not necessarily learned this technique). And if you were like me, you may have felt uncomfortable with their derivation -- good: the Bayesian approach to this problem is much more natural\n",
    "\n",
    "With respect to our A/B example, we are interested in using what we know, N (the total trials administered) and n (the number of conversions), to estimate what pA, the true frequency of buyers, might be.\n",
    "\n",
    "To set up a Bayesian model, we need to assign prior distributions to our unknown quantities, e.g. it could be a uniform distribution between 0 and 1.\n",
    "\n",
    ".\n",
    "The homework is given in the file 4_ab_testing_homework.ipynb\n",
    "\n",
    "* [AB-testing option1](https://joomik.github.io/abtesting)\n",
    "Something into this direction.\n",
    "\n",
    "*[AB-testing option2](https://medium.com/@thibalbo/coding-bayesian-ab-tests-in-python-e89356b3f4bd)\n",
    "\n",
    "*[AB-testing from Bayesian hackers book] PUT HERE\n",
    "\n",
    "https://pymc3.readthedocs.io/en/latest/prob_dists.html\n",
    "Probability distributions are all subclasses of Distribution, which in turn has two major subclasses: Discrete and Continuous. In terms of data types, a Continuous random variable is given whichever floating point type defined by theano.config.floatX, while Discrete variables are given int16 types when theano.config.floatX is float32, and int64 otherwise.\n",
    "\n",
    "All distributions in pm.distributions will have two important methods: random() and logp() with the following signatures:\n",
    "\n",
    "class SomeDistribution(Continuous):\n",
    "\n",
    "    def random(self, point=None, size=None):\n",
    "        ...\n",
    "        return random_samples\n",
    "\n",
    "    def logp(self, value):\n",
    "        ...\n",
    "        return total_log_prob\n"
   ]
  },
  {
   "cell_type": "markdown",
   "metadata": {},
   "source": [
    "## Hypothesis Testing"
   ]
  },
  {
   "cell_type": "code",
   "execution_count": 1,
   "metadata": {
    "code_folding": [
     12,
     20
    ]
   },
   "outputs": [
    {
     "name": "stderr",
     "output_type": "stream",
     "text": [
      "WARNING (theano.tensor.blas): Using NumPy C-API based implementation for BLAS functions.\n"
     ]
    }
   ],
   "source": [
    "%matplotlib inline\n",
    "np.random.seed(20090425)\n",
    "import numpy as np\n",
    "import pymc3 as pm\n",
    "import pandas as pd\n",
    "import seaborn as sns\n",
    "sns.set(color_codes=True)\n",
    "from scipy.stats import ttest_ind\n",
    "import sys\n",
    "sys.path.append('ThinkStats2/code')\n",
    "from thinkstats2 import HypothesisTest\n",
    "\n",
    "def get_col_vals(df, col1, col2):\n",
    "    \"\"\"\n",
    "    Get column values \n",
    "    \"\"\"\n",
    "    y1 = np.array(df[col1])\n",
    "    y2 = np.array(df[col2])\n",
    "    return y1, y2\n",
    "\n",
    "def prep_data(df, col1, col2):\n",
    "    \"\"\"\n",
    "    Prepare data for pymc3 and return mean mu and sigma\n",
    "    \"\"\"\n",
    "    y1 = np.array(df[col1])\n",
    "    y2 = np.array(df[col2])\n",
    "\n",
    "    y = pd.DataFrame(dict(value=np.r_[y1, y2], \n",
    "                          group=np.r_[[col1]*len(y1), \n",
    "                            [col2]*len(y2)]))\n",
    "    mu = y.value.mean()\n",
    "    sigma = y.value.std() * 2\n",
    "    \n",
    "    return y, mu, sigma"
   ]
  },
  {
   "cell_type": "markdown",
   "metadata": {},
   "source": [
    "### Frequentist Hypothesis Testing"
   ]
  },
  {
   "cell_type": "code",
   "execution_count": 2,
   "metadata": {
    "code_folding": [
     0
    ]
   },
   "outputs": [],
   "source": [
    "class DiffMeansPermute(HypothesisTest):\n",
    "    \"\"\"\n",
    "    Model the null hypothesis, which says that the distributions\n",
    "    for the two groups are the same.\n",
    "    data: pair of sequences (one for each group)\n",
    "    \"\"\"\n",
    "    def TestStatistic(self, data):\n",
    "        \"\"\"\n",
    "        Calculate the test statistic, the absolute difference in means\n",
    "        \"\"\"\n",
    "        group1, group2 = data\n",
    "        test_stat = abs(np.mean(group1) - np.mean(group2))\n",
    "        return test_stat\n",
    "\n",
    "    def MakeModel(self):\n",
    "        \"\"\"\n",
    "        Record the sizes of the groups, n and m, \n",
    "        and combine into one Numpy array, self.pool\n",
    "        \"\"\"\n",
    "        group1, group2 = self.data\n",
    "        self.n, self.m = len(group1), len(group2)\n",
    "        \n",
    "        # make group1 and group2 into a single array\n",
    "        self.pool = np.concatenate((group1, group2))\n",
    "\n",
    "    def RunModel(self):\n",
    "        \"\"\"\n",
    "        Simulate the null hypothesis- shuffle the pooled values \n",
    "        and split into 2 groups with sizes n and m\n",
    "        \"\"\"\n",
    "        np.random.shuffle(self.pool)\n",
    "        data = self.pool[:self.n], self.pool[self.n:]\n",
    "        return data\n",
    "\n",
    "def Resample(x):\n",
    "    \"\"\"\n",
    "    Get a bootstrap sample\n",
    "    \"\"\"\n",
    "    return np.random.choice(x, len(x), replace=True)\n"
   ]
  },
  {
   "cell_type": "code",
   "execution_count": 3,
   "metadata": {},
   "outputs": [
    {
     "data": {
      "text/plain": [
       "Ttest_indResult(statistic=0.9642101587457315, pvalue=0.3647350421171379)"
      ]
     },
     "execution_count": 3,
     "metadata": {},
     "output_type": "execute_result"
    }
   ],
   "source": [
    "scores = pd.read_excel('test_scores.xlsx')\n",
    "y1, y2 = get_col_vals(scores, 'group1', 'group2')\n",
    "ht = DiffMeansPermute((y1, y2))\n",
    "\n",
    "pval=ht.PValue()\n",
    "ttest_ind(y1,y2, equal_var=False)\n"
   ]
  },
  {
   "cell_type": "markdown",
   "metadata": {},
   "source": [
    "Both give p-values of about .04, so at a cutoff of .05, these tests say the difference is significant. However, this might be a bit borderline\n",
    "https://joomik.github.io/abtesting/"
   ]
  },
  {
   "cell_type": "markdown",
   "metadata": {},
   "source": [
    "### Bayesian Hypothesis Testing"
   ]
  },
  {
   "cell_type": "code",
   "execution_count": 7,
   "metadata": {},
   "outputs": [
    {
     "name": "stderr",
     "output_type": "stream",
     "text": [
      "INFO (theano.gof.compilelock): Waiting for existing lock by process '21484' (I am process '29193')\n",
      "INFO:theano.gof.compilelock:Waiting for existing lock by process '21484' (I am process '29193')\n",
      "INFO (theano.gof.compilelock): To manually release the lock, delete /home/data/.theano/compiledir_Linux-4.18--generic-x86_64-with-Ubuntu-18.04-bionic-x86_64-3.6.7-64/lock_dir\n",
      "INFO:theano.gof.compilelock:To manually release the lock, delete /home/data/.theano/compiledir_Linux-4.18--generic-x86_64-with-Ubuntu-18.04-bionic-x86_64-3.6.7-64/lock_dir\n",
      "Auto-assigning NUTS sampler...\n",
      "INFO:pymc3:Auto-assigning NUTS sampler...\n",
      "Initializing NUTS using jitter+adapt_diag...\n",
      "INFO:pymc3:Initializing NUTS using jitter+adapt_diag...\n",
      "Multiprocess sampling (4 chains in 4 jobs)\n",
      "INFO:pymc3:Multiprocess sampling (4 chains in 4 jobs)\n",
      "NUTS: [ν_min_one, group2_std, group1_std, group2_mean, group1_mean]\n",
      "INFO:pymc3:NUTS: [ν_min_one, group2_std, group1_std, group2_mean, group1_mean]\n",
      "Sampling 4 chains: 100%|██████████| 10000/10000 [00:38<00:00, 258.63draws/s]\n"
     ]
    },
    {
     "data": {
      "image/png": "[encoded data removed]",
      "text/plain": [
       "<Figure size 432x288 with 2 Axes>"
      ]
     },
     "metadata": {
      "needs_background": "light"
     },
     "output_type": "display_data"
    }
   ],
   "source": [
    "import pymc3 as pm\n",
    "\n",
    "y, mu, sigma = prep_data(scores, 'group1', 'group2')\n",
    "y.hist('value', by='group');\n",
    "\n",
    "μ_m = y.value.mean()\n",
    "μ_s = y.value.std() * 2\n",
    "\n",
    "σ_low = 1\n",
    "σ_high = 20\n",
    "\n",
    "#config.compile.timeout = 1000\n",
    "\n",
    "with pm.Model() as model:\n",
    "    \"\"\"\n",
    "    The priors for each group.\n",
    "    \"\"\"\n",
    "    group1_mean = pm.Normal('group1_mean', μ_m, sd=μ_s)\n",
    "    group2_mean = pm.Normal('group2_mean', μ_m, sd=μ_s)\n",
    "    \n",
    "    group1_std = pm.Uniform('group1_std', lower=σ_low, upper=σ_high)\n",
    "    group2_std = pm.Uniform('group2_std', lower=σ_low, upper=σ_high)\n",
    "    \n",
    "    \"\"\"\n",
    "    Prior for ν is an exponential (lambda=29) shifted +1.\n",
    "    \"\"\"\n",
    "    ν = pm.Exponential('ν_min_one', 1/29.) + 1\n",
    "\n",
    "    \"\"\"\n",
    "    Transforming standard deviations to precisions (1/variance) before\n",
    "    specifying likelihoods.\n",
    "    \"\"\"\n",
    "    λ1 = group1_std**-2\n",
    "    λ2 = group2_std**-2\n",
    "\n",
    "    group1 = pm.StudentT('group1', nu=ν, mu=group1_mean, lam=λ1, observed=y1)\n",
    "    group2 = pm.StudentT('group2', nu=ν, mu=group2_mean, lam=λ2, observed=y2)\n",
    "    \n",
    "    \"\"\"\n",
    "    The effect size is the difference in means/pooled estimates of the standard deviation.\n",
    "    The Deterministic class represents variables whose values are completely determined\n",
    "    by the values of their parents.\n",
    "    \"\"\"\n",
    "    diff_of_means = pm.Deterministic('difference of means',  group2_mean - group1_mean)\n",
    "    diff_of_stds = pm.Deterministic('difference of stds',  group2_std - group1_std)\n",
    "    effect_size = pm.Deterministic('effect size',\n",
    "                                   diff_of_means / np.sqrt((group2_std**2 + group1_std**2) / 2))\n",
    "    trace = pm.sample(2000, njobs=4)\n",
    "\n",
    "sns.distplot(np.random.exponential(30, size=10000), kde=False);\n",
    "\n"
   ]
  },
  {
   "cell_type": "code",
   "execution_count": 8,
   "metadata": {},
   "outputs": [
    {
     "data": {
      "image/png": "[encoded data removed]",
      "text/plain": [
       "<Figure size 864x540 with 6 Axes>"
      ]
     },
     "metadata": {
      "needs_background": "light"
     },
     "output_type": "display_data"
    },
    {
     "data": {
      "image/png": "[encoded data removed]",
      "text/plain": [
       "<Figure size 864x360 with 4 Axes>"
      ]
     },
     "metadata": {
      "needs_background": "light"
     },
     "output_type": "display_data"
    }
   ],
   "source": [
    "pm.plot_posterior(trace[1000:],\n",
    "                  varnames=['group1_mean', 'group2_mean', 'group1_std', 'group2_std', 'ν_min_one'],\n",
    "                  color='#87ceeb');\n",
    "\n",
    "pm.plot_posterior(trace[1000:],\n",
    "                  varnames=['difference of means', 'difference of stds', 'effect size'],\n",
    "                  ref_val=0,\n",
    "                  color='#87ceeb');"
   ]
  },
  {
   "cell_type": "markdown",
   "metadata": {},
   "source": [
    "## Frequentist VS Bayesian Statistics"
   ]
  },
  {
   "cell_type": "markdown",
   "metadata": {},
   "source": [
    "### First give an example how in Frequentist statistics, two groups are compared.\n",
    "\n",
    "https://github.com/aloctavodia/Doing_bayesian_data_analysis\n",
    "PYMC3 IMPLEMENTATIONS of Kruschke's book\n",
    "https://docs.pymc.io/notebooks/BEST.html\n",
    "Use Kruschkes classical Bayesian Estimation supercedes the T-Test.\n",
    "\n",
    "A frequentist analyst would do something like [On this Odds ratio Link](https://fangya18.com/2018/10/20/odds-ratio/)\n",
    "\n",
    "### Bayesian Two Groups Comparison\n",
    "A Bayesian analyst would do otherwise. BAYESIAN ODDS RATIO EXAMPLE FROM STAN DEMO GOES HERE."
   ]
  },
  {
   "cell_type": "markdown",
   "metadata": {},
   "source": [
    "## Cost Functions\n"
   ]
  },
  {
   "cell_type": "markdown",
   "metadata": {},
   "source": [
    "![How are cost or loss functions related to statistics](https://filedn.com/lK1VhM9GbBxVlERr9KFjD4B/pictures_to_use_in_bayesian_module/OBJECTIVES.JPG)"
   ]
  },
  {
   "cell_type": "markdown",
   "metadata": {},
   "source": [
    "Most of these work best when given values between 0 and 1.\n",
    "\n",
    "### Quadratic cost\n",
    "\n",
    "\n",
    "Also known as *mean squared error*, *maximum likelihood*, and *sum squared error*, this is defined as:\n",
    "\n",
    "$$C_{MST}(W, B, S^r, E^r) = 0.5\\sum\\limits_j (a^L_j - E^r_j)^2$$\n",
    "\n",
    "The gradient of this cost function with respect to the output of a neural network and some sample $r$ is:\n",
    "\n",
    "$$\\nabla_a C_{MST} = (a^L - E^r)$$\n",
    "\n",
    "\n",
    "### Cross-entropy cost\n",
    "\n",
    "\n",
    "Also known as *Bernoulli negative log-likelihood* and *Binary Cross-Entropy*\n",
    "\n",
    "$$C_{CE}(W, B, S^r, E^r) = -\\sum\\limits_j [E^r_j \\text{ ln } a^L_j + (1 - E^r_j) \\text{ ln }(1-a^L_j)]$$\n",
    "\n",
    "The gradient of this cost function with respect to the output of a neural network and some sample $r$ is:\n",
    "\n",
    "$$\\nabla_a C_{CE} = \\frac{(a^L - E^r)}{(1-a^L)(a^L)}$$\n",
    "\n",
    "### Exponentional cost\n",
    "\n",
    "\n",
    "This requires choosing some parameter $\\tau$ that you think will give you the behavior you want. Typically you'll just need to play with this until things work good.\n",
    "\n",
    "\n",
    "$$C_{EXP}(W, B, S^r, E^r) = \\tau\\text{ }\\exp(\\frac{1}{\\tau} \\sum\\limits_j (a^L_j - E^r_j)^2)$$\n",
    "\n",
    "where $\\text{exp}(x)$ is simply shorthand for $e^x$.\n",
    "\n",
    "The gradient of this cost function with respect to the output of a neural network and some sample $r$ is:\n",
    "\n",
    "$$\\nabla_a C = \\frac{2}{\\tau}(a^L- E^r)C_{EXP}(W, B, S^r, E^r)$$\n",
    "\n",
    "I could rewrite out $C_{EXP}$, but that seems redundant. Point is the gradient computes a vector and then multiplies it by $C_{EXP}$.\n",
    "\n",
    "\n",
    "\n",
    "### Kullback–Leibler divergence\n",
    "\n",
    "\n",
    "Also known as *Information Divergence*, *Information Gain*, *Relative entropy*, *KLIC*, or *KL Divergence* (See [here][2]).\n",
    "\n",
    "Kullback–Leibler divergence is typically denoted $$D_{\\mathrm{KL}}(P\\|Q) = \\sum_i P(i) \\, \\ln\\frac{P(i)}{Q(i)}$$,\n",
    "\n",
    "where $D_{\\mathrm{KL}}(P\\|Q)$ is a measure of the information lost when $Q$ is used to approximate $P$. Thus we want to set $P=E^i$ and $Q=a^L$, because we want to measure how much information is lost when we use $a^i_j$ to approximate $E^i_j$. This gives us\n",
    "\n",
    "$$C_{KL}(W, B, S^r, E^r)=\\sum\\limits_jE^r_j \\log \\frac{E^r_j}{a^L_j}$$\n",
    "\n",
    "The other divergences here use this same idea of setting $P=E^i$ and $Q=a^L$.\n",
    "\n",
    "The gradient of this cost function with respect to the output of a neural network and some sample $r$ is:\n",
    "\n",
    "$$\\nabla_a C = -\\frac{E^r}{a^L}$$\n",
    "\n",
    "### Generalized Kullback–Leibler divergence\n",
    "\n",
    "\n",
    "From [here][3]. \n",
    "\n",
    "$$C_{GKL}(W, B, S^r, E^r)=\\sum\\limits_j E^r_j \\log \\frac{E^r_j}{a^L_j} -\\sum\\limits_j(E^r_j) + \\sum\\limits_j(a^L_j)$$\n",
    "\n",
    "The gradient of this cost function with respect to the output of a neural network and some sample $r$ is:\n",
    "\n",
    "$$\\nabla_a C = \\frac{a^L-E^r}{a^L}$$\n",
    "\n",
    "\n",
    "\n",
    "  [1]: http://www.tcs.tifr.res.in/~prahladh/teaching/2011-12/comm/lectures/l12.pdf\n",
    "  [2]: http://en.wikipedia.org/wiki/Kullback%E2%80%93Leibler_divergence\n",
    " "
   ]
  },
  {
   "cell_type": "markdown",
   "metadata": {},
   "source": [
    "## Homework X : Implement 5 certain cost functions in Python from PyTorch page : https://github.com/torch/nn/blob/master/doc/criterion.md"
   ]
  },
  {
   "cell_type": "code",
   "execution_count": null,
   "metadata": {},
   "outputs": [],
   "source": []
  },
  {
   "cell_type": "markdown",
   "metadata": {},
   "source": [
    "## Resources for Getting Started\n",
    "* [Think Bayes -- Best Place for Python into Bayesian Methods](https://my.pcloud.com/publink/show?code=XZFCjI7ZMVp5xPNGm3VTITG0gEwuupq0UyuV) \n",
    "* [Bayesian Prob for Hackers Webpage](http://camdavidsonpilon.github.io/Probabilistic-Programming-and-Bayesian-Methods-for-Hackers/#examples)\n",
    "* [Bayesian for Hackers](https://my.pcloud.com/publink/show?code=kZDxjI7ZHH5bt0bD2FhFL4Fvzv1l08wjX2YX)\n",
    "* [Statistical Rethinking](https://github.com/pymc-devs/resources/tree/master/Rethinking)\n",
    "* [Doing Bayesian Data Analysis PyMc3 version](https://github.com/JWarmenhoven/DBDA-python)\n",
    "* [Thomas Wiecki Interview, the creator of PyMc3, probabilistic programming language library](https://notamonadtutorial.com/inteview-with-thomas-wiecki-about-probabilistic-programming-and-pymc-66a12b6f3f2e)\n",
    "* [Deepschool.IO source](https://github.com/sachinruk/deepschool.io)"
   ]
  },
  {
   "cell_type": "code",
   "execution_count": null,
   "metadata": {},
   "outputs": [],
   "source": []
  },
  {
   "cell_type": "code",
   "execution_count": null,
   "metadata": {},
   "outputs": [],
   "source": []
  },
  {
   "cell_type": "code",
   "execution_count": null,
   "metadata": {},
   "outputs": [],
   "source": []
  }
 ],
 "metadata": {
  "kernelspec": {
   "display_name": "Python 3",
   "language": "python",
   "name": "python3"
  },
  "language_info": {
   "codemirror_mode": {
    "name": "ipython",
    "version": 3
   },
   "file_extension": ".py",
   "mimetype": "text/x-python",
   "name": "python",
   "nbconvert_exporter": "python",
   "pygments_lexer": "ipython3",
   "version": "3.7.3"
  },
  "latex_envs": {
   "LaTeX_envs_menu_present": true,
   "autoclose": false,
   "autocomplete": true,
   "bibliofile": "biblio.bib",
   "cite_by": "apalike",
   "current_citInitial": 1,
   "eqLabelWithNumbers": true,
   "eqNumInitial": 1,
   "hotkeys": {
    "equation": "Ctrl-E",
    "itemize": "Ctrl-I"
   },
   "labels_anchors": false,
   "latex_user_defs": false,
   "report_style_numbering": false,
   "user_envs_cfg": false
  },
  "toc": {
   "base_numbering": 1,
   "nav_menu": {},
   "number_sections": true,
   "sideBar": true,
   "skip_h1_title": false,
   "title_cell": "Table of Contents",
   "title_sidebar": "Contents",
   "toc_cell": false,
   "toc_position": {},
   "toc_section_display": true,
   "toc_window_display": false
  },
  "varInspector": {
   "cols": {
    "lenName": 16,
    "lenType": 16,
    "lenVar": 40
   },
   "kernels_config": {
    "python": {
     "delete_cmd_postfix": "",
     "delete_cmd_prefix": "del ",
     "library": "var_list.py",
     "varRefreshCmd": "print(var_dic_list())"
    },
    "r": {
     "delete_cmd_postfix": ") ",
     "delete_cmd_prefix": "rm(",
     "library": "var_list.r",
     "varRefreshCmd": "cat(var_dic_list()) "
    }
   },
   "types_to_exclude": [
    "module",
    "function",
    "builtin_function_or_method",
    "instance",
    "_Feature"
   ],
   "window_display": false
  }
 },
 "nbformat": 4,
 "nbformat_minor": 2
}
