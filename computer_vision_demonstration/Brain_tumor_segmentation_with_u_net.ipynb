{
 "cells": [
  {
   "cell_type": "markdown",
   "metadata": {
    "colab_type": "text",
    "id": "YTUjC5FHPS_0"
   },
   "source": [
    "## Setting up Project and Downloading Data"
   ]
  },
  {
   "cell_type": "code",
   "execution_count": 1,
   "metadata": {
    "colab": {},
    "colab_type": "code",
    "id": "6l7yQn6AOdNJ",
    "scrolled": true
   },
   "outputs": [
    {
     "name": "stdout",
     "output_type": "stream",
     "text": [
      "Collecting keras==2.2.5\n",
      "\u001b[?25l  Downloading https://files.pythonhosted.org/packages/f8/ba/2d058dcf1b85b9c212cc58264c98a4a7dd92c989b798823cc5690d062bb2/Keras-2.2.5-py2.py3-none-any.whl (336kB)\n",
      "\u001b[K    100% |████████████████████████████████| 337kB 17.5MB/s ta 0:00:01\n",
      "\u001b[?25hCollecting nibabel==2.3.3\n",
      "\u001b[?25l  Downloading https://files.pythonhosted.org/packages/0a/36/a9e7ef516d0f63c2610c0033daf06c1001b1b70943f08c89d502c19bedf6/nibabel-2.3.3-py3-none-any.whl (3.2MB)\n",
      "\u001b[K    100% |████████████████████████████████| 3.2MB 13.1MB/s ta 0:00:01\n",
      "\u001b[?25hCollecting numpy==1.17.5\n",
      "\u001b[?25l  Downloading https://files.pythonhosted.org/packages/ae/c9/69096779fd29bf3066e24124e1c88213e40bf9d2eab4786d21948a37c40b/numpy-1.17.5-cp36-cp36m-manylinux1_x86_64.whl (20.0MB)\n",
      "\u001b[K    100% |████████████████████████████████| 20.0MB 2.4MB/s eta 0:00:01\n",
      "\u001b[?25hCollecting matplotlib==3.1.2\n",
      "\u001b[?25l  Downloading https://files.pythonhosted.org/packages/4e/11/06958a2b895a3853206dea1fb2a5b11bf044f626f90745987612af9c8f2c/matplotlib-3.1.2-cp36-cp36m-manylinux1_x86_64.whl (13.1MB)\n",
      "\u001b[K    100% |████████████████████████████████| 13.1MB 3.6MB/s eta 0:00:01    99% |████████████████████████████████| 13.1MB 48.4MB/s eta 0:00:01\n",
      "\u001b[?25hRequirement already satisfied: six>=1.9.0 in /usr/lib/python3.6/dist-packages (from keras==2.2.5) (1.13.0)\n",
      "Collecting h5py (from keras==2.2.5)\n",
      "\u001b[?25l  Downloading https://files.pythonhosted.org/packages/60/06/cafdd44889200e5438b897388f3075b52a8ef01f28a17366d91de0fa2d05/h5py-2.10.0-cp36-cp36m-manylinux1_x86_64.whl (2.9MB)\n",
      "\u001b[K    100% |████████████████████████████████| 2.9MB 13.5MB/s ta 0:00:01\n",
      "\u001b[?25hRequirement already satisfied: scipy>=0.14 in /usr/lib64/python3.6/dist-packages (from keras==2.2.5) (1.3.2)\n",
      "Collecting keras-applications>=1.0.8 (from keras==2.2.5)\n",
      "\u001b[?25l  Downloading https://files.pythonhosted.org/packages/71/e3/19762fdfc62877ae9102edf6342d71b28fbfd9dea3d2f96a882ce099b03f/Keras_Applications-1.0.8-py3-none-any.whl (50kB)\n",
      "\u001b[K    100% |████████████████████████████████| 51kB 25.8MB/s ta 0:00:01\n",
      "\u001b[?25hRequirement already satisfied: pyyaml in /usr/lib64/python3.6/dist-packages (from keras==2.2.5) (3.13)\n",
      "Collecting keras-preprocessing>=1.1.0 (from keras==2.2.5)\n",
      "\u001b[?25l  Downloading https://files.pythonhosted.org/packages/28/6a/8c1f62c37212d9fc441a7e26736df51ce6f0e38455816445471f10da4f0a/Keras_Preprocessing-1.1.0-py2.py3-none-any.whl (41kB)\n",
      "\u001b[K    100% |████████████████████████████████| 51kB 28.2MB/s ta 0:00:01\n",
      "\u001b[?25hCollecting bz2file (from nibabel==2.3.3)\n",
      "  Downloading https://files.pythonhosted.org/packages/61/39/122222b5e85cd41c391b68a99ee296584b2a2d1d233e7ee32b4532384f2d/bz2file-0.98.tar.gz\n",
      "Requirement already satisfied: pyparsing!=2.0.4,!=2.1.2,!=2.1.6,>=2.0.1 in /usr/lib/python3.6/dist-packages (from matplotlib==3.1.2) (2.4.5)\n",
      "Requirement already satisfied: kiwisolver>=1.0.1 in /usr/lib64/python3.6/dist-packages (from matplotlib==3.1.2) (1.1.0)\n",
      "Requirement already satisfied: python-dateutil>=2.1 in /usr/lib/python3.6/dist-packages (from matplotlib==3.1.2) (2.8.1)\n",
      "Requirement already satisfied: cycler>=0.10 in /usr/lib/python3.6/dist-packages (from matplotlib==3.1.2) (0.10.0)\n",
      "Requirement already satisfied: setuptools in /usr/lib/python3.6/dist-packages (from kiwisolver>=1.0.1->matplotlib==3.1.2) (41.6.0)\n",
      "Building wheels for collected packages: bz2file\n",
      "  Building wheel for bz2file (setup.py) ... \u001b[?25ldone\n",
      "\u001b[?25h  Stored in directory: /home/ec2-user/.cache/pip/wheels/81/75/d6/e1317bf09bf1af5a30befc2a007869fa6e1f516b8f7c591cb9\n",
      "Successfully built bz2file\n",
      "\u001b[31mcoremltools 2.0 has requirement six==1.10.0, but you'll have six 1.13.0 which is incompatible.\u001b[0m\n",
      "Installing collected packages: numpy, h5py, keras-applications, keras-preprocessing, keras, bz2file, nibabel, matplotlib\n",
      "\u001b[33m  The scripts f2py, f2py3 and f2py3.6 are installed in '/home/ec2-user/.local/bin' which is not on PATH.\n",
      "  Consider adding this directory to PATH or, if you prefer to suppress this warning, use --no-warn-script-location.\u001b[0m\n",
      "Successfully installed bz2file-0.98 h5py-2.10.0 keras-2.2.5 keras-applications-1.0.8 keras-preprocessing-1.1.0 matplotlib-3.1.2 nibabel-2.3.3 numpy-1.17.5\n",
      "\u001b[33mYou are using pip version 19.0.2, however version 20.0.2 is available.\n",
      "You should consider upgrading via the 'pip install --upgrade pip' command.\u001b[0m\n",
      "Collecting tensorflow\n",
      "\u001b[?25l  Downloading https://files.pythonhosted.org/packages/85/d4/c0cd1057b331bc38b65478302114194bd8e1b9c2bbc06e300935c0e93d90/tensorflow-2.1.0-cp36-cp36m-manylinux2010_x86_64.whl (421.8MB)\n",
      "\u001b[K    100% |████████████████████████████████| 421.8MB 114kB/s eta 0:00:01  6% |██▏                             | 28.0MB 49.4MB/s eta 0:00:08    15% |████▉                           | 64.4MB 49.5MB/s eta 0:00:08    29% |█████████▋                      | 126.2MB 47.6MB/s eta 0:00:07    30% |█████████▊                      | 128.6MB 55.2MB/s eta 0:00:06    52% |████████████████▊               | 221.1MB 48.0MB/s eta 0:00:05    69% |██████████████████████▍         | 294.6MB 47.3MB/s eta 0:00:03    76% |████████████████████████▍       | 321.0MB 47.0MB/s eta 0:00:03\n",
      "\u001b[?25hRequirement already satisfied, skipping upgrade: protobuf>=3.8.0 in /usr/lib64/python3.6/dist-packages (from tensorflow) (3.10.0)\n",
      "Collecting termcolor>=1.1.0 (from tensorflow)\n",
      "  Downloading https://files.pythonhosted.org/packages/8a/48/a76be51647d0eb9f10e2a4511bf3ffb8cc1e6b14e9e4fab46173aa79f981/termcolor-1.1.0.tar.gz\n",
      "Collecting grpcio>=1.8.6 (from tensorflow)\n",
      "\u001b[?25l  Downloading https://files.pythonhosted.org/packages/17/8f/f79c5c174bebece41f824dd7b1ba98da45dc2d4c373b38ac6a7f6a5acb5e/grpcio-1.26.0-cp36-cp36m-manylinux2010_x86_64.whl (2.4MB)\n",
      "\u001b[K    100% |████████████████████████████████| 2.4MB 14.2MB/s ta 0:00:01\n",
      "\u001b[?25hRequirement already satisfied, skipping upgrade: numpy<2.0,>=1.16.0 in /home/ec2-user/.local/lib/python3.6/site-packages (from tensorflow) (1.17.5)\n",
      "Requirement already satisfied, skipping upgrade: wrapt>=1.11.1 in /usr/lib64/python3.6/dist-packages (from tensorflow) (1.11.2)\n",
      "Collecting absl-py>=0.7.0 (from tensorflow)\n",
      "\u001b[?25l  Downloading https://files.pythonhosted.org/packages/1a/53/9243c600e047bd4c3df9e69cfabc1e8004a82cac2e0c484580a78a94ba2a/absl-py-0.9.0.tar.gz (104kB)\n",
      "\u001b[K    100% |████████████████████████████████| 112kB 22.5MB/s ta 0:00:01\n",
      "\u001b[?25hRequirement already satisfied, skipping upgrade: keras-preprocessing>=1.1.0 in /home/ec2-user/.local/lib/python3.6/site-packages (from tensorflow) (1.1.0)\n",
      "Requirement already satisfied, skipping upgrade: wheel>=0.26; python_version >= \"3\" in /usr/lib/python3.6/dist-packages (from tensorflow) (0.32.3)\n",
      "Collecting opt-einsum>=2.3.2 (from tensorflow)\n",
      "\u001b[?25l  Downloading https://files.pythonhosted.org/packages/b8/83/755bd5324777875e9dff19c2e59daec837d0378c09196634524a3d7269ac/opt_einsum-3.1.0.tar.gz (69kB)\n",
      "\u001b[K    100% |████████████████████████████████| 71kB 20.0MB/s ta 0:00:01\n",
      "\u001b[?25hCollecting tensorboard<2.2.0,>=2.1.0 (from tensorflow)\n",
      "\u001b[?25l  Downloading https://files.pythonhosted.org/packages/40/23/53ffe290341cd0855d595b0a2e7485932f473798af173bbe3a584b99bb06/tensorboard-2.1.0-py3-none-any.whl (3.8MB)\n",
      "\u001b[K    100% |████████████████████████████████| 3.8MB 8.3MB/s eta 0:00:01\n",
      "\u001b[?25hCollecting scipy==1.4.1; python_version >= \"3\" (from tensorflow)\n",
      "  Using cached https://files.pythonhosted.org/packages/dc/29/162476fd44203116e7980cfbd9352eef9db37c49445d1fec35509022f6aa/scipy-1.4.1-cp36-cp36m-manylinux1_x86_64.whl\n",
      "Collecting astor>=0.6.0 (from tensorflow)\n",
      "  Downloading https://files.pythonhosted.org/packages/c3/88/97eef84f48fa04fbd6750e62dcceafba6c63c81b7ac1420856c8dcc0a3f9/astor-0.8.1-py2.py3-none-any.whl\n",
      "Collecting tensorflow-estimator<2.2.0,>=2.1.0rc0 (from tensorflow)\n",
      "\u001b[?25l  Downloading https://files.pythonhosted.org/packages/18/90/b77c328a1304437ab1310b463e533fa7689f4bfc41549593056d812fab8e/tensorflow_estimator-2.1.0-py2.py3-none-any.whl (448kB)\n",
      "\u001b[K    100% |████████████████████████████████| 450kB 23.1MB/s ta 0:00:01\n",
      "\u001b[?25hCollecting gast==0.2.2 (from tensorflow)\n",
      "  Downloading https://files.pythonhosted.org/packages/4e/35/11749bf99b2d4e3cceb4d55ca22590b0d7c2c62b9de38ac4a4a7f4687421/gast-0.2.2.tar.gz\n",
      "Requirement already satisfied, skipping upgrade: six>=1.12.0 in /usr/lib/python3.6/dist-packages (from tensorflow) (1.13.0)\n",
      "Collecting google-pasta>=0.1.6 (from tensorflow)\n",
      "\u001b[?25l  Downloading https://files.pythonhosted.org/packages/c3/fd/1e86bc4837cc9a3a5faf3db9b1854aa04ad35b5f381f9648fbe81a6f94e4/google_pasta-0.1.8-py3-none-any.whl (57kB)\n",
      "\u001b[K    100% |████████████████████████████████| 61kB 16.9MB/s ta 0:00:01\n",
      "\u001b[?25hRequirement already satisfied, skipping upgrade: keras-applications>=1.0.8 in /home/ec2-user/.local/lib/python3.6/site-packages (from tensorflow) (1.0.8)\n",
      "Requirement already satisfied, skipping upgrade: setuptools in /usr/lib/python3.6/dist-packages (from protobuf>=3.8.0->tensorflow) (41.6.0)\n",
      "Collecting markdown>=2.6.8 (from tensorboard<2.2.0,>=2.1.0->tensorflow)\n",
      "\u001b[?25l  Downloading https://files.pythonhosted.org/packages/c0/4e/fd492e91abdc2d2fcb70ef453064d980688762079397f779758e055f6575/Markdown-3.1.1-py2.py3-none-any.whl (87kB)\n",
      "\u001b[K    100% |████████████████████████████████| 92kB 35.0MB/s ta 0:00:01\n",
      "\u001b[?25hCollecting requests<3,>=2.21.0 (from tensorboard<2.2.0,>=2.1.0->tensorflow)\n",
      "  Using cached https://files.pythonhosted.org/packages/51/bd/23c926cd341ea6b7dd0b2a00aba99ae0f828be89d72b2190f27c11d4b7fb/requests-2.22.0-py2.py3-none-any.whl\n",
      "Collecting google-auth<2,>=1.6.3 (from tensorboard<2.2.0,>=2.1.0->tensorflow)\n",
      "\u001b[?25l  Downloading https://files.pythonhosted.org/packages/1c/6d/7aae38a9022f982cf8167775c7fc299f203417b698c27080ce09060bba07/google_auth-1.11.0-py2.py3-none-any.whl (76kB)\n",
      "\u001b[K    100% |████████████████████████████████| 81kB 19.9MB/s ta 0:00:01\n",
      "\u001b[?25hCollecting google-auth-oauthlib<0.5,>=0.4.1 (from tensorboard<2.2.0,>=2.1.0->tensorflow)\n",
      "  Downloading https://files.pythonhosted.org/packages/7b/b8/88def36e74bee9fce511c9519571f4e485e890093ab7442284f4ffaef60b/google_auth_oauthlib-0.4.1-py2.py3-none-any.whl\n",
      "Collecting werkzeug>=0.11.15 (from tensorboard<2.2.0,>=2.1.0->tensorflow)\n",
      "\u001b[?25l  Downloading https://files.pythonhosted.org/packages/c2/e4/a859d2fe516f466642fa5c6054fd9646271f9da26b0cac0d2f37fc858c8f/Werkzeug-0.16.1-py2.py3-none-any.whl (327kB)\n",
      "\u001b[K    100% |████████████████████████████████| 327kB 32.0MB/s ta 0:00:01\n",
      "\u001b[?25hRequirement already satisfied, skipping upgrade: h5py in /home/ec2-user/.local/lib/python3.6/site-packages (from keras-applications>=1.0.8->tensorflow) (2.10.0)\n",
      "Requirement already satisfied, skipping upgrade: certifi>=2017.4.17 in /usr/lib/python3.6/dist-packages (from requests<3,>=2.21.0->tensorboard<2.2.0,>=2.1.0->tensorflow) (2019.9.11)\n",
      "Requirement already satisfied, skipping upgrade: idna<2.9,>=2.5 in /usr/lib/python3.6/dist-packages (from requests<3,>=2.21.0->tensorboard<2.2.0,>=2.1.0->tensorflow) (2.7)\n",
      "Requirement already satisfied, skipping upgrade: chardet<3.1.0,>=3.0.2 in /usr/lib/python3.6/dist-packages (from requests<3,>=2.21.0->tensorboard<2.2.0,>=2.1.0->tensorflow) (3.0.4)\n",
      "Requirement already satisfied, skipping upgrade: urllib3!=1.25.0,!=1.25.1,<1.26,>=1.21.1 in /usr/lib/python3.6/dist-packages (from requests<3,>=2.21.0->tensorboard<2.2.0,>=2.1.0->tensorflow) (1.24.3)\n",
      "Requirement already satisfied, skipping upgrade: rsa<4.1,>=3.1.4 in /usr/lib/python3.6/dist-packages (from google-auth<2,>=1.6.3->tensorboard<2.2.0,>=2.1.0->tensorflow) (3.4.2)\n",
      "Collecting pyasn1-modules>=0.2.1 (from google-auth<2,>=1.6.3->tensorboard<2.2.0,>=2.1.0->tensorflow)\n",
      "\u001b[?25l  Downloading https://files.pythonhosted.org/packages/95/de/214830a981892a3e286c3794f41ae67a4495df1108c3da8a9f62159b9a9d/pyasn1_modules-0.2.8-py2.py3-none-any.whl (155kB)\n",
      "\u001b[K    100% |████████████████████████████████| 163kB 38.2MB/s ta 0:00:01\n",
      "\u001b[?25hCollecting cachetools<5.0,>=2.0.0 (from google-auth<2,>=1.6.3->tensorboard<2.2.0,>=2.1.0->tensorflow)\n",
      "  Downloading https://files.pythonhosted.org/packages/08/6a/abf83cb951617793fd49c98cb9456860f5df66ff89883c8660aa0672d425/cachetools-4.0.0-py3-none-any.whl\n",
      "Collecting requests-oauthlib>=0.7.0 (from google-auth-oauthlib<0.5,>=0.4.1->tensorboard<2.2.0,>=2.1.0->tensorflow)\n",
      "  Downloading https://files.pythonhosted.org/packages/a3/12/b92740d845ab62ea4edf04d2f4164d82532b5a0b03836d4d4e71c6f3d379/requests_oauthlib-1.3.0-py2.py3-none-any.whl\n",
      "Requirement already satisfied, skipping upgrade: pyasn1>=0.1.3 in /usr/lib/python3.6/dist-packages (from rsa<4.1,>=3.1.4->google-auth<2,>=1.6.3->tensorboard<2.2.0,>=2.1.0->tensorflow) (0.4.8)\n",
      "Collecting oauthlib>=3.0.0 (from requests-oauthlib>=0.7.0->google-auth-oauthlib<0.5,>=0.4.1->tensorboard<2.2.0,>=2.1.0->tensorflow)\n",
      "\u001b[?25l  Downloading https://files.pythonhosted.org/packages/05/57/ce2e7a8fa7c0afb54a0581b14a65b56e62b5759dbc98e80627142b8a3704/oauthlib-3.1.0-py2.py3-none-any.whl (147kB)\n",
      "\u001b[K    100% |████████████████████████████████| 153kB 40.4MB/s ta 0:00:01\n",
      "\u001b[?25hBuilding wheels for collected packages: termcolor, absl-py, opt-einsum, gast\n",
      "  Building wheel for termcolor (setup.py) ... \u001b[?25ldone\n",
      "\u001b[?25h  Stored in directory: /home/ec2-user/.cache/pip/wheels/7c/06/54/bc84598ba1daf8f970247f550b175aaaee85f68b4b0c5ab2c6\n",
      "  Building wheel for absl-py (setup.py) ... \u001b[?25ldone\n",
      "\u001b[?25h  Stored in directory: /home/ec2-user/.cache/pip/wheels/8e/28/49/fad4e7f0b9a1227708cbbee4487ac8558a7334849cb81c813d\n",
      "  Building wheel for opt-einsum (setup.py) ... \u001b[?25ldone\n",
      "\u001b[?25h  Stored in directory: /home/ec2-user/.cache/pip/wheels/2c/b1/94/43d03e130b929aae7ba3f8d15cbd7bc0d1cb5bb38a5c721833\n",
      "  Building wheel for gast (setup.py) ... \u001b[?25ldone\n",
      "\u001b[?25h  Stored in directory: /home/ec2-user/.cache/pip/wheels/5c/2e/7e/a1d4d4fcebe6c381f378ce7743a3ced3699feb89bcfbdadadd\n",
      "Successfully built termcolor absl-py opt-einsum gast\n",
      "Installing collected packages: termcolor, grpcio, absl-py, opt-einsum, markdown, requests, pyasn1-modules, cachetools, google-auth, oauthlib, requests-oauthlib, google-auth-oauthlib, werkzeug, tensorboard, scipy, astor, tensorflow-estimator, gast, google-pasta, tensorflow\n",
      "\u001b[33m  The script markdown_py is installed in '/home/ec2-user/.local/bin' which is not on PATH.\n",
      "  Consider adding this directory to PATH or, if you prefer to suppress this warning, use --no-warn-script-location.\u001b[0m\n",
      "\u001b[33m  The script google-oauthlib-tool is installed in '/home/ec2-user/.local/bin' which is not on PATH.\n",
      "  Consider adding this directory to PATH or, if you prefer to suppress this warning, use --no-warn-script-location.\u001b[0m\n",
      "\u001b[33m  The script tensorboard is installed in '/home/ec2-user/.local/bin' which is not on PATH.\n",
      "  Consider adding this directory to PATH or, if you prefer to suppress this warning, use --no-warn-script-location.\u001b[0m\n",
      "\u001b[33m  The scripts estimator_ckpt_converter, saved_model_cli, tensorboard, tf_upgrade_v2, tflite_convert, toco and toco_from_protos are installed in '/home/ec2-user/.local/bin' which is not on PATH.\n",
      "  Consider adding this directory to PATH or, if you prefer to suppress this warning, use --no-warn-script-location.\u001b[0m\n",
      "Successfully installed absl-py-0.9.0 astor-0.8.1 cachetools-4.0.0 gast-0.2.2 google-auth-1.11.0 google-auth-oauthlib-0.4.1 google-pasta-0.1.8 grpcio-1.26.0 markdown-3.1.1 oauthlib-3.1.0 opt-einsum-3.1.0 pyasn1-modules-0.2.8 requests-2.22.0 requests-oauthlib-1.3.0 scipy-1.4.1 tensorboard-2.1.0 tensorflow-2.1.0 tensorflow-estimator-2.1.0 termcolor-1.1.0 werkzeug-0.16.1\n",
      "\u001b[33mYou are using pip version 19.0.2, however version 20.0.2 is available.\n",
      "You should consider upgrading via the 'pip install --upgrade pip' command.\u001b[0m\n"
     ]
    }
   ],
   "source": [
    "#!pip list\n",
    "#!nvidia-smi\n",
    "!pip3 install keras==2.2.5 nibabel==2.3.3 numpy==1.17.5 matplotlib==3.1.2 --user\n",
    "!pip3 install --upgrade tensorflow --user\n",
    "#!pip3 install -U keras-tuner --user"
   ]
  },
  {
   "cell_type": "code",
   "execution_count": 80,
   "metadata": {
    "colab": {
     "base_uri": "https://localhost:8080/",
     "height": 34
    },
    "colab_type": "code",
    "id": "D2fTEO1IO3mM",
    "outputId": "697c35a3-f769-4168-9c4b-25122926d289",
    "scrolled": true
   },
   "outputs": [],
   "source": [
    "run_on_first_half = True\n",
    "#from kerastuner import HyperModel\n",
    "#import kerastuner as kt\n",
    "import numpy as np\n",
    "import math\n",
    "from matplotlib import pyplot as plt\n",
    "import nibabel as nib\n",
    "import numpy as np\n",
    "import random\n",
    "import os\n",
    "import os\n",
    "os.environ[\"CUDA_DEVICE_ORDER\"]=\"PCI_BUS_ID\"\n",
    "os.environ[\"CUDA_VISIBLE_DEVICES\"]=\"1\" #model will be trained on GPU 1\n",
    "#os.environ[\"CUDA_VISIBLE_DEVICES=\"]='-1'\n",
    "import tensorflow\n",
    "from tensorflow.keras import backend as K\n",
    "from tensorflow.keras.callbacks import EarlyStopping, ModelCheckpoint, ReduceLROnPlateau\n",
    "from tensorflow.keras import backend as K\n",
    "from tensorflow.keras.layers import *\n",
    "from tensorflow.keras.models import Model\n",
    "from tensorflow.keras.callbacks import LearningRateScheduler\n",
    "from tensorflow import image \n",
    "from tensorflow import optimizers\n",
    "from tensorflow.keras.preprocessing.image import ImageDataGenerator\n",
    "#from google.colab import drive\n",
    "#drive.mount(\"/content/gdrive\")"
   ]
  },
  {
   "cell_type": "markdown",
   "metadata": {},
   "source": [
    "### Utility Functions for Filtering and Plotting Predictions"
   ]
  },
  {
   "cell_type": "code",
   "execution_count": null,
   "metadata": {},
   "outputs": [],
   "source": [
    "def filter_tumor_labels(labels=None):\n",
    "    zerocheck = np.any(labels, axis=(1, 2)).flatten()\n",
    "    tumor_indices = np.where(zerocheck==True)\n",
    "    healthy_indices = np.where(zerocheck==False)\n",
    "    #nontumors = labels[res2 == False]\n",
    "    #tumors = labels[res2 == True]\n",
    "    tumor_labels = labels[tumor_indices]\n",
    "    return tumor_labels\n",
    "\n",
    "\n",
    "def tumor_filter(features=None,labels=None):\n",
    "    zerocheck = np.any(labels, axis=(1, 2)).flatten()\n",
    "    tumor_indices = np.where(zerocheck==True)\n",
    "    tumor_features = features[tumor_indices]\n",
    "    tumor_labels = labels[tumor_indices]\n",
    "    if tumor_features.shape[0]!=tumor_labels.shape[0]:\n",
    "        print(\"Shapes of tumor filtering are messed up!\")\n",
    "    return tumor_features,tumor_labels\n",
    "\n",
    "    \n",
    "def plot_predictions(predictions,labels):\n",
    "    fix, ax = plt.subplots(maxplots,2, figsize=(8,20))\n",
    "    for i in range(len(predictions)):\n",
    "        ax[i,0].imshow(labels[i,:,:,0])\n",
    "        ax[i,1].imshow(trainpredictions[i,:,:,0])\n",
    "        if i == maxplots:\n",
    "            break\n",
    "\n",
    "    plt.show()\n",
    "\n",
    "#d,b = data_dictionary.get(\"tumor_features\"),data_dictionary.get(\"tumor_labels\")\n",
    "#print(d.shape)\n",
    "#plot_predictions(trainpredictions)\n",
    "#d1,b1 = tumor_filter(d,b)\n",
    "#print(d1.shape)\n",
    "#plt.imshow(b1[10,:,:,0])"
   ]
  },
  {
   "cell_type": "code",
   "execution_count": 3,
   "metadata": {
    "colab": {
     "base_uri": "https://localhost:8080/",
     "height": 51
    },
    "colab_type": "code",
    "id": "suovKtchPRe5",
    "outputId": "a0bb24f0-8879-42dd-fda2-a59fe966ce93",
    "scrolled": true
   },
   "outputs": [
    {
     "name": "stdout",
     "output_type": "stream",
     "text": [
      "ls: cannot access '/content/gdrive/My': No such file or directory\n",
      "ls: cannot access 'Drive/data/test': No such file or directory\n"
     ]
    }
   ],
   "source": [
    "\n",
    "\n",
    "ROOT = \"/content/gdrive/My Drive\"\n",
    "DATA = os.path.join(ROOT,\"data\")\n",
    "MODEL = os.path.join(ROOT,\"model\")\n",
    "#model_path = os.path.join(MODEL,'u_net_braintumor_all_slices_augmented.h5')\n",
    "\n",
    "!ls $DATA/\"test\"\n",
    "\n",
    "#!mkdir  /content/gdrive/My\\ Drive/data\n",
    "#!unzip ZebsyxKkZiQcaXtMgre1.zip -d /content/gdrive/My\\ Drive/\n",
    "#!mkdir $MODEL\n",
    "#!wget https://tdsassignment.s3-eu-west-1.amazonaws.com/ZebsyxKkZiQcaXtMgre1.zip\n",
    "#!unzip ZebsyxKkZiQcaXtMgre1.zip\n",
    "#!ls data"
   ]
  },
  {
   "cell_type": "markdown",
   "metadata": {
    "colab_type": "text",
    "id": "8aDzjrtLOdNX"
   },
   "source": [
    "### Utility Functions for Various Purposes"
   ]
  },
  {
   "cell_type": "code",
   "execution_count": 2,
   "metadata": {
    "colab": {},
    "colab_type": "code",
    "id": "DtZrAB6PbrZs",
    "scrolled": true
   },
   "outputs": [],
   "source": [
    "def binary_shaper(predictions,threshold):\n",
    "    test_masks = np.empty_like(predictions)\n",
    "    test_masks[np.where( predictions > threshold )] = 1\n",
    "    test_masks[np.where( predictions <= threshold )] = 0\n",
    "    return test_masks\n",
    "\n",
    "def dice_coef_2_lean(y_true, y_pred, smooth=K.epsilon()):\n",
    "    \"\"\"\n",
    "    Dice = (2*|X & Y|)/ (|X|+ |Y|)\n",
    "         =  2*sum(|A*B|)/(sum(A^2)+sum(B^2))\n",
    "    ref: https://arxiv.org/pdf/1606.04797v1.pdf\n",
    "    \"\"\"\n",
    "    intersection = K.sum(K.abs(y_true * y_pred), axis=-1)\n",
    "    denominator = K.sum(K.square(y_true),-1) + K.sum(K.square(y_pred),-1) + smooth\n",
    "    return (2. * intersection + smooth) / denominator\n",
    "\n",
    "def dice_loss(y_true,y_pred): # this is differentiable\n",
    "    \"\"\"Dice Loss Implementation with squares\"\"\"\n",
    "    return 1-dice_coef_2_lean(y_true, y_pred)\n",
    "\n",
    "def vis(arr,i):\n",
    "    plt.imshow(arr[i,:,:,0])\n",
    "    plt.show()\n",
    "    \n",
    "def tumor_filter(features=None,labels=None):\n",
    "    zerocheck = np.any(labels, axis=(1, 2)).flatten()\n",
    "    tumor_indices = np.where(zerocheck==True)\n",
    "    tumor_features = features[tumor_indices]\n",
    "    tumor_labels = labels[tumor_indices]\n",
    "    if tumor_features.shape[0]!=tumor_labels.shape[0]:\n",
    "        print(\"Shapes of tumor filtering are messed up!\")\n",
    "    return tumor_features,tumor_labels\n",
    "\n",
    "def build_model(input_layer, start_neurons):\n",
    "    conv1 = Conv2D(start_neurons * 1, (3, 3), kernel_initializer=\"he_normal\", padding=\"same\")(input_layer)\n",
    "    conv1 = BatchNormalization()(conv1)\n",
    "    conv1 = Conv2D(start_neurons * 1, (3, 3), kernel_initializer=\"he_normal\",padding=\"same\")(conv1)\n",
    "    conv1 = BatchNormalization()(conv1)\n",
    "    pool1 = MaxPooling2D((2, 2))(conv1)\n",
    "\n",
    "    conv2 = Conv2D(start_neurons * 2, (3, 3), kernel_initializer=\"he_normal\", padding=\"same\")(pool1)\n",
    "    conv2 = BatchNormalization()(conv2)\n",
    "    conv2 = Conv2D(start_neurons * 2, (3, 3), kernel_initializer=\"he_normal\", padding=\"same\")(conv2)\n",
    "    conv2 = BatchNormalization()(conv2)\n",
    "    pool2 = MaxPooling2D((2, 2))(conv2)\n",
    "\n",
    "    conv3 = Conv2D(start_neurons * 4, (3, 3), kernel_initializer=\"he_normal\", padding=\"same\")(pool2)\n",
    "    conv3 = BatchNormalization()(conv3)\n",
    "    conv3 = Conv2D(start_neurons * 4, (3, 3), kernel_initializer=\"he_normal\", padding=\"same\")(conv3)\n",
    "    conv3 = BatchNormalization()(conv3)\n",
    "    pool3 = MaxPooling2D((2, 2))(conv3)\n",
    "\n",
    "    conv4 = Conv2D(start_neurons * 8, (3, 3), kernel_initializer=\"he_normal\",  padding=\"same\")(pool3)\n",
    "    conv4 = BatchNormalization()(conv4)\n",
    "    conv4 = Conv2D(start_neurons * 8, (3, 3), kernel_initializer=\"he_normal\", padding=\"same\")(conv4)\n",
    "    conv4 = BatchNormalization()(conv4)\n",
    "\n",
    "    pool4 = MaxPooling2D((2, 2))(conv4)\n",
    "    # Middle\n",
    "    convm = Conv2D(start_neurons * 16, (3, 3), kernel_initializer=\"he_normal\", padding=\"same\")(pool4)\n",
    "    convm = BatchNormalization()(convm)\n",
    "    convm = Conv2D(start_neurons * 16, (3, 3), kernel_initializer=\"he_normal\", padding=\"same\")(convm)\n",
    "    convm = BatchNormalization()(convm)\n",
    "\n",
    "    deconv4 = Conv2DTranspose(start_neurons * 8, (3, 3), kernel_initializer=\"he_normal\", strides=(2, 2), padding=\"same\")(convm)\n",
    "    uconv4 = concatenate([deconv4, conv4])\n",
    "\n",
    "    uconv4 = Conv2D(start_neurons * 8, (3, 3), kernel_initializer=\"he_normal\", padding=\"same\")(uconv4)\n",
    "    uconv4 = BatchNormalization()(uconv4)\n",
    "    uconv4 = Conv2D(start_neurons * 8, (3, 3), kernel_initializer=\"he_normal\", padding=\"same\")(uconv4)\n",
    "    uconv4 = BatchNormalization()(uconv4)\n",
    "\n",
    "    deconv3 = Conv2DTranspose(start_neurons * 4, (3, 3), kernel_initializer=\"he_normal\",strides=(2, 2), padding=\"same\")(uconv4)\n",
    "    uconv3 = concatenate([deconv3, conv3])\n",
    "\n",
    "    uconv3 = Conv2D(start_neurons * 4, (3, 3), kernel_initializer=\"he_normal\", padding=\"same\")(uconv3)\n",
    "    uconv3 = BatchNormalization()(uconv3)\n",
    "    uconv3 = Conv2D(start_neurons * 4, (3, 3), kernel_initializer=\"he_normal\", padding=\"same\")(uconv3)\n",
    "    uconv3 = BatchNormalization()(uconv3)\n",
    "\n",
    "    deconv2 = Conv2DTranspose(start_neurons * 2, (3, 3), kernel_initializer=\"he_normal\", strides=(2, 2), padding=\"same\")(uconv3)\n",
    "    uconv2 = concatenate([deconv2, conv2])\n",
    "\n",
    "    uconv2 = Conv2D(start_neurons * 2, (3, 3),  kernel_initializer=\"he_normal\",padding=\"same\")(uconv2)\n",
    "    uconv2 = BatchNormalization()(uconv2)\n",
    "    uconv2 = Conv2D(start_neurons * 2, (3, 3), kernel_initializer=\"he_normal\", padding=\"same\")(uconv2)\n",
    "    uconv2 = BatchNormalization()(uconv2)\n",
    "\n",
    "    deconv1 = Conv2DTranspose(start_neurons * 1, (3, 3),kernel_initializer=\"he_normal\", strides=(2, 2), padding=\"same\")(uconv2)\n",
    "    uconv1 = concatenate([deconv1, conv1])\n",
    "\n",
    "    uconv1 = Conv2D(start_neurons * 1, (3, 3), kernel_initializer=\"he_normal\", padding=\"same\")(uconv1)\n",
    "    uconv1 = BatchNormalization()(uconv1)\n",
    "    uconv1 = Conv2D(start_neurons * 1, (3, 3), kernel_initializer=\"he_normal\",padding=\"same\")(uconv1)\n",
    "    uconv1 = BatchNormalization()(uconv1)\n",
    "\n",
    "    output_layer = Conv2D(1, (1,1), padding=\"same\", activation=\"sigmoid\")(uconv1)\n",
    "    model = Model(inputs=[input_layer], outputs=[output_layer])\n",
    "\n",
    "    return model\n",
    "    \n",
    "def patient_data_loader(data_path,p_idx,slices,iftrain=1):\n",
    "  if iftrain==1:\n",
    "    ml_type = \"train\"\n",
    "  else :\n",
    "    ml_type = \"test\"\n",
    "    p_idx=p_idx+20\n",
    "  sample_prefix = f'{data_path}/{ml_type}/{p_idx:04d}/{p_idx:04d}'\n",
    "  sample_t1    = nib.load(sample_prefix + '_t1.nii').get_data()[:,:,0:slices]\n",
    "  sample_t1gd  = nib.load(sample_prefix + '_t1Gd.nii').get_data()[:,:,0:slices]\n",
    "  sample_t2    = nib.load(sample_prefix + '_t2.nii').get_data()[:,:,0:slices]\n",
    "  sample_flair = nib.load(sample_prefix + '_flair.nii').get_data()[:,:,0:slices]\n",
    "  if iftrain == 0:\n",
    "    return [sample_t1,sample_t1gd,sample_t2,sample_flair]\n",
    "  else:\n",
    "    sample_gt    = nib.load(sample_prefix + '_GlistrBoost.nii').get_data()[:,:,0:slices]\n",
    "  return [sample_t1,sample_t1gd,sample_t2,sample_flair,sample_gt]\n",
    "\n",
    "def data_visualizer(data,slide):\n",
    "  modalities = ['t1', 't1Gd', 't2', 'flair', 'GlistrBoost']\n",
    "  fig, ax = plt.subplots(nrows=1, ncols=5, figsize=(15, 3))\n",
    "  for i, (scan, modality) in enumerate(zip(data, modalities)):\n",
    "    ax[i].imshow(data[i][:, :, slide], cmap=plt.cm.bone)\n",
    "    ax[i].set_title(modality,color = 'black')\n",
    "  plt.show()\n",
    "\n",
    "DATA = \"data\""
   ]
  },
  {
   "cell_type": "markdown",
   "metadata": {},
   "source": [
    "### Summary of Initial Trial Experiments\n",
    "\n",
    "- Image Augmentation had a positive effect in some cases. Due to a technical reason, the ImageDataGenerator Training did not start with bigger datasets, so we use the `model.fit`` methodology instead.\n",
    "\n",
    "- I have seen that if I compile a dataset with a higher ratio of tumors, then a model trained on this dataset will also have better performance on a dataset having a lot of tumors.\n"
   ]
  },
  {
   "cell_type": "markdown",
   "metadata": {
    "colab_type": "text",
    "id": "04fWJdlBryIv"
   },
   "source": [
    "### Start here : Utilities for Patient Data Loading and Visualization"
   ]
  },
  {
   "cell_type": "code",
   "execution_count": 3,
   "metadata": {
    "colab": {},
    "colab_type": "code",
    "id": "dKaMfwijrstv",
    "scrolled": true
   },
   "outputs": [],
   "source": [
    "def ratio_(num=[],den=[],object_name=\"tumor labels\",**kwargs):\n",
    "    if kwargs.get(\"stringmode\") is not None:\n",
    "        len1=kwargs.get(\"len1\")\n",
    "        len_total=kwargs.get(\"len_total\")\n",
    "        print(f\"The amount of {object_name} in the data is {np.round(100*len1/len_total,1)}%\")\n",
    "    else :\n",
    "        print(f\"The amount of {object_name} in the data is {np.round(100*len(num)/len(den),1)}%\")\n",
    "\n",
    "def data_producer(startpatient=1,endpatient=2,custom_patients=[1,2,3],data_path=DATA,need_patches=False,size_param=40,stride_param=40,slices=155,iftrain=1,balancing_mode=\"filter_tumor\",**kwargs):\n",
    "    if iftrain==1:\n",
    "        print(\"loading data from train folder\")\n",
    "    else :\n",
    "        print(\"loading data from test folder\")\n",
    "    strides = [1,stride_param,stride_param,1]\n",
    "    sizes = [1,size_param,size_param,1]\n",
    "    rates = [1, 1, 1, 1]\n",
    "    \"\"\"Data producer function to produce data for machine learniing. If balancing_mode=filter_tumor, \n",
    "    then additionally features and labels only corresponding to data containing tumor masks are produced\"\"\"\n",
    "    patient_to_visualize = kwargs.get(\"visualize_patient\")\n",
    "    all_image_slices = [] \n",
    "    all_labels = []\n",
    "    tumor_features = []\n",
    "    tumor_labels = []\n",
    "    tumor_label_patches = []\n",
    "    tumor_feature_patches = []\n",
    "    output = {}\n",
    "    if custom_patients is None:\n",
    "      patient_space=range(startpatient,endpatient)\n",
    "    else:\n",
    "      patient_space = custom_patients\n",
    "    for p_idx in patient_space:\n",
    "      print(f\"Patient number {p_idx}\")\n",
    "      patient_features = np.empty((4, 240, 240,slices))\n",
    "      patient_labels = np.empty((1,240,240,slices))\n",
    "      patient_data = patient_data_loader(data_path,p_idx,slices,iftrain=iftrain) \n",
    "      if iftrain==1:\n",
    "        features,labels = patient_data[:-1],patient_data[-1] # all scans for that patient loaded\n",
    "      else :\n",
    "        features = patient_data\n",
    "      if p_idx==patient_to_visualize:\n",
    "        slide = kwargs.get(\"slice_no\")\n",
    "        if slide >= slices:\n",
    "          print(\"Decrease slide number! Program will throw an error!\")\n",
    "      if features[0].sum()!=0:\n",
    "        patient_features[0:4,0:240,0:240,0:slices] = features\n",
    "        #print(f\"Shape of patient features is {patient_features.shape}\")\n",
    "        if iftrain == 1:\n",
    "          patient_labels[0,0:240,0:240,0:slices] = labels\n",
    "          all_labels.append(patient_labels)\n",
    "        all_image_slices.append(patient_features)\n",
    "\n",
    "        #print(len(all_image_slices))\n",
    "      else:\n",
    "        print(\"Anomaly happened, all values in image are 0!\")\n",
    "    if iftrain == 1:\n",
    "      all_labels = np.concatenate(all_labels,axis=3).swapaxes(0,3)\n",
    "      all_labels /= 255.0\n",
    "\n",
    "    all_image_slices = np.concatenate(all_image_slices,axis=3).swapaxes(0,3) \n",
    "    all_image_slices /= 255.0\n",
    "    if iftrain==1:\n",
    "        tumor_features,tumor_labels = tumor_filter(all_image_slices,all_labels)\n",
    "        print(tumor_labels.shape)\n",
    "        print(tumor_features.shape)\n",
    "        if need_patches == True and tumor_features.shape[0]==tumor_labels.shape[0]:\n",
    "            #ratio_(num=tumor_labels,den=all_labels)\n",
    "            tumor_label_patches = np.asarray(image.extract_patches(\n",
    "            images=tumor_labels,\n",
    "            sizes=sizes,\n",
    "            strides=strides,\n",
    "            rates=rates,\n",
    "            padding=\"SAME\",\n",
    "            name=\"label_batches\"),dtype=np.float32)\n",
    "            print(f\"The shape of tumor label patches after patching is {tumor_label_patches.shape}\")\n",
    "\n",
    "            feature_0_patches = np.asarray(image.extract_patches(\n",
    "            images=tumor_features[:,:,:,0:1],\n",
    "            sizes=sizes,\n",
    "            strides=strides,\n",
    "            rates=rates,\n",
    "            padding=\"SAME\",\n",
    "            name=\"feature_batches0\"),dtype=np.float32)\n",
    "\n",
    "            feature_1_patches = np.asarray(image.extract_patches(\n",
    "            images=tumor_features[:,:,:,1:2],\n",
    "            sizes=sizes,\n",
    "            strides=strides,\n",
    "            rates=rates,\n",
    "            padding=\"SAME\",\n",
    "            name=\"feature_batches1\"),dtype=np.float32)\n",
    "\n",
    "            feature_2_patches = np.asarray(image.extract_patches(\n",
    "            images=tumor_features[:,:,:,2:3],\n",
    "            sizes=sizes,\n",
    "            strides=strides,\n",
    "            rates=rates,\n",
    "            padding=\"SAME\",\n",
    "            name=\"feature_batches2\"),dtype=np.float32)\n",
    "\n",
    "            feature_3_patches = np.asarray(image.extract_patches(\n",
    "            images=tumor_features[:,:,:,3:4],\n",
    "            sizes=sizes,\n",
    "            strides=strides,\n",
    "            rates=rates,\n",
    "            padding=\"SAME\",\n",
    "            name=\"feature_batches3\"),dtype=np.float32)\n",
    "\n",
    "            feature_patches = np.stack([feature_0_patches,feature_1_patches,feature_2_patches,feature_3_patches],axis=4) # ,\n",
    "            print(f\"The shaape of feature patches after stacking is {feature_patches.shape}\")\n",
    "            print(f\"Data Producer Complete\")\n",
    "            output = {\"tumor_label_patches\":tumor_label_patches,\"tumor_feature_patches\":feature_patches}\n",
    "    output_add = {\"all_features\":all_image_slices,\"all_labels\":all_labels,\"tumor_features\":tumor_features,\\\n",
    "            \"tumor_labels\":tumor_labels}\n",
    "    return {**output, **output_add}\n",
    "    \n",
    "         \n",
    "    "
   ]
  },
  {
   "cell_type": "markdown",
   "metadata": {
    "colab_type": "text",
    "id": "c_zQ1l9SOdNr"
   },
   "source": [
    "## Generate Patches Data for Learning on Parallel Task\n",
    "\n",
    "kwargs = {\"visualize_patient\":1,\"slice_no\":5}\n",
    "patch_size=64\n",
    "stride = patch_size//4"
   ]
  },
  {
   "cell_type": "code",
   "execution_count": 17,
   "metadata": {
    "colab": {
     "base_uri": "https://localhost:8080/",
     "height": 137
    },
    "colab_type": "code",
    "id": "Et5ab8E5OdNs",
    "outputId": "ef6c828a-8ba0-43cb-b7e6-bf599a9e7e96",
    "scrolled": true
   },
   "outputs": [
    {
     "name": "stdout",
     "output_type": "stream",
     "text": [
      "loading data from train folder\n",
      "Patient number 1\n",
      "Patient number 2\n",
      "Patient number 5\n",
      "Patient number 6\n",
      "Patient number 7\n",
      "Patient number 8\n",
      "Patient number 9\n",
      "(464, 240, 240, 1)\n",
      "(464, 240, 240, 4)\n",
      "The shape of tumor label patches after patching is (464, 15, 15, 4096)\n",
      "The shaape of feature patches after stacking is (464, 15, 15, 4096, 4)\n",
      "Data Producer Complete\n"
     ]
    }
   ],
   "source": [
    "kwargs = {\"visualize_patient\":1,\"slice_no\":5}\n",
    "patch_size=64\n",
    "stride = patch_size//4\n",
    "data_dictionary_first_half= data_producer(custom_patients=[1,2,5,6,7,8,9],startpatient=1,endpatient=10,need_patches=True,size_param = patch_size, stride_param=stride,slices=155,iftrain=1,**kwargs)\n",
    "data_dictionary_first_half_test= data_producer(custom_patients=None,startpatient=3,endpatient=4+1,need_patches=True,size_param = patch_size, stride_param=stride,slices=155,iftrain=1,**kwargs)\n",
    "data_dictionary_second_half= data_producer(custom_patients=None,startpatient=10,endpatient=20+1,need_patches=True,size_param = patch_size, stride_param=stride,slices=155,iftrain=1,**kwargs)\n",
    "\n",
    "#fp = feature_patches.swapaxes(2,3).swapaxes(1,2).reshape(-1,11,11,4)\n",
    "#lp = label_patches.swapaxes(2,3).swapaxes(1,2).reshape(-1,11,11,1)"
   ]
  },
  {
   "cell_type": "code",
   "execution_count": 19,
   "metadata": {
    "colab": {},
    "colab_type": "code",
    "id": "_7iIhIlnoIxT"
   },
   "outputs": [
    {
     "name": "stdout",
     "output_type": "stream",
     "text": [
      "loading data from train folder\n",
      "Patient number 3\n",
      "Patient number 4\n",
      "(165, 240, 240, 1)\n",
      "(165, 240, 240, 4)\n",
      "The shape of tumor label patches after patching is (165, 15, 15, 4096)\n",
      "The shaape of feature patches after stacking is (165, 15, 15, 4096, 4)\n",
      "Data Producer Complete\n"
     ]
    }
   ],
   "source": [
    "data_dictionary_first_half_test= data_producer(custom_patients=None,startpatient=3,endpatient=4+1,need_patches=True,size_param = patch_size, stride_param=stride,slices=155,iftrain=1,**kwargs)\n",
    "\n"
   ]
  },
  {
   "cell_type": "markdown",
   "metadata": {
    "colab_type": "text",
    "id": "cDQm3jQsSj0b"
   },
   "source": [
    "## PREPARING PATCHES FOR 1ST HALF OF PATIENTTS"
   ]
  },
  {
   "cell_type": "code",
   "execution_count": 20,
   "metadata": {
    "colab": {
     "base_uri": "https://localhost:8080/",
     "height": 34
    },
    "colab_type": "code",
    "id": "xzCg6ygMOdNw",
    "outputId": "94ae3834-cc68-4375-809e-bdcf90e30670"
   },
   "outputs": [
    {
     "name": "stdout",
     "output_type": "stream",
     "text": [
      "dict_keys(['all_features', 'all_labels', 'tumor_features', 'tumor_labels', 'tumor_label_patches', 'tumor_feature_patches'])\n",
      "dict_keys(['all_features', 'all_labels', 'tumor_features', 'tumor_labels', 'tumor_label_patches', 'tumor_feature_patches'])\n"
     ]
    }
   ],
   "source": [
    "!#cat /proc/meminfo\n",
    "run_on_first_half = True\n",
    "run_on_first_half_test = True\n",
    "\n",
    "if run_on_first_half == True:\n",
    "    print(data_dictionary_first_half.keys())\n",
    "\n",
    "    tumor_feature_patches1,tumor_label_patches1=data_dictionary_first_half.get(\"tumor_feature_patches\"),data_dictionary_first_half.get(\"tumor_label_patches\")\n",
    "\n",
    "    fp1 = np.asarray(tumor_feature_patches1,dtype=np.float32).reshape(-1,patch_size,patch_size,4)\n",
    "    lp1 = np.asarray(tumor_label_patches1,dtype=np.float32).reshape(-1,patch_size,patch_size,1)\n",
    "\n",
    "if run_on_first_half_test == True:\n",
    "    print(data_dictionary_first_half_test.keys())\n",
    "\n",
    "    tumor_feature_patches1_test,tumor_label_patches1_test=data_dictionary_first_half_test.get(\"tumor_feature_patches\"),data_dictionary_first_half_test.get(\"tumor_label_patches\")\n",
    "\n",
    "    fp1_test = np.asarray(tumor_feature_patches1_test,dtype=np.float32).reshape(-1,patch_size,patch_size,4)\n",
    "    lp1_test = np.asarray(tumor_label_patches1_test,dtype=np.float32).reshape(-1,patch_size,patch_size,1)\n",
    "    \n",
    "\n"
   ]
  },
  {
   "cell_type": "markdown",
   "metadata": {
    "colab_type": "text",
    "id": "S59LShqAOdN-"
   },
   "source": [
    "### Creation of 2 Datasets : Dataset1 has less tumors, Dataset2 has more tumors"
   ]
  },
  {
   "cell_type": "markdown",
   "metadata": {
    "colab_type": "text",
    "id": "S2vUeAQrOdOD"
   },
   "source": [
    "## Next We will Balance the Batches such that we have 30% of Batches without Tumors"
   ]
  },
  {
   "cell_type": "code",
   "execution_count": 21,
   "metadata": {
    "colab": {},
    "colab_type": "code",
    "id": "T10uJjbJOdN_",
    "scrolled": true
   },
   "outputs": [
    {
     "name": "stdout",
     "output_type": "stream",
     "text": [
      "True\n",
      "0.1\n"
     ]
    }
   ],
   "source": [
    "def generate_tumor_healthy_indices(label_patches,ratio_healthy1=0.1):\n",
    "    def generate_meta_label_batches(label_patches=None): \n",
    "        \"\"\"Here we write a loop over all label_patches and save \"\"\"\n",
    "        df = np.zeros((len(label_patches),1),dtype=np.int)\n",
    "        for i in range(label_patches.shape[0]):\n",
    "            zerocheck = np.any(label_patches[i,:,:,0]) # axis=(1, 2)\n",
    "            if zerocheck == True:\n",
    "                df[i]=1\n",
    "            else :\n",
    "                df[i]=0\n",
    "        return df\n",
    "\n",
    "    df_meta = generate_meta_label_batches(label_patches=label_patches)\n",
    "    tumor_patch_idx = np.where(df_meta==1)[0]\n",
    "    healthy_patch_idx = np.where(df_meta==0)[0]\n",
    "    #print(tumor_patch_idx)\n",
    "    print(len(healthy_patch_idx)+len(tumor_patch_idx) == len(df_meta))\n",
    "\n",
    "\n",
    "    ratio_healthy1 = ratio_healthy1\n",
    "    #ratio_healthy2 = 0.1\n",
    "    amount_tumor_patches = len(tumor_patch_idx)\n",
    "    needed_healthy_patches_1 = np.int(ratio_healthy1*len(df_meta))\n",
    "    #needed_healthy_patches_2 = np.int(ratio_healthy2*len(df_meta))\n",
    "    healthy_patches_idx_1 = healthy_patch_idx[np.random.randint(len(healthy_patch_idx), size=(1, needed_healthy_patches_1))]\n",
    "    #healthy_patches_idx_2 = healthy_patch_idx[np.random.randint(len(healthy_patch_idx), size=(1, needed_healthy_patches_2))]\n",
    "\n",
    "    print(len(healthy_patches_idx_1[0])/len(df_meta)) # needed 30% healthy \n",
    "    #print(len(healthy_patches_idx_2[0])/len(df_meta)) # needed 10% healthy\n",
    "    return np.concatenate([tumor_patch_idx,healthy_patches_idx_1[0]])\n",
    "\n",
    "if run_on_first_half_test == True: \n",
    "    indices_to_use1 = generate_tumor_healthy_indices(label_patches=lp1,ratio_healthy1=0.3)\n"
   ]
  },
  {
   "cell_type": "code",
   "execution_count": 10,
   "metadata": {
    "colab": {
     "base_uri": "https://localhost:8080/",
     "height": 34
    },
    "colab_type": "code",
    "id": "gdYrKCiWOdOI",
    "outputId": "232145e0-d744-496a-ab71-000a77d26b9b"
   },
   "outputs": [
    {
     "name": "stdout",
     "output_type": "stream",
     "text": [
      "Now we have 141525 patches of mostly tumor data, now we proceed to machine learning part\n"
     ]
    }
   ],
   "source": [
    "#print(f\"Now we have {fp1.shape[0]} patches of mostly tumor data, now we proceed to machine learning part\")"
   ]
  },
  {
   "cell_type": "code",
   "execution_count": null,
   "metadata": {
    "colab": {},
    "colab_type": "code",
    "id": "L6cb2az0OdOL",
    "scrolled": true
   },
   "outputs": [],
   "source": [
    "def savePickle(data, picklefile):\n",
    "    \"\"\"\n",
    "\n",
    "    :param data: Data to be saved\n",
    "    :param picklefile: Filename for output Pickle file, should have .pickle ending\n",
    "    \"\"\"\n",
    "    import pickle\n",
    "    with open(picklefile, \"wb\") as f:\n",
    "        pickle.dump(data, f,protocol=4)\n",
    "    f.close()\n",
    "\n",
    "data_1_learning_path = os.path.join(DATA,\"data_for_learning1.pkl\")\n",
    "#savePickle(data=data_for_learning1,picklefile=data_1_learning_path)\n",
    "#tumor_70pc = {\"fp\":fp1,\"lp\":lp1}\n",
    "#savePickle(tumor_70pc,\"tumor70patches.pkl\")\n",
    "#tumor_90pc = {\"fp\":fp2,\"lp\":lp2}\n",
    "#savePickle(tumor_90pc,\"tumor90patches.pkl\")"
   ]
  },
  {
   "cell_type": "markdown",
   "metadata": {
    "colab_type": "text",
    "id": "YhiNAZd2OdOR"
   },
   "source": [
    "### Generating Machine Learning Splits on the Patches of Data\n",
    "#### FIRST HALF"
   ]
  },
  {
   "cell_type": "code",
   "execution_count": 23,
   "metadata": {
    "colab": {
     "base_uri": "https://localhost:8080/",
     "height": 337
    },
    "colab_type": "code",
    "id": "r9Q3L8aRT4qu",
    "outputId": "be34e171-ab9c-4c38-f446-a78fa60ee649"
   },
   "outputs": [],
   "source": [
    "X_train1, y_train1, X_valid1,y_valid1  = fp1[indices_to_use1],lp1[indices_to_use1],fp1_test,lp1_test\n"
   ]
  },
  {
   "cell_type": "markdown",
   "metadata": {
    "colab_type": "text",
    "id": "ls9nSW8TOdOi"
   },
   "source": [
    "\n",
    "We need to train a model that will perform tumor segmentation, then generate predictions on the test set.\n",
    "\n",
    "That means that the final test predictions will be evaluated based on the average of the Dice scores computed over batches of size 155. \n",
    "\n"
   ]
  },
  {
   "cell_type": "markdown",
   "metadata": {
    "colab_type": "text",
    "id": "H5QvYB20OdOj"
   },
   "source": [
    "### Defining the Dice Loss and Generator for Feeding the Data"
   ]
  },
  {
   "cell_type": "code",
   "execution_count": 24,
   "metadata": {
    "colab": {},
    "colab_type": "code",
    "id": "l9bijk6NOdOk",
    "scrolled": true
   },
   "outputs": [],
   "source": [
    "\n",
    "def dice_coef(y_true, y_pred):\n",
    "    y_true_f = K.flatten(y_true)\n",
    "    y_pred_f = K.flatten(y_pred)\n",
    "    intersection = K.sum(y_true_f * y_pred_f)\n",
    "    return (2. * intersection + K.epsilon()) / (K.sum(y_true_f) + K.sum(y_pred_f) + K.epsilon())\n",
    "\n",
    "def dice_coef_2_lean(y_true, y_pred, smooth=K.epsilon()):\n",
    "    \"\"\"\n",
    "    Dice = (2*|X & Y|)/ (|X|+ |Y|)\n",
    "         =  2*sum(|A*B|)/(sum(A^2)+sum(B^2))\n",
    "    ref: https://arxiv.org/pdf/1606.04797v1.pdf\n",
    "    \"\"\"\n",
    "    intersection = K.sum(K.abs(y_true * y_pred), axis=-1)\n",
    "    denominator = K.sum(K.square(y_true),-1) + K.sum(K.square(y_pred),-1) + smooth\n",
    "    return (2. * intersection + smooth) / denominator\n",
    "\n",
    "\n",
    "def dice_loss(y_true,y_pred): # this is differentiable\n",
    "    \"\"\"Dice Loss Implementation with squares\"\"\"\n",
    "    return 1-dice_coef_2_lean(y_true, y_pred)\n",
    "\n"
   ]
  },
  {
   "cell_type": "markdown",
   "metadata": {
    "colab_type": "text",
    "id": "yyvPS9yxOdOn"
   },
   "source": [
    "### FIRST WE DO TRAINING ON THE PATCH TASK on FULL Data, Afterwards we will use these Weights to Fine-tune Training on the Intial Task"
   ]
  },
  {
   "cell_type": "code",
   "execution_count": 17,
   "metadata": {
    "colab": {
     "base_uri": "https://localhost:8080/",
     "height": 17
    },
    "colab_type": "code",
    "id": "jOjG4T37aN-R",
    "outputId": "9ef92160-acd9-4eb9-9b60-dc9477f5d5ea"
   },
   "outputs": [
    {
     "data": {
      "application/javascript": [
       "function ClickConnect(){ \n",
       "console.log(\"Working\");\n",
       "document.querySelector(\"colab-toolbar-button#connect\").click() \n",
       "} \n",
       "setInterval(ClickConnect,60000)"
      ],
      "text/plain": [
       "<IPython.core.display.Javascript object>"
      ]
     },
     "metadata": {
      "tags": []
     },
     "output_type": "display_data"
    }
   ],
   "source": [
    "%%javascript\n",
    "function ClickConnect(){ \n",
    "console.log(\"Working\");\n",
    "document.querySelector(\"colab-toolbar-button#connect\").click() \n",
    "} \n",
    "setInterval(ClickConnect,60000)"
   ]
  },
  {
   "cell_type": "code",
   "execution_count": 30,
   "metadata": {
    "colab": {},
    "colab_type": "code",
    "id": "7nghlmqjOdOo",
    "scrolled": true
   },
   "outputs": [],
   "source": [
    "#subsetsize_t = X_train.shape[0]//20\n",
    "#subsetsize_v = X_valid.shape[0]//20\n",
    "weights=None\n",
    "SEED = 1\n",
    "batch_size = 10\n",
    "im_height = im_width = 64\n",
    "epochs = 1\n",
    "input_patch = Input((im_height, im_height,4), name='img')\n",
    "#model_1_path = os.path.join(MODEL,'final_training_generator_1.h5')\n",
    "\n",
    "\n",
    "#weights = model_1_path\n",
    "howmanypatches = X_train1.shape[0]\n",
    "steps_per_epoch = int(np.ceil(len(X_train1)//batch_size))\n",
    "kwargs = {\"epochs\":epochs,\"steps_per_epoch\":steps_per_epoch,\n",
    "                   \"bs\":batch_size,\"model_path\":\"90_10_test_first_half.h5\", \"loss\":dice_loss,\n",
    "                   \"start_neurons\":32,\"optimizer\":optimizers.Adam()}\n",
    "batch_size,epochs = kwargs[\"bs\"],kwargs[\"epochs\"]\n",
    "model = build_model(input_patch, start_neurons=kwargs[\"start_neurons\"])\n",
    "model.compile(optimizer=kwargs[\"optimizer\"], loss=kwargs[\"loss\"],metrics=[\"binary_crossentropy\"])\n",
    "if weights is not None:\n",
    "  model.load_weights(weights)\n",
    "  \n"
   ]
  },
  {
   "cell_type": "code",
   "execution_count": 33,
   "metadata": {
    "colab": {
     "base_uri": "https://localhost:8080/",
     "height": 123
    },
    "colab_type": "code",
    "id": "C4QPdgljbM47",
    "outputId": "0a6faaf8-26d8-4272-8a7d-a22d5aecba55"
   },
   "outputs": [
    {
     "name": "stdout",
     "output_type": "stream",
     "text": [
      "Starting TRAINING ON 30552 patches!\n",
      "Train on 30552 samples, validate on 37125 samples\n",
      "30550/30552 [============================>.] - ETA: 0s - loss: 0.1882 - binary_crossentropy: 1.6327\n",
      "Epoch 00001: binary_crossentropy improved from inf to 1.63262, saving model to 90_10_test_first_half.h5\n",
      "30552/30552 [==============================] - 3032s 99ms/sample - loss: 0.1882 - binary_crossentropy: 1.6326 - val_loss: 0.0440 - val_binary_crossentropy: 0.0029\n"
     ]
    }
   ],
   "source": [
    "def training_main(ml_splits,weights=None,input_layer=None,**kwargs):\n",
    "  [X_train,y_train,X_valid,y_valid] = ml_splits\n",
    "  howmanypatches = X_train.shape[0]\n",
    "  batch_size,epochs = kwargs[\"bs\"],kwargs[\"epochs\"]\n",
    "  steps_per_epoch = int(np.ceil(len(X_train)//batch_size))\n",
    "  model = build_model(input_layer, start_neurons=kwargs[\"start_neurons\"])\n",
    "  model.compile(optimizer=kwargs[\"optimizer\"], loss=kwargs[\"loss\"],metrics=[\"binary_crossentropy\"])\n",
    "  if weights is not None:\n",
    "    model.load_weights(weights)\n",
    "  print(f\"Starting TRAINING ON {howmanypatches} patches!\")\n",
    "  callbacks = [EarlyStopping(patience=10, verbose=1),\n",
    "              ReduceLROnPlateau(factor=0.1, patience=10, min_lr=0.00001, verbose=1),\n",
    "              ModelCheckpoint(kwargs[\"model_path\"], monitor='binary_crossentropy',verbose=1, \n",
    "                              save_best_only=True, save_weights_only=True)]\n",
    "  results = model.fit(X_train, y_train, batch_size=batch_size, epochs=epochs, \n",
    "                              validation_data=(X_valid, y_valid),callbacks=callbacks)\n",
    "  return {\"model\":model,\"results\":results}\n",
    "\n",
    "output1= training_main(input_layer=input_patch,ml_splits = [X_train1, y_train1, X_valid1,y_valid1],**kwargs)"
   ]
  },
  {
   "cell_type": "markdown",
   "metadata": {
    "colab_type": "text",
    "id": "S0OkP3nfjB3I"
   },
   "source": [
    "Convergence NOTE : I HAVE SEEN THAT THE EFFICIENCY OF TRAINING (RATE OF LOSS DECREASE) is much faster with Small Batch size (10) compared to for example 155 that is the amount of brain slices per patient."
   ]
  },
  {
   "cell_type": "markdown",
   "metadata": {
    "colab_type": "text",
    "id": "TSBMgQjRq5ke"
   },
   "source": [
    "## Processing the 2nd Half of Patients"
   ]
  },
  {
   "cell_type": "code",
   "execution_count": 34,
   "metadata": {
    "colab": {
     "base_uri": "https://localhost:8080/",
     "height": 292
    },
    "colab_type": "code",
    "id": "7Z2XszSen3dQ",
    "outputId": "971d02f0-5955-4b53-d3b1-0e7e7ceaeaec"
   },
   "outputs": [
    {
     "name": "stdout",
     "output_type": "stream",
     "text": [
      "The testing patients are [19 18 17 14 12 10 11 15 13]\n",
      "The training patients are [16, 20]\n",
      "loading data from train folder\n",
      "Patient number 19\n",
      "Patient number 18\n",
      "Patient number 17\n",
      "Patient number 14\n",
      "Patient number 12\n",
      "Patient number 10\n",
      "Patient number 11\n",
      "Patient number 15\n",
      "Patient number 13\n",
      "(584, 240, 240, 1)\n",
      "(584, 240, 240, 4)\n",
      "The shape of tumor label patches after patching is (584, 15, 15, 4096)\n",
      "The shaape of feature patches after stacking is (584, 15, 15, 4096, 4)\n",
      "Data Producer Complete\n"
     ]
    }
   ],
   "source": [
    "## We have data from 11 more patients to train and test on.\n",
    "## So we will randomly pick 8 patients to train on and 3 patients out of the 11 remaining to test on.\n",
    "\n",
    "second_batch_training_patients = 10 + np.random.choice(10,9,replace=False)\n",
    "second_batch_testing_patients = [x for x in range(10,21) if x not in second_batch_training_patients]\n",
    "\n",
    "print(f\"The testing patients are {second_batch_training_patients}\")\n",
    "print(f\"The training patients are {second_batch_testing_patients}\")\n",
    "data_dictionary_second_train= data_producer(custom_patients=second_batch_training_patients,need_patches=True,size_param = patch_size, stride_param=stride,slices=155,iftrain=1,**kwargs)\n"
   ]
  },
  {
   "cell_type": "markdown",
   "metadata": {
    "colab_type": "text",
    "id": "1434Yq_hxS-d"
   },
   "source": [
    "## PREPARING PATCHES FOR 2ND HALF OF PATIENTS\n"
   ]
  },
  {
   "cell_type": "code",
   "execution_count": 36,
   "metadata": {
    "colab": {
     "base_uri": "https://localhost:8080/",
     "height": 34
    },
    "colab_type": "code",
    "id": "hZDFqJqNxRS8",
    "outputId": "9e854293-1a16-40a9-89b0-5ca64e38c6d7"
   },
   "outputs": [
    {
     "name": "stdout",
     "output_type": "stream",
     "text": [
      "dict_keys(['all_features', 'all_labels', 'tumor_features', 'tumor_labels', 'tumor_label_patches', 'tumor_feature_patches'])\n"
     ]
    }
   ],
   "source": [
    "## can be reshaped to # sizes[1], sizes[2], depth, where depth is images.shape[3]\n",
    "run_on_first_half = False\n",
    "data_dictionary_second_half = data_dictionary_second_train\n",
    "if run_on_first_half == False:\n",
    "\n",
    "  print(data_dictionary_second_half.keys())\n",
    "  tumor_feature_patches2,tumor_label_patches2=data_dictionary_second_half.get(\"tumor_feature_patches\"),data_dictionary_second_half.get(\"tumor_label_patches\")\n",
    "\n",
    "  #del data_dictionary_second_half\n",
    "  fp2 = np.asarray(tumor_feature_patches2,dtype=np.float32).reshape(-1,patch_size,patch_size,4)\n",
    "  lp2 = np.asarray(tumor_label_patches2,dtype=np.float32).reshape(-1,patch_size,patch_size,1)\n",
    "\n"
   ]
  },
  {
   "cell_type": "code",
   "execution_count": 27,
   "metadata": {
    "colab": {
     "base_uri": "https://localhost:8080/",
     "height": 251
    },
    "colab_type": "code",
    "id": "rvFhz3D0xrZH",
    "outputId": "f7eda6f7-22f5-437b-d3c1-3972fd09877b"
   },
   "outputs": [
    {
     "name": "stdout",
     "output_type": "stream",
     "text": [
      "(55698, 64, 64, 4)\n"
     ]
    },
    {
     "ename": "NameError",
     "evalue": "ignored",
     "output_type": "error",
     "traceback": [
      "\u001b[0;31m---------------------------------------------------------------------------\u001b[0m",
      "\u001b[0;31mNameError\u001b[0m                                 Traceback (most recent call last)",
      "\u001b[0;32m<ipython-input-27-e71b28e4b00c>\u001b[0m in \u001b[0;36m<module>\u001b[0;34m()\u001b[0m\n\u001b[1;32m      7\u001b[0m   \u001b[0;32mdel\u001b[0m \u001b[0mdata_dictionary_second_train\u001b[0m\u001b[0;34m\u001b[0m\u001b[0;34m\u001b[0m\u001b[0m\n\u001b[1;32m      8\u001b[0m \u001b[0;34m\u001b[0m\u001b[0m\n\u001b[0;32m----> 9\u001b[0;31m \u001b[0;32mdel\u001b[0m \u001b[0mX_train\u001b[0m\u001b[0;34m\u001b[0m\u001b[0;34m\u001b[0m\u001b[0m\n\u001b[0m\u001b[1;32m     10\u001b[0m \u001b[0;32mdel\u001b[0m \u001b[0mX_valid\u001b[0m\u001b[0;34m\u001b[0m\u001b[0;34m\u001b[0m\u001b[0m\n\u001b[1;32m     11\u001b[0m \u001b[0;32mdel\u001b[0m \u001b[0my_train\u001b[0m\u001b[0;34m\u001b[0m\u001b[0;34m\u001b[0m\u001b[0m\n",
      "\u001b[0;31mNameError\u001b[0m: name 'X_train' is not defined"
     ]
    }
   ],
   "source": [
    "#indices_to_use2 = generate_tumor_healthy_indices(label_patches=lp2)\n",
    "from sklearn.model_selection import train_test_split\n",
    "#X_train2,y_train2= fp2[indices_to_use2],lp2[indices_to_use2]\n",
    "print(X_train2.shape)\n",
    "if \"data_dictionary_second_half\" in locals():\n",
    "  del data_dictionary_second_half\n",
    "if \"data_dictionary_second_train\" in locals():\n",
    "  del data_dictionary_second_train\n"
   ]
  },
  {
   "cell_type": "code",
   "execution_count": 37,
   "metadata": {
    "colab": {
     "base_uri": "https://localhost:8080/",
     "height": 172
    },
    "colab_type": "code",
    "id": "hGDEDBpHwrJv",
    "outputId": "35806b4c-96dd-4802-bf0a-443e77988dd9"
   },
   "outputs": [
    {
     "name": "stdout",
     "output_type": "stream",
     "text": [
      "loading data from train folder\n",
      "Patient number 16\n",
      "Patient number 20\n",
      "(145, 240, 240, 1)\n",
      "(145, 240, 240, 4)\n",
      "The shape of tumor label patches after patching is (145, 15, 15, 4096)\n",
      "The shaape of feature patches after stacking is (145, 15, 15, 4096, 4)\n",
      "Data Producer Complete\n"
     ]
    }
   ],
   "source": [
    "data_dictionary_second_test= data_producer(custom_patients=second_batch_testing_patients,need_patches=True,size_param = patch_size, stride_param=stride,slices=155,iftrain=1,**kwargs)\n"
   ]
  },
  {
   "cell_type": "code",
   "execution_count": 38,
   "metadata": {
    "colab": {
     "base_uri": "https://localhost:8080/",
     "height": 34
    },
    "colab_type": "code",
    "id": "xeW7gZ283BuJ",
    "outputId": "69acf2dc-fca1-4d69-cc7f-9507ef86a295"
   },
   "outputs": [
    {
     "name": "stdout",
     "output_type": "stream",
     "text": [
      "dict_keys(['all_features', 'all_labels', 'tumor_features', 'tumor_labels', 'tumor_label_patches', 'tumor_feature_patches'])\n"
     ]
    }
   ],
   "source": [
    "## can be reshaped to # sizes[1], sizes[2], depth, where depth is images.shape[3]\n",
    "run_on_first_half = False\n",
    "if run_on_first_half == False:\n",
    "\n",
    "  print(data_dictionary_second_test.keys())\n",
    "  tumor_feature_patches3,tumor_label_patches3=data_dictionary_second_test.get(\"tumor_feature_patches\"),data_dictionary_second_test.get(\"tumor_label_patches\")\n",
    "\n",
    "  #del data_dictionary_second_test\n",
    "  fp3 = np.asarray(tumor_feature_patches3,dtype=np.float32).reshape(-1,patch_size,patch_size,4)\n",
    "  lp3 = np.asarray(tumor_label_patches3,dtype=np.float32).reshape(-1,patch_size,patch_size,1)\n"
   ]
  },
  {
   "cell_type": "code",
   "execution_count": 39,
   "metadata": {
    "colab": {
     "base_uri": "https://localhost:8080/",
     "height": 86
    },
    "colab_type": "code",
    "id": "LIH5HuyI3fwu",
    "outputId": "e5db952b-ee7e-4bf1-f3e6-b1572857a32f"
   },
   "outputs": [
    {
     "name": "stdout",
     "output_type": "stream",
     "text": [
      "True\n",
      "0.3\n",
      "(32625, 64, 64, 4)\n",
      "(66043, 64, 64, 4)\n",
      "(32625, 64, 64, 1)\n",
      "(66043, 64, 64, 1)\n"
     ]
    }
   ],
   "source": [
    "indices_to_use2 = generate_tumor_healthy_indices(label_patches=lp2,ratio_healthy1=0.3)\n",
    "X_train2,y_train2= fp2[indices_to_use2],lp2[indices_to_use2]\n",
    "y_valid2 = lp3\n",
    "X_valid2 = fp3\n",
    "print(X_valid2.shape)\n",
    "print(X_train2.shape)\n",
    "print(y_valid2.shape)\n",
    "print(y_train2.shape)"
   ]
  },
  {
   "cell_type": "code",
   "execution_count": 44,
   "metadata": {
    "colab": {
     "base_uri": "https://localhost:8080/",
     "height": 86
    },
    "colab_type": "code",
    "id": "QC3oLZcw2T3k",
    "outputId": "065ea430-2fc1-4262-833c-d5b9bd242146"
   },
   "outputs": [],
   "source": [
    "batch_size = 10\n",
    "#weights =  os.path.join(MODEL,'final_training_generator_1.h5')\n",
    "weights = \"90_10_test_first_half.h5\"\n",
    "im_height = im_width = 64\n",
    "epochs = 2\n",
    "input_patch = Input((im_height, im_height,4), name='img')\n",
    "#model_2_path = os.path.join(MODEL,\"model_2_final_70.h5\")\n",
    "model_2_path = \"model_2_final_70_imp.h5\"\n",
    "steps_per_epoch = int(np.ceil(len(X_train2)//batch_size))\n",
    "kwargs = {\"epochs\":epochs,\"steps_per_epoch\":steps_per_epoch,\n",
    "                   \"bs\":batch_size,\"model_path\":model_2_path, \"loss\":dice_loss,\n",
    "                   \"start_neurons\":32,\"optimizer\":optimizers.Adam()}\n",
    "#output2_realistic = training_main(weights=weights,input_layer=input_patch,ml_splits = [X_train2,y_train2,X_valid2,y_valid2],**kwargs)"
   ]
  },
  {
   "attachments": {
    "image.png": {
     "image/png": "[encoded data removed]"
    }
   },
   "cell_type": "markdown",
   "metadata": {},
   "source": [
    "####  Example of Training mid-Result for 1 Epoch on 2nd Part of Data\n",
    "![image.png](attachment:image.png)"
   ]
  },
  {
   "cell_type": "code",
   "execution_count": null,
   "metadata": {},
   "outputs": [],
   "source": [
    "#model_to_be_used_for_final_task = output2_realistic.get(\"model\")"
   ]
  },
  {
   "cell_type": "code",
   "execution_count": null,
   "metadata": {
    "colab": {},
    "colab_type": "code",
    "id": "sCP5ypuVOdO2",
    "outputId": "40931a59-a348-49ef-acbf-929175dedc06",
    "scrolled": true
   },
   "outputs": [
    {
     "name": "stdout",
     "output_type": "stream",
     "text": [
      "775/775 [==============================] - ETA: 2:59 - loss: 0.6533 - binary_crossentropy: 57758.515 - ETA: 2:49 - loss: 0.4922 - binary_crossentropy: 39011.007 - ETA: 2:41 - loss: 0.4054 - binary_crossentropy: 30788.021 - ETA: 2:34 - loss: 0.4060 - binary_crossentropy: 30309.576 - ETA: 2:30 - loss: 0.5139 - binary_crossentropy: 45893.730 - ETA: 2:21 - loss: 0.5449 - binary_crossentropy: 48173.550 - ETA: 2:13 - loss: 0.5294 - binary_crossentropy: 44076.875 - ETA: 2:05 - loss: 0.5007 - binary_crossentropy: 39716.097 - ETA: 1:57 - loss: 0.4988 - binary_crossentropy: 38491.582 - ETA: 1:49 - loss: 0.5432 - binary_crossentropy: 45226.925 - ETA: 1:41 - loss: 0.5522 - binary_crossentropy: 45837.621 - ETA: 1:33 - loss: 0.5425 - binary_crossentropy: 43444.949 - ETA: 1:25 - loss: 0.5241 - binary_crossentropy: 40841.043 - ETA: 1:18 - loss: 0.5244 - binary_crossentropy: 40346.070 - ETA: 1:10 - loss: 0.5447 - binary_crossentropy: 43523.023 - ETA: 1:02 - loss: 0.5431 - binary_crossentropy: 43670.320 - ETA: 55s - loss: 0.5309 - binary_crossentropy: 42316.683 - ETA: 47s - loss: 0.5201 - binary_crossentropy: 41073.93 - ETA: 39s - loss: 0.5252 - binary_crossentropy: 41753.14 - ETA: 32s - loss: 0.5426 - binary_crossentropy: 44541.30 - ETA: 24s - loss: 0.5399 - binary_crossentropy: 44338.90 - ETA: 16s - loss: 0.5285 - binary_crossentropy: 43336.50 - ETA: 9s - loss: 0.5198 - binary_crossentropy: 42446.8516 - ETA: 1s - loss: 0.5315 - binary_crossentropy: 44108.007 - 184s 238ms/sample - loss: 0.5355 - binary_crossentropy: 44757.5938\n"
     ]
    },
    {
     "data": {
      "text/plain": [
       "[0.5355254359399119, 44757.594]"
      ]
     },
     "execution_count": 84,
     "metadata": {
      "tags": []
     },
     "output_type": "execute_result"
    }
   ],
   "source": [
    "# X_train_t, etc --- these are the TUMOR DATASETS!\n",
    "# LAST LOSS OPTION : BIN CROSS ENTROPY + DICE LOSS\n",
    "# we see that\n",
    "# 30% of HEALTHYS (data1) in TRAINING---> on full data where there are 46% tumors, we get [0.5463906633469366, 112934.84]\n",
    "# 10% of HEALTHYS (data2 in TRAINING ----> on full data where there are 46% tumors, we get [0.5355254359399119, 44757.594]\n"
   ]
  },
  {
   "cell_type": "markdown",
   "metadata": {
    "colab_type": "text",
    "id": "aaIjlWSrOdO4"
   },
   "source": [
    "Here we see the results. Without a longer thought, the results might seem counterintuitive, namely:\n",
    "**model that was trained on batch where 90% of them have tumor masks got a higher performance on data where there  only 46% of image slices have tumors**. For that reason, we train the U-Net first on 90%-tumor data followed by which we do the fine-tuning on 70-30 ratio."
   ]
  },
  {
   "cell_type": "markdown",
   "metadata": {
    "colab": {},
    "colab_type": "code",
    "id": "KgBYxVtfOdPB",
    "outputId": "8f560e34-073c-4761-f9c2-d191cd600d2e"
   },
   "source": [
    "### What if We Used Only Patches that Have Tumor Masks?\n"
   ]
  },
  {
   "cell_type": "markdown",
   "metadata": {
    "colab_type": "text",
    "id": "CPSld33COdPE"
   },
   "source": [
    "Ahaaa! This means  that when we use only tumor features, that means that their area would dominate and the network starts to predict all pixels as mask as the baseline since the loss function doesn't penalize predicting the tumor! Let's see if the models trained on 90% and 70% of tumors also got stuck in this local minimum:"
   ]
  },
  {
   "cell_type": "code",
   "execution_count": null,
   "metadata": {
    "colab": {},
    "colab_type": "code",
    "id": "rXlt_8J8OdPF",
    "outputId": "a4f61382-36a5-4a8a-cfd3-49b57e0e7c3c",
    "scrolled": true
   },
   "outputs": [
    {
     "data": {
      "image/png": "[encoded data removed]",
      "text/plain": [
       "<Figure size 432x288 with 1 Axes>"
      ]
     },
     "metadata": {
      "tags": []
     },
     "output_type": "display_data"
    }
   ],
   "source": [
    "#model_full.load_weights('generator_model_data2.h5')\n",
    "#f2 = model_full.predict(all_features[0:5])\n",
    "#vis(f2,4)\n"
   ]
  },
  {
   "cell_type": "code",
   "execution_count": null,
   "metadata": {
    "colab": {},
    "colab_type": "code",
    "id": "pM617QKDOdPI",
    "outputId": "c9cb74f3-6d87-463f-a880-39db357b0501",
    "scrolled": true
   },
   "outputs": [
    {
     "data": {
      "image/png": "[encoded data removed]",
      "text/plain": [
       "<Figure size 432x288 with 1 Axes>"
      ]
     },
     "metadata": {
      "tags": []
     },
     "output_type": "display_data"
    }
   ],
   "source": [
    "#model_full.load_weights('generator_model_data1.h5')\n",
    "#f1 = model_full.predict(all_features[0:5])\n",
    "#vis(f1,2)\n"
   ]
  },
  {
   "cell_type": "markdown",
   "metadata": {
    "colab_type": "text",
    "id": "gm54pFnzOdPL"
   },
   "source": [
    "Since that indeed seems to be the possibility, we know it is up to the training procedure to sort it out where the balance should lie."
   ]
  },
  {
   "cell_type": "code",
   "execution_count": 52,
   "metadata": {},
   "outputs": [],
   "source": [
    "if \"data_dictionary_first_half\" in locals():\n",
    "    del data_dictionary_first_half\n",
    "if \"data_dictionary_second_half\" in locals():\n",
    "    del data_dictionary_second_half\n",
    "        \n"
   ]
  },
  {
   "cell_type": "markdown",
   "metadata": {
    "colab_type": "text",
    "id": "JG9Bz0GDOdPW"
   },
   "source": [
    "## Getting the Full Data Splits for Final Tuning"
   ]
  },
  {
   "cell_type": "code",
   "execution_count": 10,
   "metadata": {},
   "outputs": [
    {
     "name": "stdout",
     "output_type": "stream",
     "text": [
      "loading data from train folder\n",
      "Patient number 1\n",
      "Patient number 2\n",
      "Patient number 3\n",
      "Patient number 4\n",
      "Patient number 5\n",
      "Patient number 6\n",
      "Patient number 7\n",
      "Patient number 8\n",
      "Patient number 9\n",
      "Patient number 10\n",
      "Patient number 11\n",
      "Patient number 12\n",
      "Patient number 13\n",
      "Patient number 14\n",
      "Patient number 15\n",
      "Patient number 16\n",
      "Patient number 17\n",
      "Patient number 18\n",
      "Patient number 19\n",
      "(1273, 240, 240, 1)\n",
      "(1273, 240, 240, 4)\n",
      "loading data from train folder\n",
      "Patient number 20\n",
      "(85, 240, 240, 1)\n",
      "(85, 240, 240, 4)\n",
      "(2945, 240, 240, 1)\n",
      "(155, 240, 240, 4)\n"
     ]
    }
   ],
   "source": [
    "## FOR FINAL MODEL, WE TRAIN THE FULL MODEL ON THE 18 PATIENTS DATA AND VALIDATE ON 2 PATIENTS.\n",
    "## NOTE THAT FOR FAIRNESS, THE VALIDATION PATIENTS SHOULD BE THE SAME AS BEFORE.\n",
    "kwargs = {}\n",
    "p = [1,2,3,4,5,6,7,8,9]\n",
    "second_batch_training_patients = [10,11,12,13,14,15,16,17,18,19]\n",
    "second_batch_testing_patients = [20]\n",
    "patch_size=64\n",
    "stride = patch_size//4\n",
    "p.extend(second_batch_training_patients)\n",
    "final_task_training= data_producer(custom_patients=p,need_patches=False,size_param = patch_size, stride_param=stride,slices=155,iftrain=1,**kwargs)\n",
    "final_task_testing= data_producer(custom_patients=second_batch_testing_patients,need_patches=False,size_param = patch_size, stride_param=stride,slices=155,iftrain=1,**kwargs)\n",
    "X_train3,y_train3 = final_task_training[\"all_features\"],final_task_training[\"all_labels\"]\n",
    "print(final_task_training[\"all_labels\"].shape)\n",
    "X_valid3,y_valid3 = final_task_testing[\"all_features\"],final_task_testing[\"all_labels\"]\n",
    "print(final_task_testing[\"all_features\"].shape)"
   ]
  },
  {
   "cell_type": "markdown",
   "metadata": {
    "colab_type": "text",
    "id": "Iah9rlvwOdPb"
   },
   "source": [
    "# START FINAL MODEL FINE-TUNING HERE"
   ]
  },
  {
   "cell_type": "markdown",
   "metadata": {
    "colab_type": "text",
    "id": "JsXDDdEXOdPm"
   },
   "source": [
    "### Now after Training on the full data for base task (task 1, we use these weights to do supervized fine-tuning on the main task)"
   ]
  },
  {
   "cell_type": "code",
   "execution_count": 12,
   "metadata": {
    "colab": {},
    "colab_type": "code",
    "id": "khwSnQUEOdPb"
   },
   "outputs": [
    {
     "name": "stdout",
     "output_type": "stream",
     "text": [
      "Weights trained on the base task on all patients except 16 and 20 loaded!\n",
      "Train on 2945 samples, validate on 155 samples\n",
      "Epoch 1/3\n",
      "2940/2945 [============================>.] - ETA: 4s - loss: 0.0115 - binary_crossentropy: 0.0045 \n",
      "Epoch 00001: binary_crossentropy improved from inf to 0.00453, saving model to final_model_19_patients.h5\n",
      "2945/2945 [==============================] - 2867s 974ms/sample - loss: 0.0114 - binary_crossentropy: 0.0045 - val_loss: 0.0245 - val_binary_crossentropy: 0.0010\n",
      "Epoch 2/3\n",
      "2940/2945 [============================>.] - ETA: 4s - loss: 0.0110 - binary_crossentropy: 0.0033 \n",
      "Epoch 00002: binary_crossentropy improved from 0.00453 to 0.00334, saving model to final_model_19_patients.h5\n",
      "2945/2945 [==============================] - 2870s 975ms/sample - loss: 0.0110 - binary_crossentropy: 0.0033 - val_loss: 0.0250 - val_binary_crossentropy: 0.0011\n",
      "Epoch 3/3\n",
      "  90/2945 [..............................] - ETA: 45:36 - loss: 0.0158 - binary_crossentropy: 7.8963e-04WARNING:tensorflow:Early stopping conditioned on metric `val_loss` which is not available. Available metrics are: loss,binary_crossentropy\n",
      "WARNING:tensorflow:Reduce LR on plateau conditioned on metric `val_loss` which is not available. Available metrics are: loss,binary_crossentropy,lr\n",
      "\n",
      "Epoch 00003: binary_crossentropy improved from 0.00334 to 0.00079, saving model to final_model_19_patients.h5\n",
      "  90/2945 [..............................] - ETA: 45:41 - loss: 0.0158 - binary_crossentropy: 7.8963e-04"
     ]
    },
    {
     "ename": "KeyboardInterrupt",
     "evalue": "",
     "output_type": "error",
     "traceback": [
      "\u001b[0;31m---------------------------------------------------------------------------\u001b[0m",
      "\u001b[0;31mKeyboardInterrupt\u001b[0m                         Traceback (most recent call last)",
      "\u001b[0;32m<ipython-input-12-310c7efe0bbe>\u001b[0m in \u001b[0;36m<module>\u001b[0;34m()\u001b[0m\n\u001b[1;32m     13\u001b[0m \u001b[0;34m\u001b[0m\u001b[0m\n\u001b[1;32m     14\u001b[0m results_final = model_final.fit(X_train3, y_train3, batch_size=30, epochs=epochs, \n\u001b[0;32m---> 15\u001b[0;31m                             validation_data=(X_valid3, y_valid3),callbacks=callbacks2)\n\u001b[0m\u001b[1;32m     16\u001b[0m \u001b[0;31m# spare weights are : 'model2_prefinal.h5' --- this is the one I reached before\u001b[0m\u001b[0;34m\u001b[0m\u001b[0;34m\u001b[0m\u001b[0m\n\u001b[1;32m     17\u001b[0m \u001b[0;31m#results_final.evaluate(all_features,all_labels,verbose=1) # see what this result comes first, that's what we're interested in!\u001b[0m\u001b[0;34m\u001b[0m\u001b[0;34m\u001b[0m\u001b[0m\n",
      "\u001b[0;32m~/.local/lib/python3.6/site-packages/tensorflow_core/python/keras/engine/training.py\u001b[0m in \u001b[0;36mfit\u001b[0;34m(self, x, y, batch_size, epochs, verbose, callbacks, validation_split, validation_data, shuffle, class_weight, sample_weight, initial_epoch, steps_per_epoch, validation_steps, validation_freq, max_queue_size, workers, use_multiprocessing, **kwargs)\u001b[0m\n\u001b[1;32m    817\u001b[0m         \u001b[0mmax_queue_size\u001b[0m\u001b[0;34m=\u001b[0m\u001b[0mmax_queue_size\u001b[0m\u001b[0;34m,\u001b[0m\u001b[0;34m\u001b[0m\u001b[0m\n\u001b[1;32m    818\u001b[0m         \u001b[0mworkers\u001b[0m\u001b[0;34m=\u001b[0m\u001b[0mworkers\u001b[0m\u001b[0;34m,\u001b[0m\u001b[0;34m\u001b[0m\u001b[0m\n\u001b[0;32m--> 819\u001b[0;31m         use_multiprocessing=use_multiprocessing)\n\u001b[0m\u001b[1;32m    820\u001b[0m \u001b[0;34m\u001b[0m\u001b[0m\n\u001b[1;32m    821\u001b[0m   def evaluate(self,\n",
      "\u001b[0;32m~/.local/lib/python3.6/site-packages/tensorflow_core/python/keras/engine/training_v2.py\u001b[0m in \u001b[0;36mfit\u001b[0;34m(self, model, x, y, batch_size, epochs, verbose, callbacks, validation_split, validation_data, shuffle, class_weight, sample_weight, initial_epoch, steps_per_epoch, validation_steps, validation_freq, max_queue_size, workers, use_multiprocessing, **kwargs)\u001b[0m\n\u001b[1;32m    340\u001b[0m                 \u001b[0mmode\u001b[0m\u001b[0;34m=\u001b[0m\u001b[0mModeKeys\u001b[0m\u001b[0;34m.\u001b[0m\u001b[0mTRAIN\u001b[0m\u001b[0;34m,\u001b[0m\u001b[0;34m\u001b[0m\u001b[0m\n\u001b[1;32m    341\u001b[0m                 \u001b[0mtraining_context\u001b[0m\u001b[0;34m=\u001b[0m\u001b[0mtraining_context\u001b[0m\u001b[0;34m,\u001b[0m\u001b[0;34m\u001b[0m\u001b[0m\n\u001b[0;32m--> 342\u001b[0;31m                 total_epochs=epochs)\n\u001b[0m\u001b[1;32m    343\u001b[0m             \u001b[0mcbks\u001b[0m\u001b[0;34m.\u001b[0m\u001b[0mmake_logs\u001b[0m\u001b[0;34m(\u001b[0m\u001b[0mmodel\u001b[0m\u001b[0;34m,\u001b[0m \u001b[0mepoch_logs\u001b[0m\u001b[0;34m,\u001b[0m \u001b[0mtraining_result\u001b[0m\u001b[0;34m,\u001b[0m \u001b[0mModeKeys\u001b[0m\u001b[0;34m.\u001b[0m\u001b[0mTRAIN\u001b[0m\u001b[0;34m)\u001b[0m\u001b[0;34m\u001b[0m\u001b[0m\n\u001b[1;32m    344\u001b[0m \u001b[0;34m\u001b[0m\u001b[0m\n",
      "\u001b[0;32m~/.local/lib/python3.6/site-packages/tensorflow_core/python/keras/engine/training_v2.py\u001b[0m in \u001b[0;36mrun_one_epoch\u001b[0;34m(model, iterator, execution_function, dataset_size, batch_size, strategy, steps_per_epoch, num_samples, mode, training_context, total_epochs)\u001b[0m\n\u001b[1;32m    126\u001b[0m         step=step, mode=mode, size=current_batch_size) as batch_logs:\n\u001b[1;32m    127\u001b[0m       \u001b[0;32mtry\u001b[0m\u001b[0;34m:\u001b[0m\u001b[0;34m\u001b[0m\u001b[0m\n\u001b[0;32m--> 128\u001b[0;31m         \u001b[0mbatch_outs\u001b[0m \u001b[0;34m=\u001b[0m \u001b[0mexecution_function\u001b[0m\u001b[0;34m(\u001b[0m\u001b[0miterator\u001b[0m\u001b[0;34m)\u001b[0m\u001b[0;34m\u001b[0m\u001b[0m\n\u001b[0m\u001b[1;32m    129\u001b[0m       \u001b[0;32mexcept\u001b[0m \u001b[0;34m(\u001b[0m\u001b[0mStopIteration\u001b[0m\u001b[0;34m,\u001b[0m \u001b[0merrors\u001b[0m\u001b[0;34m.\u001b[0m\u001b[0mOutOfRangeError\u001b[0m\u001b[0;34m)\u001b[0m\u001b[0;34m:\u001b[0m\u001b[0;34m\u001b[0m\u001b[0m\n\u001b[1;32m    130\u001b[0m         \u001b[0;31m# TODO(kaftan): File bug about tf function and errors.OutOfRangeError?\u001b[0m\u001b[0;34m\u001b[0m\u001b[0;34m\u001b[0m\u001b[0m\n",
      "\u001b[0;32m~/.local/lib/python3.6/site-packages/tensorflow_core/python/keras/engine/training_v2_utils.py\u001b[0m in \u001b[0;36mexecution_function\u001b[0;34m(input_fn)\u001b[0m\n\u001b[1;32m     96\u001b[0m     \u001b[0;31m# `numpy` translates Tensors to values in Eager mode.\u001b[0m\u001b[0;34m\u001b[0m\u001b[0;34m\u001b[0m\u001b[0m\n\u001b[1;32m     97\u001b[0m     return nest.map_structure(_non_none_constant_value,\n\u001b[0;32m---> 98\u001b[0;31m                               distributed_function(input_fn))\n\u001b[0m\u001b[1;32m     99\u001b[0m \u001b[0;34m\u001b[0m\u001b[0m\n\u001b[1;32m    100\u001b[0m   \u001b[0;32mreturn\u001b[0m \u001b[0mexecution_function\u001b[0m\u001b[0;34m\u001b[0m\u001b[0m\n",
      "\u001b[0;32m~/.local/lib/python3.6/site-packages/tensorflow_core/python/eager/def_function.py\u001b[0m in \u001b[0;36m__call__\u001b[0;34m(self, *args, **kwds)\u001b[0m\n\u001b[1;32m    566\u001b[0m         \u001b[0mxla_context\u001b[0m\u001b[0;34m.\u001b[0m\u001b[0mExit\u001b[0m\u001b[0;34m(\u001b[0m\u001b[0;34m)\u001b[0m\u001b[0;34m\u001b[0m\u001b[0m\n\u001b[1;32m    567\u001b[0m     \u001b[0;32melse\u001b[0m\u001b[0;34m:\u001b[0m\u001b[0;34m\u001b[0m\u001b[0m\n\u001b[0;32m--> 568\u001b[0;31m       \u001b[0mresult\u001b[0m \u001b[0;34m=\u001b[0m \u001b[0mself\u001b[0m\u001b[0;34m.\u001b[0m\u001b[0m_call\u001b[0m\u001b[0;34m(\u001b[0m\u001b[0;34m*\u001b[0m\u001b[0margs\u001b[0m\u001b[0;34m,\u001b[0m \u001b[0;34m**\u001b[0m\u001b[0mkwds\u001b[0m\u001b[0;34m)\u001b[0m\u001b[0;34m\u001b[0m\u001b[0m\n\u001b[0m\u001b[1;32m    569\u001b[0m \u001b[0;34m\u001b[0m\u001b[0m\n\u001b[1;32m    570\u001b[0m     \u001b[0;32mif\u001b[0m \u001b[0mtracing_count\u001b[0m \u001b[0;34m==\u001b[0m \u001b[0mself\u001b[0m\u001b[0;34m.\u001b[0m\u001b[0m_get_tracing_count\u001b[0m\u001b[0;34m(\u001b[0m\u001b[0;34m)\u001b[0m\u001b[0;34m:\u001b[0m\u001b[0;34m\u001b[0m\u001b[0m\n",
      "\u001b[0;32m~/.local/lib/python3.6/site-packages/tensorflow_core/python/eager/def_function.py\u001b[0m in \u001b[0;36m_call\u001b[0;34m(self, *args, **kwds)\u001b[0m\n\u001b[1;32m    597\u001b[0m       \u001b[0;31m# In this case we have created variables on the first call, so we run the\u001b[0m\u001b[0;34m\u001b[0m\u001b[0;34m\u001b[0m\u001b[0m\n\u001b[1;32m    598\u001b[0m       \u001b[0;31m# defunned version which is guaranteed to never create variables.\u001b[0m\u001b[0;34m\u001b[0m\u001b[0;34m\u001b[0m\u001b[0m\n\u001b[0;32m--> 599\u001b[0;31m       \u001b[0;32mreturn\u001b[0m \u001b[0mself\u001b[0m\u001b[0;34m.\u001b[0m\u001b[0m_stateless_fn\u001b[0m\u001b[0;34m(\u001b[0m\u001b[0;34m*\u001b[0m\u001b[0margs\u001b[0m\u001b[0;34m,\u001b[0m \u001b[0;34m**\u001b[0m\u001b[0mkwds\u001b[0m\u001b[0;34m)\u001b[0m  \u001b[0;31m# pylint: disable=not-callable\u001b[0m\u001b[0;34m\u001b[0m\u001b[0m\n\u001b[0m\u001b[1;32m    600\u001b[0m     \u001b[0;32melif\u001b[0m \u001b[0mself\u001b[0m\u001b[0;34m.\u001b[0m\u001b[0m_stateful_fn\u001b[0m \u001b[0;32mis\u001b[0m \u001b[0;32mnot\u001b[0m \u001b[0;32mNone\u001b[0m\u001b[0;34m:\u001b[0m\u001b[0;34m\u001b[0m\u001b[0m\n\u001b[1;32m    601\u001b[0m       \u001b[0;31m# Release the lock early so that multiple threads can perform the call\u001b[0m\u001b[0;34m\u001b[0m\u001b[0;34m\u001b[0m\u001b[0m\n",
      "\u001b[0;32m~/.local/lib/python3.6/site-packages/tensorflow_core/python/eager/function.py\u001b[0m in \u001b[0;36m__call__\u001b[0;34m(self, *args, **kwargs)\u001b[0m\n\u001b[1;32m   2361\u001b[0m     \u001b[0;32mwith\u001b[0m \u001b[0mself\u001b[0m\u001b[0;34m.\u001b[0m\u001b[0m_lock\u001b[0m\u001b[0;34m:\u001b[0m\u001b[0;34m\u001b[0m\u001b[0m\n\u001b[1;32m   2362\u001b[0m       \u001b[0mgraph_function\u001b[0m\u001b[0;34m,\u001b[0m \u001b[0margs\u001b[0m\u001b[0;34m,\u001b[0m \u001b[0mkwargs\u001b[0m \u001b[0;34m=\u001b[0m \u001b[0mself\u001b[0m\u001b[0;34m.\u001b[0m\u001b[0m_maybe_define_function\u001b[0m\u001b[0;34m(\u001b[0m\u001b[0margs\u001b[0m\u001b[0;34m,\u001b[0m \u001b[0mkwargs\u001b[0m\u001b[0;34m)\u001b[0m\u001b[0;34m\u001b[0m\u001b[0m\n\u001b[0;32m-> 2363\u001b[0;31m     \u001b[0;32mreturn\u001b[0m \u001b[0mgraph_function\u001b[0m\u001b[0;34m.\u001b[0m\u001b[0m_filtered_call\u001b[0m\u001b[0;34m(\u001b[0m\u001b[0margs\u001b[0m\u001b[0;34m,\u001b[0m \u001b[0mkwargs\u001b[0m\u001b[0;34m)\u001b[0m  \u001b[0;31m# pylint: disable=protected-access\u001b[0m\u001b[0;34m\u001b[0m\u001b[0m\n\u001b[0m\u001b[1;32m   2364\u001b[0m \u001b[0;34m\u001b[0m\u001b[0m\n\u001b[1;32m   2365\u001b[0m   \u001b[0;34m@\u001b[0m\u001b[0mproperty\u001b[0m\u001b[0;34m\u001b[0m\u001b[0m\n",
      "\u001b[0;32m~/.local/lib/python3.6/site-packages/tensorflow_core/python/eager/function.py\u001b[0m in \u001b[0;36m_filtered_call\u001b[0;34m(self, args, kwargs)\u001b[0m\n\u001b[1;32m   1609\u001b[0m          if isinstance(t, (ops.Tensor,\n\u001b[1;32m   1610\u001b[0m                            resource_variable_ops.BaseResourceVariable))),\n\u001b[0;32m-> 1611\u001b[0;31m         self.captured_inputs)\n\u001b[0m\u001b[1;32m   1612\u001b[0m \u001b[0;34m\u001b[0m\u001b[0m\n\u001b[1;32m   1613\u001b[0m   \u001b[0;32mdef\u001b[0m \u001b[0m_call_flat\u001b[0m\u001b[0;34m(\u001b[0m\u001b[0mself\u001b[0m\u001b[0;34m,\u001b[0m \u001b[0margs\u001b[0m\u001b[0;34m,\u001b[0m \u001b[0mcaptured_inputs\u001b[0m\u001b[0;34m,\u001b[0m \u001b[0mcancellation_manager\u001b[0m\u001b[0;34m=\u001b[0m\u001b[0;32mNone\u001b[0m\u001b[0;34m)\u001b[0m\u001b[0;34m:\u001b[0m\u001b[0;34m\u001b[0m\u001b[0m\n",
      "\u001b[0;32m~/.local/lib/python3.6/site-packages/tensorflow_core/python/eager/function.py\u001b[0m in \u001b[0;36m_call_flat\u001b[0;34m(self, args, captured_inputs, cancellation_manager)\u001b[0m\n\u001b[1;32m   1690\u001b[0m       \u001b[0;31m# No tape is watching; skip to running the function.\u001b[0m\u001b[0;34m\u001b[0m\u001b[0;34m\u001b[0m\u001b[0m\n\u001b[1;32m   1691\u001b[0m       return self._build_call_outputs(self._inference_function.call(\n\u001b[0;32m-> 1692\u001b[0;31m           ctx, args, cancellation_manager=cancellation_manager))\n\u001b[0m\u001b[1;32m   1693\u001b[0m     forward_backward = self._select_forward_and_backward_functions(\n\u001b[1;32m   1694\u001b[0m         \u001b[0margs\u001b[0m\u001b[0;34m,\u001b[0m\u001b[0;34m\u001b[0m\u001b[0m\n",
      "\u001b[0;32m~/.local/lib/python3.6/site-packages/tensorflow_core/python/eager/function.py\u001b[0m in \u001b[0;36mcall\u001b[0;34m(self, ctx, args, cancellation_manager)\u001b[0m\n\u001b[1;32m    543\u001b[0m               \u001b[0minputs\u001b[0m\u001b[0;34m=\u001b[0m\u001b[0margs\u001b[0m\u001b[0;34m,\u001b[0m\u001b[0;34m\u001b[0m\u001b[0m\n\u001b[1;32m    544\u001b[0m               \u001b[0mattrs\u001b[0m\u001b[0;34m=\u001b[0m\u001b[0;34m(\u001b[0m\u001b[0;34m\"executor_type\"\u001b[0m\u001b[0;34m,\u001b[0m \u001b[0mexecutor_type\u001b[0m\u001b[0;34m,\u001b[0m \u001b[0;34m\"config_proto\"\u001b[0m\u001b[0;34m,\u001b[0m \u001b[0mconfig\u001b[0m\u001b[0;34m)\u001b[0m\u001b[0;34m,\u001b[0m\u001b[0;34m\u001b[0m\u001b[0m\n\u001b[0;32m--> 545\u001b[0;31m               ctx=ctx)\n\u001b[0m\u001b[1;32m    546\u001b[0m         \u001b[0;32melse\u001b[0m\u001b[0;34m:\u001b[0m\u001b[0;34m\u001b[0m\u001b[0m\n\u001b[1;32m    547\u001b[0m           outputs = execute.execute_with_cancellation(\n",
      "\u001b[0;32m~/.local/lib/python3.6/site-packages/tensorflow_core/python/eager/execute.py\u001b[0m in \u001b[0;36mquick_execute\u001b[0;34m(op_name, num_outputs, inputs, attrs, ctx, name)\u001b[0m\n\u001b[1;32m     59\u001b[0m     tensors = pywrap_tensorflow.TFE_Py_Execute(ctx._handle, device_name,\n\u001b[1;32m     60\u001b[0m                                                \u001b[0mop_name\u001b[0m\u001b[0;34m,\u001b[0m \u001b[0minputs\u001b[0m\u001b[0;34m,\u001b[0m \u001b[0mattrs\u001b[0m\u001b[0;34m,\u001b[0m\u001b[0;34m\u001b[0m\u001b[0m\n\u001b[0;32m---> 61\u001b[0;31m                                                num_outputs)\n\u001b[0m\u001b[1;32m     62\u001b[0m   \u001b[0;32mexcept\u001b[0m \u001b[0mcore\u001b[0m\u001b[0;34m.\u001b[0m\u001b[0m_NotOkStatusException\u001b[0m \u001b[0;32mas\u001b[0m \u001b[0me\u001b[0m\u001b[0;34m:\u001b[0m\u001b[0;34m\u001b[0m\u001b[0m\n\u001b[1;32m     63\u001b[0m     \u001b[0;32mif\u001b[0m \u001b[0mname\u001b[0m \u001b[0;32mis\u001b[0m \u001b[0;32mnot\u001b[0m \u001b[0;32mNone\u001b[0m\u001b[0;34m:\u001b[0m\u001b[0;34m\u001b[0m\u001b[0m\n",
      "\u001b[0;31mKeyboardInterrupt\u001b[0m: "
     ]
    }
   ],
   "source": [
    "input_patch = Input((240, 240,4), name='img')\n",
    "model_final = build_model(input_patch, start_neurons=32) \n",
    "model_final.compile(optimizer=optimizers.Adam(), loss=dice_loss,metrics=[\"binary_crossentropy\"])\n",
    "model_final.load_weights(\"model_2_final_70_imp.h5\")\n",
    "print(\"Weights trained on the base task on all patients except 20 loaded!\")\n",
    "\n",
    "epochs = 3\n",
    "callbacks2 = [\n",
    "            EarlyStopping(patience=30, verbose=1),\n",
    "            ReduceLROnPlateau(factor=0.05, patience=30, min_lr=0.00001, verbose=1),\n",
    "            ModelCheckpoint('final_model_19_patients.h5', monitor='binary_crossentropy',verbose=1, \n",
    "                            save_best_only=True, save_weights_only=True)]\n",
    "\n",
    "results_final = model_final.fit(X_train3, y_train3, batch_size=30, epochs=epochs, \n",
    "                            validation_data=(X_valid3, y_valid3),callbacks=callbacks2)\n",
    "# spare weights are : 'model2_prefinal.h5' --- this is the one I reached before\n",
    "#results_final.evaluate(all_features,all_labels,verbose=1) # see what this result comes first, that's what we're interested in!"
   ]
  },
  {
   "cell_type": "markdown",
   "metadata": {
    "colab_type": "text",
    "id": "C-dA52JCOdPu"
   },
   "source": [
    "## Using the Fully Trained Model to GEnerate Test Predictions"
   ]
  },
  {
   "cell_type": "code",
   "execution_count": 63,
   "metadata": {},
   "outputs": [
    {
     "name": "stdout",
     "output_type": "stream",
     "text": [
      "2945/2945 [==============================] - 702s 238ms/sample\n"
     ]
    }
   ],
   "source": [
    "## FIRST LET'S GET THE VALIDATION PREDICTIONS\n",
    "#validationpredictions = model_final.predict(X_valid3,verbose=1)\n",
    "#first_patient_predictions = model_final.predict(X_train3[0:155,:,:,:],verbose=1)\n",
    "trainpredictions = model_final.predict(X_train3,verbose=1)\n",
    "#d,b = data_dictionary.get(\"tumor_features\"),data_dictionary.get(\"tumor_labels\")\n",
    "#print(d.shape)\n",
    "#plot_predictions(trainpredictions)\n",
    "#d1,b1 = tumor_filter(d,b)"
   ]
  },
  {
   "cell_type": "markdown",
   "metadata": {
    "colab_type": "text",
    "id": "Dw_XqszSOdPv"
   },
   "source": [
    "The challenge is to generate binary mask predictions because the round function is not differentiable and sigmoid activation outputs a probabilistic estimate for each target pixel. Since we do not wish to use gradient-free methods, the best way is to round the predictions after obtaining them from the model."
   ]
  },
  {
   "cell_type": "code",
   "execution_count": 14,
   "metadata": {
    "colab": {},
    "colab_type": "code",
    "id": "sNAdsAW7OdPw"
   },
   "outputs": [],
   "source": [
    "def zero_checker(data): \n",
    "    \"\"\"Here we write a loop over all label_patches and save \"\"\"\n",
    "    df = np.zeros((len(data),1),dtype=np.int)\n",
    "    for i in range(data.shape[0]):\n",
    "        zerocheck = np.any(data[i,:,:,0]) # axis=(1, 2)\n",
    "        if zerocheck == True:\n",
    "            df[i]=1\n",
    "        else :\n",
    "            df[i]=0\n",
    "    return df\n",
    "\n",
    "def binary_shaper(predictions,threshold):\n",
    "    test_masks = np.empty_like(predictions)\n",
    "    test_masks[np.where( predictions > threshold )] = 1\n",
    "    test_masks[np.where( predictions <= threshold )] = 0\n",
    "    return test_masks\n",
    "\n",
    "def prediction_checkup(model,labels,features=None,predictions = None,threshold=0):\n",
    "    if predictions is None and features is not None:\n",
    "        total_slices = features.shape[0]\n",
    "        predictions = model.predict(features)\n",
    "    elif predictions is not None:\n",
    "        total_slices = predictions.shape[0]\n",
    "    \n",
    "    #print(f\"Amount of total slices is {total_slices}\")\n",
    "    pred_array = np.asarray(predictions,dtype=np.float32)\n",
    "    pred_binary = binary_shaper(pred_array,threshold)\n",
    "    zero_checker_pred = zero_checker(pred_binary)\n",
    "    zero_checker_label = zero_checker(labels)\n",
    "\n",
    "    nonzero_slices_pred = np.sum(zero_checker_pred)\n",
    "    nonzero_slices_label = np.sum(zero_checker_label)\n",
    "\n",
    "   # print(f\"Amount of nonzero slices in prdictions is {nonzero_slices_pred}\")\n",
    "    amount_of_zeroslices = total_slices-nonzero_slices_pred\n",
    "    #print(f\"Amount of zero slices in predictions is {amount_of_zeroslices}\")\n",
    "    return nonzero_slices_pred,nonzero_slices_label\n",
    "\n"
   ]
  },
  {
   "cell_type": "markdown",
   "metadata": {
    "colab_type": "text",
    "id": "2rgdB0-tOdPz"
   },
   "source": [
    "### Choosing the Threshold. Since we can use the whole validation data and we know how many non-zero tumor batches there are, one quick way to set a feasible threshold for binary masking would be to match that number approximately."
   ]
  },
  {
   "cell_type": "markdown",
   "metadata": {
    "colab_type": "text",
    "id": "UVgbL-vKOdP2"
   },
   "source": [
    "### Selection of Model for Generating Test Predictions\n"
   ]
  },
  {
   "cell_type": "code",
   "execution_count": null,
   "metadata": {
    "colab": {},
    "colab_type": "code",
    "id": "h3PrLY7mOdP_",
    "outputId": "e39092af-c16b-43a7-a0e9-e8a4445f5471"
   },
   "outputs": [],
   "source": [
    "# in the trial experiments, the threshold was at around 3e-6, now 1e-5 could fit, so we can set it to their average\n",
    "th = np.linspace(0,9e-5,10)\n",
    "i=0\n",
    "for threshold in th:\n",
    "    nonzero_slices_pred,nonzero_slices_label = prediction_checkup(labels=y_valid3,model=model_final,predictions=validationpredictions,threshold=threshold)\n",
    "    if i == 0:\n",
    "        print(f\"We have {nonzero_slices_label} nonzero slices in validation labels\")\n",
    "    print(f\"For threshold {threshold} the amount of nonzero predictions is {nonzero_slices_pred}\")\n",
    "    i+=1\n",
    "# we select the binary masking threshold to be 3e-6\n",
    "#validationpred_masked=binary_shaper(predictions=validationpredictions,threshold=3e-6)\n"
   ]
  },
  {
   "cell_type": "markdown",
   "metadata": {
    "colab_type": "text",
    "id": "lnU6EFSSOdQB"
   },
   "source": [
    "#### Choosing the Activation Threshold for the Model For Converting Masks to Binary\n",
    "#### Validating that the Binary Thresholding Selection Makes Sense"
   ]
  },
  {
   "cell_type": "code",
   "execution_count": null,
   "metadata": {},
   "outputs": [],
   "source": [
    "### FOR PATIENT 20, THE THRESHOLD SHOULD BE SOMEWHERE AROUND 1.1e-5\n",
    "## FOR PATIENT 1,  1.33e-5\n",
    "## FOR PATIENT 7,  1.7E-5\n",
    "# for patient 13,  1.15e-5\n",
    "# for patient 4, 1.11e-5\n",
    "# for patient 10, 1.9e-5\n",
    "# for patient 18, 1.3e-5\n",
    "#### BASED ON THIS DATA, we will set the threshold to 1.4e-5. We will take  last 2 patients to validate that threshold.\n",
    "# it was generated to be 15 and 17.\n",
    "# based on validation data, the FINAL THRESHOLD IS SET TO 1.36e-5.\n",
    "maxplots = 10\n",
    "i = 0\n",
    "th = np.linspace(9.9e-6,2e-5,10)\n",
    "comparison_indices = np.random.randint(predictions.shape[0], size=(maxplots, 1))\n",
    "for threshold in th: \n",
    "    print(f\"THRESHOLD {threshold}\")\n",
    "    pred_masked=binary_shaper(predictions=predictions,threshold=threshold)\n",
    "    fix, ax = plt.subplots(maxplots,2, figsize=(8,40))\n",
    "    j = 0\n",
    "    for idx in comparison_indices:\n",
    "        ax[j,0].imshow(pred_masked[idx[0],:,:,0])\n",
    "        ax[j,1].imshow(y_train3[16*155+idx[0],:,:,0])\n",
    "        j += 1\n",
    "    plt.show()  \n",
    "    i+=1\n",
    "plt.show()\n"
   ]
  },
  {
   "cell_type": "code",
   "execution_count": null,
   "metadata": {},
   "outputs": [],
   "source": [
    "predictions = trainpredictions\n",
    "maxplots = 50\n",
    "comparison_indices = np.random.randint(predictions.shape[0], size=(maxplots, 1))\n",
    "threshold = 1.37e-5\n",
    "print(f\"THRESHOLD {threshold}\")\n",
    "pred_masked=binary_shaper(predictions=predictions,threshold=threshold)\n",
    "fix, ax = plt.subplots(maxplots,2, figsize=(8,40))\n",
    "j = 0\n",
    "for idx in comparison_indices:\n",
    "    ax[j,0].imshow(pred_masked[idx[0],:,:,0])\n",
    "    ax[j,1].imshow(y_train3[idx[0],:,:,0])\n",
    "    j += 1"
   ]
  },
  {
   "cell_type": "markdown",
   "metadata": {
    "colab_type": "text",
    "id": "3tM3FLpOOdQD"
   },
   "source": [
    "### Notes on Binary Mask Activation Threshold Selection\n",
    "\n",
    "From the above results generated on random indices the activation threshold 1.37e-5 seems like a very good choice, as probably are many of the nearby values.\n",
    "More analytical approach would be to actually assess the patient-wise average Dice coefficient on the validation set."
   ]
  },
  {
   "cell_type": "code",
   "execution_count": null,
   "metadata": {
    "colab": {},
    "colab_type": "code",
    "id": "1TJgk2-BOdQE"
   },
   "outputs": [],
   "source": [
    "    #pred_array,zeroslices,zero_checker_array = prediction_checkup(model=model_full,predictions=all_predictions,threshold=0.8)\n",
    "#zeroslices"
   ]
  },
  {
   "cell_type": "markdown",
   "metadata": {
    "colab_type": "text",
    "id": "os6UzSGnOdQH"
   },
   "source": [
    "## Using the best Model to Generate Test Predictions"
   ]
  },
  {
   "cell_type": "code",
   "execution_count": 69,
   "metadata": {
    "colab": {},
    "colab_type": "code",
    "id": "HQEqpokNOdQI",
    "outputId": "582e3a5c-7876-456d-9721-afb3e0a613ed"
   },
   "outputs": [
    {
     "name": "stdout",
     "output_type": "stream",
     "text": [
      "loading data from test folder\n",
      "Patient number 1\n",
      "Patient number 2\n",
      "Patient number 3\n",
      "Patient number 4\n",
      "Patient number 5\n",
      "Patient number 6\n",
      "Patient number 7\n",
      "Patient number 8\n",
      "Patient number 9\n",
      "Patient number 10\n",
      "1550/1550 [==============================] - 371s 239ms/sample\n"
     ]
    }
   ],
   "source": [
    "## FIRST WE USE THE DATA PRODUCER TO LOAD THE TEST FEATURES\n",
    "data_dictionary_test = data_producer(custom_patients=None,startpatient=1,endpatient=10+1,need_patches=False,size_param = patch_size, stride_param=stride,slices=155,iftrain=0,**kwargs)\n",
    "test_features = data_dictionary_test.get(\"all_features\")\n",
    "testpredictions = model_final.predict(test_features,verbose=1)\n",
    "testpredictions_mask = binary_shaper(testpredictions,threshold=1.37e-5)\n",
    "\n",
    "testpredictions_list = 10*[0]\n",
    "for i in range(10):\n",
    "    testpredictions_list[i] = testpredictions_mask[i*155:(i+1)*155,:,:,0]\n",
    "\n"
   ]
  },
  {
   "cell_type": "code",
   "execution_count": 81,
   "metadata": {},
   "outputs": [
    {
     "data": {
      "text/plain": [
       "(155, 240, 240)"
      ]
     },
     "execution_count": 81,
     "metadata": {},
     "output_type": "execute_result"
    }
   ],
   "source": [
    "testpredictions_list[9].shape"
   ]
  },
  {
   "cell_type": "code",
   "execution_count": 79,
   "metadata": {},
   "outputs": [
    {
     "data": {
      "text/plain": [
       "<matplotlib.image.AxesImage at 0x7f9af4454be0>"
      ]
     },
     "execution_count": 79,
     "metadata": {},
     "output_type": "execute_result"
    },
    {
     "data": {
      "image/png": "[encoded data removed]",
      "text/plain": [
       "<Figure size 432x288 with 1 Axes>"
      ]
     },
     "metadata": {},
     "output_type": "display_data"
    }
   ],
   "source": [
    "def savePickle(data, picklefile):\n",
    "    \"\"\"\n",
    "\n",
    "    :param data: Data to be saved\n",
    "    :param picklefile: Filename for output Pickle file, should have .pickle ending\n",
    "    \"\"\"\n",
    "    import pickle\n",
    "    with open(picklefile, \"wb\") as f:\n",
    "        pickle.dump(data, f,protocol=4)\n",
    "    f.close()\n",
    "\n",
    "#savePickle(testpredictions_list,\"testpredictions.pkl\")\n",
    "plt.imshow(testpredictions_list[0][154,:,:])"
   ]
  },
  {
   "cell_type": "markdown",
   "metadata": {},
   "source": [
    "## We submit the testpredictions_list defined in the above cell as testpredictions to be evaluated\n",
    "\n",
    "## HEREBY THE PREDICTION GENERATION PART IS OVER. FOLLOWING IS SOME EXTRA INFORMATION, THEORETICALLY AND OTHERWISE"
   ]
  },
  {
   "cell_type": "markdown",
   "metadata": {
    "colab_type": "text",
    "id": "kA7WTZh2OdQj"
   },
   "source": [
    "# Hyperparameter Tuning Methodologies and Parameter Questions\n"
   ]
  },
  {
   "cell_type": "markdown",
   "metadata": {
    "colab_type": "text",
    "id": "4F0GTEetOdQk"
   },
   "source": [
    "I have considered the following:\n",
    "    - 1. Prefer using Batch Normalization when considering Dropout, Batchnorm or Dropout + Batchnorm https://stackoverflow.com/questions/39691902/ordering-of-batch-normalization-and-dropout\n",
    "    - 2. In case of overfitting, would add kernel regularizers to convolution layers\n",
    "    - 3. A good way to do hyperparameter tuning with Auto-Keras. To end up, we give a brief example how it could be used"
   ]
  },
  {
   "cell_type": "code",
   "execution_count": null,
   "metadata": {
    "colab": {},
    "colab_type": "code",
    "id": "CM0fAg-jOdQm",
    "outputId": "e378bdb3-dca3-4223-f0f5-8fae058662d0",
    "scrolled": true
   },
   "outputs": [
    {
     "name": "stdout",
     "output_type": "stream",
     "text": [
      "INFO:tensorflow:Reloading Oracle from existing project ./untitled_project/oracle.json\n",
      "INFO:tensorflow:Reloading Tuner from ./untitled_project/tuner0.json\n"
     ]
    }
   ],
   "source": [
    "\n",
    "# Conv2D, Conv2DTranspose,concatenate,MaxPooling2D\n",
    "\n",
    "class MyHyperModel(HyperModel):\n",
    "\n",
    "    def __init__(self, start_neurons,img_size):\n",
    "        self.start_neurons = start_neurons\n",
    "        self.size = img_size\n",
    "        \n",
    "\n",
    "    def build(self,hp):\n",
    "        def dice_loss(y_true,y_pred): \n",
    "             def dice_coef_2_lean(y_true, y_pred, smooth=K.epsilon()):\n",
    "                \"\"\"\n",
    "                Dice = (2*|X & Y|)/ (|X|+ |Y|)\n",
    "                     =  2*sum(|A*B|)/(sum(A^2)+sum(B^2))\n",
    "                ref: https://arxiv.org/pdf/1606.04797v1.pdf\n",
    "                \"\"\"\n",
    "                intersection = K.sum(K.abs(y_true * y_pred), axis=-1)\n",
    "                denominator = K.sum(K.square(y_true),-1) + K.sum(K.square(y_pred),-1) + smooth\n",
    "                return (2. * intersection + smooth) / denominator\n",
    "\n",
    "             return 1-dice_coef_2_lean(y_true, y_pred)\n",
    "            \n",
    "            \n",
    "        \n",
    "        # https://arxiv.org/pdf/1603.06560.pdf\n",
    "        input_layer = tf.keras.Input(shape=(self.size, self.size, 4))\n",
    "        # tweak initializer and kernel\n",
    "        # no need to use dropout : https://stackoverflow.com/questions/39691902/ordering-of-batch-normalization-and-dropout\n",
    "        #     model_type = hp.Choice('model_type', ['random_forest', 'ridge'])\n",
    "        # kernels, dropouts, batchnorm, activation functions\n",
    "        # DEFINE INPUT LAYER WITH START NEURONS\n",
    "        # ADD KERNEL REGULARIZATION DEFINITELY\n",
    "        # IN CASE OF OVERFITTING, START TO ADD REGULARIZERS regularizers.l2(0.00001)\n",
    "        conv1 = Conv2D( self.start_neurons * 1, (3, 3), kernel_initializer=\"he_normal\", padding=\"same\")(input_layer)\n",
    "        conv1 = BatchNormalization()(conv1)\n",
    "        conv1 = Conv2D( self.start_neurons * 1, (3, 3), kernel_initializer=\"he_normal\",padding=\"same\")(conv1)\n",
    "        conv1 = BatchNormalization()(conv1)\n",
    "        pool1 = MaxPooling2D((2, 2))(conv1)\n",
    "        #pool1 = Dropout(hp.Float('drop1', 0.1, 0.25,0.5))(pool1)\n",
    "\n",
    "        conv2 = Conv2D( self.start_neurons * 2, (3, 3), kernel_initializer=\"he_normal\", padding=\"same\")(pool1)\n",
    "        conv2 = BatchNormalization()(conv2)\n",
    "        conv2 = Conv2D( self.start_neurons * 2, (3, 3), kernel_initializer=\"he_normal\", padding=\"same\")(conv2)\n",
    "        conv2 = BatchNormalization()(conv2)\n",
    "        pool2 = MaxPooling2D((2, 2))(conv2)\n",
    "        #pool2 = Dropout(hp.Float('drop2', 0.1, 0.25,0.5))(pool2)\n",
    "\n",
    "        conv3 = Conv2D( self.start_neurons * 4, (3, 3), kernel_initializer=\"he_normal\", padding=\"same\")(pool2)\n",
    "        conv3 = BatchNormalization()(conv3)\n",
    "        conv3 = Conv2D( self.start_neurons * 4, (3, 3), kernel_initializer=\"he_normal\", padding=\"same\")(conv3)\n",
    "        conv3 = BatchNormalization()(conv3)\n",
    "        pool3 = MaxPooling2D((2, 2))(conv3)\n",
    "        #pool3 = Dropout(hp.Float('drop3', 0.1, 0.25,0.5))(pool3)\n",
    "\n",
    "        conv4 = Conv2D( self.start_neurons * 8, (3, 3), kernel_initializer=\"he_normal\",  padding=\"same\")(pool3)\n",
    "        conv4 = BatchNormalization()(conv4)\n",
    "        conv4 = Conv2D( self.start_neurons * 8, (3, 3), kernel_initializer=\"he_normal\", padding=\"same\")(conv4)\n",
    "        conv4 = BatchNormalization()(conv4)\n",
    "\n",
    "        pool4 = MaxPooling2D((2, 2))(conv4)\n",
    "        #pool4 = Dropout(hp.Float('drop4', 0.1, 0.25,0.5))(pool4)\n",
    "\n",
    "\n",
    "        # Middle\n",
    "        convm = Conv2D( self.start_neurons * 16, (3, 3), kernel_initializer=\"he_normal\", padding=\"same\")(pool4)\n",
    "        convm = BatchNormalization()(convm)\n",
    "        convm = Conv2D( self.start_neurons * 16, (3, 3), kernel_initializer=\"he_normal\", padding=\"same\")(convm)\n",
    "        convm = BatchNormalization()(convm)\n",
    "\n",
    "        deconv4 = Conv2DTranspose( self.start_neurons * 8, (3, 3), kernel_initializer=\"he_normal\", strides=(2, 2), padding=\"same\")(convm)\n",
    "        uconv4 = concatenate([deconv4, conv4])\n",
    "        #uconv4 = Dropout(hp.Float('drop5', 0.1, 0.25,0.5))(uconv4)\n",
    "        uconv4 = Conv2D( self.start_neurons * 8, (3, 3), kernel_initializer=\"he_normal\", padding=\"same\")(uconv4)\n",
    "        uconv4 = BatchNormalization()(uconv4)\n",
    "        uconv4 = Conv2D( self.start_neurons * 8, (3, 3), kernel_initializer=\"he_normal\", padding=\"same\")(uconv4)\n",
    "        uconv4 = BatchNormalization()(uconv4)\n",
    "\n",
    "        deconv3 = Conv2DTranspose( self.start_neurons * 4, (3, 3), kernel_initializer=\"he_normal\",strides=(2, 2), padding=\"same\")(uconv4)\n",
    "        uconv3 = concatenate([deconv3, conv3])\n",
    "        #uconv3 = Dropout(hp.Float('drop6', 0.1, 0.25,0.5))(uconv3)\n",
    "        uconv3 = Conv2D( self.start_neurons * 4, (3, 3), kernel_initializer=\"he_normal\", padding=\"same\")(uconv3)\n",
    "        uconv3 = BatchNormalization()(uconv3)\n",
    "        uconv3 = Conv2D( self.start_neurons * 4, (3, 3), kernel_initializer=\"he_normal\", padding=\"same\")(uconv3)\n",
    "        uconv3 = BatchNormalization()(uconv3)\n",
    "\n",
    "        deconv2 = Conv2DTranspose( self.start_neurons * 2, (3, 3), kernel_initializer=\"he_normal\", strides=(2, 2), padding=\"same\")(uconv3)\n",
    "        uconv2 = concatenate([deconv2, conv2])\n",
    "        #uconv2 = Dropout(hp.Float('drop7', 0.1, 0.25,0.5))(uconv2)\n",
    "        uconv2 = Conv2D( self.start_neurons * 2, (3, 3),  kernel_initializer=\"he_normal\",padding=\"same\")(uconv2)\n",
    "        uconv2 = BatchNormalization()(uconv2)\n",
    "        uconv2 = Conv2D( self.start_neurons * 2, (3, 3), kernel_initializer=\"he_normal\", padding=\"same\")(uconv2)\n",
    "        uconv2 = BatchNormalization()(uconv2)\n",
    "\n",
    "        deconv1 = Conv2DTranspose( self.start_neurons * 1, (3, 3),kernel_initializer=\"he_normal\", strides=(2, 2), padding=\"same\")(uconv2)\n",
    "        uconv1 = concatenate([deconv1, conv1])\n",
    "        #uconv1 = Dropout(hp.Float('drop8', 0.1, 0.25,0.5))(uconv1)\n",
    "        uconv1 = Conv2D( self.start_neurons * 1, (3, 3), kernel_initializer=\"he_normal\", padding=\"same\")(uconv1)\n",
    "        uconv1 = BatchNormalization()(uconv1)\n",
    "        uconv1 = Conv2D( self.start_neurons * 1, (3, 3), kernel_initializer=\"he_normal\",padding=\"same\")(uconv1)\n",
    "        uconv1 = BatchNormalization()(uconv1)\n",
    "\n",
    "        output_layer = Conv2D(1, (1,1), padding=\"same\", activation=\"sigmoid\")(uconv1)\n",
    "        model = tf.keras.Model(inputs=[input_layer], outputs=[output_layer])\n",
    "        \n",
    "        model.compile(\n",
    "            optimizer=tf.keras.optimizers.Adam(\n",
    "                hp.Choice('learning_rate',\n",
    "                          values=[1e-2, 1e-3, 1e-4])),\n",
    "            loss=dice_loss,\n",
    "            metrics=[\"binary_crossentropy\"])\n",
    "        return model\n",
    "\n",
    "\n",
    "hypermodel = MyHyperModel(start_neurons=32,img_size=240)\n",
    "\n",
    "tuner = kt.Hyperband(\n",
    "    hypermodel.build,\n",
    "    objective= kt.Objective(\"val_loss\", direction=\"min\"),\n",
    "    max_epochs=100,\n",
    "    hyperband_iterations=2)\n",
    "\n"
   ]
  },
  {
   "cell_type": "markdown",
   "metadata": {
    "colab_type": "text",
    "id": "ntb5qONnOdQw"
   },
   "source": [
    "## Configuring the Data For Full Experiment"
   ]
  },
  {
   "cell_type": "code",
   "execution_count": null,
   "metadata": {
    "colab": {},
    "colab_type": "code",
    "id": "MX6vrdFFOdQz",
    "outputId": "7332c311-d8a2-4819-9d39-ad37ee3ad776",
    "scrolled": true
   },
   "outputs": [
    {
     "name": "stdout",
     "output_type": "stream",
     "text": [
      "Physical devices cannot be modified after being initialized\n",
      "INFO:tensorflow:Reloading Oracle from existing project ./untitled_project/oracle.json\n",
      "INFO:tensorflow:Reloading Tuner from ./untitled_project/tuner0.json\n"
     ]
    }
   ],
   "source": [
    "\n",
    "gpus = tf.config.experimental.list_physical_devices('GPU')\n",
    "if gpus:\n",
    "    try:\n",
    "        for gpu in gpus:\n",
    "            tf.config.experimental.set_memory_growth(gpu, True)\n",
    "\n",
    "    except RuntimeError as e:\n",
    "        print(e)\n",
    "\n",
    "def dice_loss(y_true,y_pred): \n",
    "     def dice_coef_2_lean(y_true, y_pred, smooth=K.epsilon()):\n",
    "        \"\"\"\n",
    "        Dice = (2*|X & Y|)/ (|X|+ |Y|)\n",
    "             =  2*sum(|A*B|)/(sum(A^2)+sum(B^2))\n",
    "        ref: https://arxiv.org/pdf/1606.04797v1.pdf\n",
    "        \"\"\"\n",
    "        intersection = K.sum(K.abs(y_true * y_pred), axis=-1)\n",
    "        denominator = K.sum(K.square(y_true),-1) + K.sum(K.square(y_pred),-1) + smooth\n",
    "        return (2. * intersection + smooth) / denominator\n",
    "\n",
    "     return 1-dice_coef_2_lean(y_true, y_pred)\n",
    "    \n",
    "def data_comparison_experiment(epochs,mode,hypermodel,tuner,X_train_tumor,y_train_tumor,X_train,y_train,X_valid,y_valid):\n",
    "    \n",
    "    if mode == \"hyperparam_tuning\":\n",
    "        tuner.search(X_train_tumor,y_train_tumor,\n",
    "                     epochs=5,\n",
    "                     validation_data=val)\n",
    "        best_model_1 = tuner.get_best_models(1)[0]\n",
    "        best_hyperparameters_1 = tuner.get_best_hyperparameters(1)[0].values\n",
    "\n",
    "        best_model_1.save_weights(\"model1.h5\")\n",
    "        print(tuner.search_space_summary())\n",
    "        tuner.search(tr2[0],tr2[1],\n",
    "                     epochs=5,\n",
    "                     validation_data=val)\n",
    "        best_model_2 = tuner.get_best_models(1)[0]\n",
    "        best_hyperparameters_2 = tuner.get_best_hyperparameters(1)[0].values\n",
    "        best_model_2.save_weights(\"model2.h5\")\n",
    "        print(tuner.search_space_summary())\n",
    "    elif mode == \"testing_data\":\n",
    "        im_height = im_width = 240\n",
    "        batch_size = 15 # set the batch size so that the Learner never mixes data from different patients together!\n",
    "        #input_img = Input((im_height, im_width,4), name='img')\n",
    "        input_img = tensorflow.keras.Input(shape=(240, 240, 4))\n",
    "\n",
    "        model = build_model(input_img, start_neurons=32) # , dropout=0.05, batchnorm=True\n",
    "        model.compile(\n",
    "            optimizer=tf.keras.optimizers.Adam(),\n",
    "            loss=dice_loss,\n",
    "            metrics=[\"binary_crossentropy\"])\n",
    "            \n",
    "        callbacks = [\n",
    "            EarlyStopping(patience=10, verbose=1),\n",
    "            ReduceLROnPlateau(factor=0.1, patience=5, min_lr=0.00001, verbose=1),\n",
    "            ModelCheckpoint('model1_prefinal', monitor='binary_crossentropy',verbose=1, \n",
    "                            save_best_only=True, save_weights_only=True),\n",
    "            LearningRateScheduler(lambda x: 1e-3 * 0.8 ** x)\n",
    "        ]\n",
    "        \n",
    "        results1 = model.fit(X_train_tumor, y_train_tumor, batch_size=batch_size, epochs=epochs, callbacks=callbacks,\\\n",
    "                            validation_data=(X_valid, y_valid))\n",
    "        \n",
    "        results2 = model.fit(X_train, y_train, batch_size=batch_size, epochs=epochs, callbacks=callbacks,\\\n",
    "                            validation_data=(X_valid, y_valid))\n",
    "        \n",
    "        out = {\"res_1\":results1,\"res_2\":results2,\"model1\":model1,\"model2\":model}\n",
    "        # FROM HERE, WE CAN SAVE THE BEST PERFORMING MODEL, WITH SMALLEST DICE LOSS\n",
    "    #dice_1=best_model_1.evaluate(X_valid[test_idx],y_valid[test_idx],verbose=2)[0]\n",
    "    #dice_2 = best_model_2.evaluate(X_valid[test_idx],y_valid[test_idx],verbose=2)[0]\n",
    "    \n",
    "    return out # {\"dice_1\":dice_1,\"dice_2\":dice_2}\n",
    "\n",
    "\n",
    "    \n",
    "hypermodel = MyHyperModel(start_neurons=32,img_size=240)\n",
    "\n",
    "tuner = kt.Hyperband(\n",
    "    hypermodel.build,\n",
    "    objective= kt.Objective(\"val_loss\", direction=\"min\"),\n",
    "    max_epochs=100,\n",
    "    hyperband_iterations=2,)\n",
    "\n",
    "#tuner.search(tr1[0],tr1[1],epochs=5,validation_data=val)\n",
    "\n",
    "#comparison_result = data_comparison_experiment(hypermodel,tuner,tr1,tr2,val,X_valid,y_valid,test_idx)\n",
    "\n",
    "#oracle=kt.oracles.BayesianOptimization(\n",
    "#            objective=kt.Objective('score', 'max'),\n",
    "#            max_trials=10)\n",
    "\n"
   ]
  },
  {
   "cell_type": "code",
   "execution_count": null,
   "metadata": {
    "colab": {},
    "colab_type": "code",
    "id": "qyXI0e64OdQ1",
    "outputId": "bfe05d5c-c744-49b5-d03a-0ab5d91b3d6d",
    "scrolled": true
   },
   "outputs": [],
   "source": [
    "#import tensorflow\n",
    "#out = data_comparison_experiment(15,\"testing_data\",hypermodel,tuner,X_train_tumor,y_train_tumor,X_train,y_train,X_valid,y_valid)\n",
    "\n",
    "#!rm -rf ./untitled_project/"
   ]
  },
  {
   "cell_type": "code",
   "execution_count": null,
   "metadata": {
    "colab": {},
    "colab_type": "code",
    "id": "J2NmYNOMOdRE",
    "outputId": "a5c91e45-b5ca-4651-f902-7cc6a9c11934",
    "scrolled": true
   },
   "outputs": [
    {
     "name": "stdout",
     "output_type": "stream",
     "text": [
      "620/620 [==============================] - 9s 14ms/step\n",
      "1087/1087 [==============================] - 14s 13ms/step\n"
     ]
    }
   ],
   "source": [
    "#only_tumor_results2\n",
    "valpredictions = only_tumor.predict(X_valid,verbose=1)\n",
    "trainpredictions = only_tumor.predict(X_train_tumor,verbose=1)"
   ]
  },
  {
   "cell_type": "code",
   "execution_count": null,
   "metadata": {
    "colab": {},
    "colab_type": "code",
    "id": "y7wcZLS1OdRF",
    "scrolled": true
   },
   "outputs": [],
   "source": []
  },
  {
   "cell_type": "markdown",
   "metadata": {
    "colab_type": "text",
    "id": "R4q7785dOdRI"
   },
   "source": [
    "## Some Results Without  Using the Patching Technique : \n",
    "### FROM Experiments Using Only Tumors in the  Training Set, 3 epochs\n",
    "\n",
    "1. Using Dice Loss\n",
    "1.1 SGD :  SGD momentum=0.3, nesterov=True). Quite bad Dice Loss, predicting only tumors, thus very little overlap\n",
    "![image.png](attachment:image.png)\n",
    "1.2 Adam loss: 0.9786 - binary_crossentropy: 15.6108  , even worse Dice loss (0.9783, predicting only tumors)\n",
    "\n",
    "\n",
    "These results show that using only tumor in the training can easily lead to a situation where only tumors are predicted with very bad Dice loss or only blank images are predicted with no masks. To get to a target with good Dice loss that can also find some tumors, we should have a dataset using random augmentations on the data plus the training set balance is similar to the whole datasetw --  if 43.8% of the labels actually have tumor masks, then this ratio should be ideally around the same in the training dataset.\n",
    "\n",
    "\n",
    "Problem with using reduced datasets is that it changes the true distribution of the data and at testing time, this will skew the testing result."
   ]
  },
  {
   "cell_type": "markdown",
   "metadata": {},
   "source": [
    "## Choice of Loss Function : Dice Loss VS Combined Loss\n"
   ]
  },
  {
   "cell_type": "markdown",
   "metadata": {
    "colab_type": "text",
    "id": "SPnlESdQh2Jl"
   },
   "source": [
    "\n",
    "Binary Cross-Entropy returns a tensor, while  Dice Loss returns a scalar for each image in the batch. If we combined these, we could combine local with global information.\n",
    "\n",
    "__Practice__ : In practice I have seen that usually when Dice Loss goes down close to the last phases in training, the binary cross-entropy will also. In the very last phases binary-cross entropy will be 0 all the time, so we figure that it's not utmost necessary to combine the losses. We can easily train with the Dice Loss since for the ones with squares, the gradient is well-defined."
   ]
  },
  {
   "cell_type": "markdown",
   "metadata": {
    "colab_type": "text",
    "id": "6yfEJ0yVOdWu"
   },
   "source": [
    "# Theoretical Considerations for Architecture\n",
    "Subsequently, the U-Net architecture was extended through a few modifications to 3D\n",
    "U-Net for volumetric segmentation [28]. In particular, the two dimensional convolution,\n",
    "max pooling, transposed convolution operations were replaced by their three dimensional\n",
    "counterparts. However, in order to limit the number of parameters, the depth of the\n",
    "network was reduced by one. Moreover, the number of filters were doubled before the\n",
    "pooling layers to avoid bottlenecks [34]. The original U-Net [24] did not use batch normalization [35], however, they were experimented with in the 3D U-Net and astonishingly\n",
    "the results revealed that batch normalization may sometime even hurt the performance\n",
    "[28].\n",
    "\n",
    "https://arxiv.org/pdf/1902.04049.pdf\n",
    "\n",
    "\n",
    "In medical image segmentation, we are interested in segmenting cell necluei [36], organs\n",
    "[4], tumors [3] etc. from images originating from various modalities. However, in most\n",
    "cases these objects of interest are of irregular and different scales. For example, in Figure\n",
    "2 we have demonstrated that the scale of skin lesions can greatly vary in dermoscopy\n",
    "images. These situations frequently occur in different types medical image segmentation\n",
    "tasks.\n",
    "(a) (b) (c)\n",
    "Figure 2: Variation of Scale in medical images. Fig. 2a, 2b, 2c are examples of dermoscopy images with\n",
    "small, medium and large size of lesions respectively. The images have been taken from the ISIC-2018\n",
    "dataset.\n",
    "Therefore, a network should be robust enough to analyze objects at different scales.\n",
    "Although this issue has been addressed in several deep computer vision works, to the best\n",
    "of our knowledge, this issue is still not addressed properly in the domain of medical image\n",
    "segmentation. \n",
    "In the U-Net architecture, after each pooling layer and transposed convolutional layer\n",
    "a sequence of two 3 × 3 convolutional layers are used. As explained in [34], this series\n",
    "of two 3 × 3 convolutional operation actually resembles a 5 × 5 convolutional operation.\n",
    "Therefore, following the approach of **Inception network, the simplest way to augment\n",
    "U-Net with multi-resolutional analysis is to incorporate 3 × 3, and 7 × 7 convolution\n",
    "operations in parallel to the 5 × 5 convolution operation**, as shown in Figure 3a.\n",
    "Therefore, replacing the convolutional layers with Inception-like blocks should facilitate the U-Net architecture to reconcile the features learnt from the image at different\n",
    "scales. \n",
    "\n",
    "Another possible option is to use strided convolutions [38], but in our experiments it was overshadowed by U-Net using Inception-like blocks. Despite the gain in\n",
    "performance, the introduction of additional convolutional layers in parallel extravagantly increases the memory requirement. "
   ]
  },
  {
   "cell_type": "markdown",
   "metadata": {
    "colab_type": "text",
    "id": "a6DHTvx1OdWv"
   },
   "source": [
    "### 2D VS 3D Considerations\n",
    "https://arxiv.org/pdf/1908.05104.pdf\n",
    "\n",
    "The study of CNN is mainly based on two  \n",
    "dimensional (2D) and three-dimensional (3D) approaches:\n",
    "(1) In the 2D CNN approaches, the MRI volume data are\n",
    "converted into several planar slices and independently predict the lesion area of each slice. These ignore the spatial\n",
    "characteristics of the MRI data such that the predictions\n",
    "are discontinuous. (2) In the 3D CNN, approaches, spatial\n",
    "information is extracted for inference. However, due to their\n",
    "computational and storage requirements, the 3D CNN have\n",
    "been largely avoided.\n",
    "\n",
    "Architectures considered:\n",
    "    - SegNet\n",
    "    - UNet3D\n",
    "    - Unet Origin\n",
    "    - D-Unet\n",
    "    \n",
    "On a first glance, D-Unet seems to match the description well since we can append to architecture,\n",
    "but actually not because of     conv2 = D_SE_Add(64, conv3d2, conv2) is modifying the architecture"
   ]
  },
  {
   "cell_type": "markdown",
   "metadata": {
    "colab_type": "text",
    "id": "NutXF3Bih2Jm"
   },
   "source": [
    "<br/>\n",
    "<img src=\"https://drive.google.com/uc?id=1PimNuQYd_c188kEvReMdnr2UtF3xQqpm\" style=\"width: 900px;\"/>\n",
    "<br/>"
   ]
  },
  {
   "cell_type": "markdown",
   "metadata": {
    "colab_type": "text",
    "id": "cswgraftOdWx"
   },
   "source": [
    "Now if we look closely the required architecture, input has to be 4-dimensional and output 1-dimensional.\n",
    "Since U-NET is not using 3D-convolutions, it does not make sense to have all slices input to the network in a batch, thus, the 4-dimensional input refers to the fact of having 4 channels -- one for each MRI modality. In a classical machine learning sense, one modality becomes one \"rudimentary\" feature."
   ]
  },
  {
   "cell_type": "markdown",
   "metadata": {
    "colab_type": "text",
    "id": "NgV0cew6OdXO"
   },
   "source": [
    "## D-Unet : Changes the Scheme"
   ]
  },
  {
   "cell_type": "code",
   "execution_count": null,
   "metadata": {
    "colab": {},
    "colab_type": "code",
    "id": "9fkxtQlhOdXP",
    "scrolled": true
   },
   "outputs": [],
   "source": [
    "def Unet():\n",
    "    inputs = Input(shape=(240, 240, 4))\n",
    "    conv1 = BN_block(32, inputs)\n",
    "    pool1 = MaxPooling2D(pool_size=(2, 2))(conv1)\n",
    "\n",
    "    conv2 = BN_block(64, pool1)\n",
    "    pool2 = MaxPooling2D(pool_size=(2, 2))(conv2)\n",
    "\n",
    "    conv3 = BN_block(128, pool2)\n",
    "    pool3 = MaxPooling2D(pool_size=(2, 2))(conv3)\n",
    "\n",
    "    conv4 = BN_block(256, pool3)\n",
    "    drop4 = Dropout(0.3)(conv4)\n",
    "    pool4 = MaxPooling2D(pool_size=(2, 2))(drop4)\n",
    "\n",
    "    conv5 = BN_block(512, pool4)\n",
    "    drop5 = Dropout(0.3)(conv5)\n",
    "\n",
    "    up6 = Conv2D(256, 2, activation='relu', padding='same', kernel_initializer='he_normal')(\n",
    "        UpSampling2D(size=(2, 2))(drop5))\n",
    "    merge6 = Concatenate()([drop4, up6])\n",
    "    conv6 = BN_block(256, merge6)\n",
    "\n",
    "    up7 = Conv2D(128, 2, activation='relu', padding='same', kernel_initializer='he_normal')(\n",
    "        UpSampling2D(size=(2, 2))(conv6))\n",
    "    merge7 = Concatenate()([conv3, up7])\n",
    "    conv7 = BN_block(128, merge7)\n",
    "\n",
    "    up8 = Conv2D(64, 2, activation='relu', padding='same', kernel_initializer='he_normal')(\n",
    "        UpSampling2D(size=(2, 2))(conv7))\n",
    "    merge8 = Concatenate()([conv2, up8])\n",
    "    conv8 = BN_block(64, merge8)\n",
    "\n",
    "    up9 = Conv2D(32, 2, activation='relu', padding='same', kernel_initializer='he_normal')(\n",
    "        UpSampling2D(size=(2, 2))(conv8))\n",
    "    merge9 = Concatenate()([conv1, up9])\n",
    "    conv9 = BN_block(32, merge9)\n",
    "    conv10 = Conv2D(1, 1, activation='sigmoid')(conv9)  # conv10作为输出\n",
    "\n",
    "    model = Model(input=inputs, output=conv10)\n",
    "\n",
    "    return model"
   ]
  },
  {
   "cell_type": "markdown",
   "metadata": {
    "colab_type": "text",
    "id": "ST75DMnfOdSw"
   },
   "source": [
    "## Hyperparameter Tuning Strategies\n",
    "\n",
    "Bayes SMBO is probably the best candidate as long as resources are not a constraint for you or your team, but you should also consider establishing a baseline with Random Search.\n",
    "\n",
    "On the other hand, if you're still learning or in the development phase, then babysitting – even if unpractical in term of space exploration – is the way to go.\n",
    "\n",
    "Just like I mentioned in the SMBO section, none of these strategies provide a mechanism to save our resources if a training is performing poorly or even worse diverging – we'll have to wait until the end of the computation."
   ]
  },
  {
   "cell_type": "markdown",
   "metadata": {
    "colab_type": "text",
    "id": "Vr9f518SOdS8"
   },
   "source": [
    "### Machine Learning Approach : Conceptual Side"
   ]
  },
  {
   "cell_type": "markdown",
   "metadata": {
    "colab_type": "text",
    "id": "O0SYFBbdOdS-"
   },
   "source": [
    "### SAMPLING STRATEGY\n",
    "\n",
    "For network to learn anything, we have to feed the network proper data to learn from.\n",
    "That means that we will subsample the input data to only use data in certain ratios and then we compare those ratios 1 (tumor) VS 0 (no tumor)\n",
    "    1) ratio 56-44 (as in the dataset available)\n",
    "    2) ratio 70-30 (more tumors, less healthys)\n",
    "    3) ratio 30-70 (more healhtys, less tumors)\n",
    "    \n",
    "Keep in mind that the final ratio is assumed to be close to 56 - 44.\n",
    "Within these ratios, we will do image patching and subsampling.\n",
    "\n",
    "#### TWO APPROACHES : \n",
    "\n",
    "##### Imaginary approach 1 : Balancing Data Using Simple Logic\n",
    "If we feed network 56% images having tumors and 44% corresponding to healthy ones, the network will most probably learn to predict blank images because the area of the tumors is up to a few orders of magnitude smaller than the healthy area even on the tumor image, and that is especially so because the tumor areas often don't overlap so the prediction from one set of tumor images would not generalize to other tumor images.\n",
    "\n",
    "Since the network will be measured in terms of Dice index that measures pixel-wise similarity between the prediction and target images, we should keep this in mind also in the feature engineering phase since most of the similarity match will be due to the background match, not the tumor mask match! That means that although 56% of images have tumors, since the average tumor covers maybe 1/20 of the image area, relatively we have imbalance around 1/20 in favour for black pixels where the network would not learn essentially anything; moreover, the network would learn NOT TO LEARN and gradients would not change. Thus a split of 56-44 would not itself be sufficient.\n",
    "\n",
    "##### Imaginary approach 2 : Balancing Data with Sampling\n",
    "We need predictions that can be generalized.\n",
    "As in any machine learning problem with imbalanced data set, binary classification with imbalanced dataset starts with upsampling like SMote or downsampling -- to balance the classes.\n",
    "In this case, the low level unit can be engineered to be an image patch both on feature level and target level.\n",
    "\n",
    "To accomplish that, we take the whole data and create patches from the labels where 1/2 of the patches have no tumor and the other half has. This is easy to do since we don't really care in the end from which patient the data originates as long as the network learns to predict tumors properly with good Dice index. We can create an artificial meta dataset like this\n",
    "\n",
    "| Patch number | Tumor Indicator (1 for tumor, 0 for healthy)|\n",
    " \n",
    "After we have done this for the whole dataset, then to have realistic scenario for the prediction, we would want the distribution tumor patches to healthy patches be 56-44 BEFORE train-test split.\n",
    "\n",
    "To compare the approaches, we will consider the split ratio as a hyperparameter that we will tune with Auto-Keras.\n",
    "\n",
    "Combinations that will be tried out:\n",
    "\n",
    "- 30-70\n",
    "- 90-10\n",
    "\n",
    "After that, train-test split will be done and the network will be trained on the patches of data.\n",
    "\n",
    "Totally alternative approach would be probably be to come up with some  exotic loss function that penalizes the network predicting 0 much more than predicting 1 - thus making the network essentially set really high sensitivity to the positive or tumor class.\n",
    "\n",
    "This approach is more more theoretically backed : Deep learning learns to detect features from data, but if the data doesn't quantify variation if the variation in the data is very small, it cannot learn since it is essentially forced to not to learn. The network will do what the human master supervises.\n",
    "\n",
    "#### Important Note\n",
    "It is essential not to mechanically throw away any data, meaning not to **filter** out data that doesn't correspond to tumor in the labels. That also throws away useful variation from the feature set.\n",
    "Instead we do the filtering on the batch level to get a more fine-grain grid.\n",
    "Since the Task Assignment indicates that input has to be 4-dimensional, it is natural to use the already existing 4 features from different scans.\n",
    "\n",
    "### Analysis of How the Network Could Perform\n",
    "Now we have trained a network only on the tumor images. The idea here is that since the tumor masks are very small, \n",
    "then wihtout actually using the real life weights ( not detecting a brain tumor in real life has really high cost), mathematically speaking there is no problem predicting the tumor mask sometimes when in the real sample there was no tumor PROVIDED the relative tumor mask area is orders of magnitude smaller than the non-tumor area. If we only account for the Dice coefficient, then most of the area would still be correctly predicted.\n",
    "This idea can be compared to the F1-score where instead of the intersection we have precision x recall.\n",
    "The more fundamental problem is that this kind of a model that have a decently good Dice loss but always predicts background image instead of the mask is not at all useful and no compute resources should be spent on that! Also the assignment informed us to develop a generalizing model, otherwise we could just predict blank images all the way.\n",
    "\n",
    "### Approach Summarized\n",
    "1. Dividing data loading into two due to memory considerations.\n",
    "2. For first 9 patients, we generate patches for features and Labels and use all the data there. Alternatively could use only mostly tumor data since then there is something more essential for the network to learn from. We split all the batches in the ratio 80-20, 20 to check for the validation error and to see if the model is performing all right.\n",
    "For the rest of the 11 patients, we do batching patient-wise since the final evaluation is also done patient-wise. For that we generate 9 random integers without replacement for training and 2 for validation. No train-test split function is used, instead we subset the training set to match the ratio 70-30 (tumors vs non-tumors) as this showed promise in the testing rounds and then we test on non-altered batches of the remaining 2 patients to get as genuine representation of the generalization error.\n",
    "\n",
    "3. Transfer Learning with U-Nets with the (differentiable, with squares and smoothing addition) Dice Loss as the loss function. So basically the transfer learning in this context means that we are first making sure the network actually learns anything by providing it the feature and label patches of data. After the network has learned from these small batches of data to predict more or less adequate mask shapes, we load these weights into the U-NET for the initial problem and fine-tune that. Finally after finetuning, we use that to generate test predictions.\n",
    "4. Lastly I would do  hyperparameter tuning with Auto-Keras where the individual strategies would be optimizations over datasets and hyperparameters. Not included in this submission yet.\n",
    "\n",
    "# Alterative Approach and Possible Additions\n",
    "## Image Reconstructions\n",
    "We could have directly tried to reconstruct the initial task masks from the predictions obtained from the learner trained on the feature patches. In principle it works this way that after extracting the patches, we use the learned to predict patches of the original masks. Then we do the inverse mapping from these predictions to the original labels. This can be done also in Tensorflow since there are some useful relations about the mapping.\n",
    "\n",
    "## Augmentations\n",
    "We tried out Keras ImageDataGenerator augmentations that add transformations to the underlying data randomly. We checked that on small datasets, training didn't actually benefit from these neither on the patched data nor in the original data. It might be because of the data imbalance as well as the parameter choices for augmentations. There are also other libraries that could be tried out for example `Albumentations`.\n"
   ]
  },
  {
   "cell_type": "markdown",
   "metadata": {
    "colab_type": "text",
    "id": "ztOBuHLvm7jK"
   },
   "source": [
    "### Alternative Approach -- Direct Reconstruction of Tumor Masks from Patch Predictions\n",
    "\n",
    "We didn't pursue this approach due to some technical inconsistencies, but theoretically this approach should also work."
   ]
  },
  {
   "cell_type": "code",
   "execution_count": null,
   "metadata": {
    "colab": {},
    "colab_type": "code",
    "id": "eN_tuv5InAiI"
   },
   "outputs": [],
   "source": [
    "# patch_size=64\n",
    "# stride = patch_size//4\n",
    "# strides = [1,stride,stride,1]\n",
    "# sizes = [1,patch_size,patch_size,1]\n",
    "# from tensorflow.python.framework.ops import disable_eager_execution\n",
    "# disable_eager_execution()\n",
    "# \n",
    "# def extract_patches(x,sizes,strides):\n",
    "#     return image.extract_patches(\n",
    "#         x,\n",
    "#         sizes,\n",
    "#         strides,\n",
    "#         (1, 1, 1, 1),\n",
    "#         padding=\"SAME\"\n",
    "#     )\n",
    "# \n",
    "# def extract_patches_inverse(x, y,sizes,strides):\n",
    "#     _x = tensorflow.zeros_like(x)\n",
    "#     _y = extract_patches(_x,sizes,strides)\n",
    "#     grad = tensorflow.gradients(_y, _x)[0]\n",
    "#     # Divide by grad, to \"average\" together the overlapping patches\n",
    "#     # otherwise they would simply sum up\n",
    "#     return tensorflow.gradients(_y, _x, grad_ys=y)[0] / grad\n",
    "# \n",
    "# # Extract patches\n",
    "# #patches = extract_patches(images)\n",
    "# # Reconstruct image\n",
    "# # Notice that original images are only passed to infer the right shape\n",
    "# all_labels = data_dictionary_2_patients_test.get(\"all_labels\")\n",
    "# #reshaped_mask_predictions = two_patients_predicted_masks.reshape(-1, patch_size, patch_size, 1)\n",
    "# #print(reshaped_mask_predictions.shape)\n",
    "# images_reconstructed = extract_patches_inverse(all_labels, reshaped_mask_predictions,sizes,strides) \n",
    "# "
   ]
  },
  {
   "cell_type": "markdown",
   "metadata": {},
   "source": [
    "## Attempting to write Patient-wise Average Dice Loss"
   ]
  },
  {
   "cell_type": "code",
   "execution_count": null,
   "metadata": {},
   "outputs": [],
   "source": [
    "#def average_dice_loss(threshold=0.01,labels=np.asarray(all_labels,dtype=np.float32),predictions = np.asarray(all_predictions,dtype=np.float32)):\n",
    "#    amount_of_patients = labels.shape[0]//155\n",
    "#    #losses = np.zeros((amount_of_patients,1))\n",
    "#    predictions_binary = binary_shaper(predictions,threshold)\n",
    "#    \n",
    "#    losses = []\n",
    "#    for i in range(amount_of_patients):\n",
    "#        patient_i_labels = labels[i*155:(i+1)*155,:,:,0]\n",
    "#        patient_i_predictions = predictions_binary[i*155:(i+1)*155,:,:,0]\n",
    "#        print(patient_i_predictions.shape)\n",
    "#        randi = np.random.randint(low=0,high=155,size=1)[0]\n",
    "#        print(\"PREDICTION IS:\")\n",
    "#        plt.imshow(patient_i_predictions[randi,:,:])\n",
    "#        plt.show()\n",
    "#        print(\"TRUE LABEL IS\")\n",
    "#        plt.imshow(patient_i_labels[randi,:,:])\n",
    "#        plt.show()\n",
    "#        ith_loss = dice_loss(y_true=patient_i_labels.flatten(),y_pred=patient_i_predictions.flatten())\n",
    "#        print(f\"ith patient loss is {ith_loss}\")\n",
    "#        #losses[i]=ith_loss\n",
    "#        losses.append(ith_loss)\n",
    "#        current_average = np.mean(losses)\n",
    "#        print(f\"Current running average of losses is {current_average}\")\n",
    "#    \n",
    "#    return np.mean(losses)\n",
    "\n",
    "#a = average_dice_loss(threshold=0.1)\n",
    "#print(f\"The average patient-wise Dice loss is {a}\")"
   ]
  }
 ],
 "metadata": {
  "accelerator": "GPU",
  "colab": {
   "collapsed_sections": [],
   "machine_shape": "hm",
   "name": "final_segmentation_on_colab.ipynb",
   "provenance": [],
   "toc_visible": true
  },
  "kernelspec": {
   "display_name": "conda_tensorflow_p36",
   "language": "python",
   "name": "conda_tensorflow_p36"
  },
  "language_info": {
   "codemirror_mode": {
    "name": "ipython",
    "version": 3
   },
   "file_extension": ".py",
   "mimetype": "text/x-python",
   "name": "python",
   "nbconvert_exporter": "python",
   "pygments_lexer": "ipython3",
   "version": "3.6.5"
  },
  "toc": {
   "base_numbering": 1,
   "nav_menu": {},
   "number_sections": true,
   "sideBar": true,
   "skip_h1_title": false,
   "title_cell": "Table of Contents",
   "title_sidebar": "Contents",
   "toc_cell": false,
   "toc_position": {},
   "toc_section_display": true,
   "toc_window_display": false
  },
  "toc-autonumbering": true,
  "toc-showmarkdowntxt": false,
  "toc-showtags": false,
  "varInspector": {
   "cols": {
    "lenName": 16,
    "lenType": 16,
    "lenVar": 40
   },
   "kernels_config": {
    "python": {
     "delete_cmd_postfix": "",
     "delete_cmd_prefix": "del ",
     "library": "var_list.py",
     "varRefreshCmd": "print(var_dic_list())"
    },
    "r": {
     "delete_cmd_postfix": ") ",
     "delete_cmd_prefix": "rm(",
     "library": "var_list.r",
     "varRefreshCmd": "cat(var_dic_list()) "
    }
   },
   "types_to_exclude": [
    "module",
    "function",
    "builtin_function_or_method",
    "instance",
    "_Feature"
   ],
   "window_display": false
  }
 },
 "nbformat": 4,
 "nbformat_minor": 4
}
