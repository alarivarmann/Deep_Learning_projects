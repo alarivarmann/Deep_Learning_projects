{
 "cells": [
  {
   "cell_type": "markdown",
   "metadata": {},
   "source": [
    "## Start by understand LSTMs\n",
    "[LSTM](https://colah.github.io/posts/2015-08-Understanding-LSTMs/)\n",
    "\n",
    "[Same in PDF format](https://filedn.com/lK1VhM9GbBxVlERr9KFjD4B/deep_learning_resources/timeseries/Understanding_LSTMs.pdf)\n",
    "\n",
    "[Connection to OOP](https://www.kdnuggets.com/2019/08/simple-mix-object-oriented-programming-sharpen-deep-learning-prototype.html)"
   ]
  },
  {
   "cell_type": "markdown",
   "metadata": {},
   "source": [
    "## Count Regression Problem"
   ]
  },
  {
   "cell_type": "markdown",
   "metadata": {},
   "source": [
    "### Problem Setup\n",
    "The data includes weekly occurrence counts of 11 keywords related to a disease\n",
    "in an online discussion forum. The goal is to predict the official weekly disease\n",
    "counts. The name of the disease and keywords are not relevant, thus are not\n",
    "given.\n",
    "The data is divided into training and test sets.\n",
    "Training set has 282 rows (weeks), 13 columns. First column is the date of the\n",
    "start of that particular week, next 11 columns are the keyword counts during\n",
    "that week and the last column is the target which is the official weekly count of\n",
    "number of people having that disease in that week.\n",
    "The test set (52 rows) structure is the same, except that it does not have the\n",
    "last column, i.e., target values.\n",
    "\n",
    "#### TASK\n",
    "The task is to create a machine learning model, trained on the training set, to\n",
    "predict the weekly disease counts on the test set."
   ]
  },
  {
   "cell_type": "markdown",
   "metadata": {},
   "source": [
    "### Poisson Regression ?\n",
    "The question is whether the logarithm of the weekly disease counts can be modeled as a linear combination of the weekly keyword counts.\n",
    "It is unnatural to assume that the logarithm one count variable could be modeled as a linear combination of other counts, thus Poisson Regression is not the approach to take here.\n",
    "\n",
    "### Black-Box Approach with Uncertainty Estimate ?\n",
    "Nevertheless, the black-box model should always be possible to be implemented due to the universal approximation theorem.\n",
    "\n",
    "We are going to use LSTM Neural network with MSE error. We could also consider turning this into a classification problem, but we would probably need at least 17 classes, thus not recommended.\n",
    "\n",
    "To simulate the Bayesian approach :\n",
    "The fact of randomly turning neurons on and off is roughly equivalent to performing a sampling of a Bernoulli distribution, and therefore “simulates” the mechanics of a Bayesian Neural Network (where weights are distributions, and not single values). Applying dropout is a bit like if we were “sampling” from the network. And if we repeat this process several times during inference, we will get different predictions with which we can estimate a distribution and eventually, uncertainty !\n",
    "\n",
    "This paper is inspired by the Monte Carlo dropout (MC dropout) framework proposed in [13] and [22], which\n",
    "requires no change of the existing model architecture and provides uncertainty estimation almost for free. Specifically, stochastic dropouts are applied after each hidden layer, and the model output can be approximately viewed as a random sample generated from the posterior predictive distribution\n",
    "[21]. As a result, the model uncertainty can be estimated by the sample variance of the model predictions in a few\n",
    "repetitions."
   ]
  },
  {
   "cell_type": "markdown",
   "metadata": {},
   "source": [
    "## Getting Data, Preprocessing and Generating Features"
   ]
  },
  {
   "cell_type": "code",
   "execution_count": null,
   "metadata": {},
   "outputs": [],
   "source": [
    "#!pip install --upgrade tensorflow --user\n",
    "!pip install --upgrade numpy  --user"
   ]
  },
  {
   "cell_type": "code",
   "execution_count": 263,
   "metadata": {},
   "outputs": [],
   "source": [
    "os.chdir(\"/media/sf_dl_projects_combined/ml_for_python_2019_/4_revision_python_programming/pytorch_problem\")\n",
    "\n",
    "train_path = os.path.abspath(\n",
    "    os.path.join(\n",
    "        \"data\",\n",
    "        'training_set.csv'\n",
    "    )\n",
    ")\n",
    "\n",
    "test_path = os.path.abspath(\n",
    "    os.path.join(  \n",
    "        \"data\",\n",
    "        'test_set.csv'\n",
    "    )\n",
    ")\n",
    "\n",
    "raw_train = pd.read_csv(train_path,delimiter=\";\",header=None)\n",
    "raw_test = pd.read_csv(test_path,delimiter=\";\",header=None)\n",
    "\n",
    "data_dict_features = {\"trainX\":raw_train.loc[:,:raw_train.shape[1]-2],\"testX\":raw_test}\n"
   ]
  },
  {
   "cell_type": "markdown",
   "metadata": {},
   "source": [
    "### Train and Test Set have to have the same amount of Features"
   ]
  },
  {
   "cell_type": "code",
   "execution_count": 268,
   "metadata": {},
   "outputs": [
    {
     "name": "stdout",
     "output_type": "stream",
     "text": [
      "(282, 12)\n",
      "(52, 12)\n"
     ]
    }
   ],
   "source": [
    "# So we have 12 feaures of counts (one corresponds to datetime)\n",
    "#data_dict_features.get(\"testX\").head()\n",
    "print((raw_train.loc[:,:raw_train.shape[1]-2]).shape) \n",
    "print(raw_test.shape)"
   ]
  },
  {
   "cell_type": "code",
   "execution_count": 112,
   "metadata": {
    "code_folding": [
     1
    ]
   },
   "outputs": [],
   "source": [
    "# havent used yet\n",
    "def generate_data_units(data,nolabel):\n",
    "    if nolabel == False:\n",
    "        print(data.shape[1])\n",
    "        X = data.loc[:,1:data.shape[1]-2]\n",
    "        print(f\"Amount of train features {X.shape[1]}\")\n",
    "        y = data.loc[:,data.shape[1]-1]\n",
    "    else :\n",
    "        y = []\n",
    "        X = data.loc[:,1:data.shape[1]-1]\n",
    "        print(f\"Amount of test features {X.shape[1]}\")\n",
    "    return X,y,no_features\n",
    "\n",
    "#trainX,trainy,no_features = generate_data_units(data=train,nolabel=False)\n",
    "#testX,_,__ = generate_data_units(data=test,nolabel=True)\n",
    "#no_features"
   ]
  },
  {
   "cell_type": "markdown",
   "metadata": {},
   "source": [
    "### Setting Datetime as Index "
   ]
  },
  {
   "cell_type": "code",
   "execution_count": 269,
   "metadata": {
    "code_folding": [
     12,
     18
    ]
   },
   "outputs": [],
   "source": [
    "import os\n",
    "import numpy as np\n",
    "from numpy import genfromtxt\n",
    "import pandas as pd\n",
    "\n",
    "kwargs = {\"n_in\":10,\"n_out\":5,\"dropnan\":False,\"col\": 0}\n",
    "\n",
    "################## TRANSFORM TRAIN AND TEST TOGETHER USING THIS #########3\n",
    "def apply_fun(dict_:dict,fun,**kwargs):\n",
    "    transformed_dict = dict((k, fun(v,**kwargs)) for k, v in dict_.items())\n",
    "    return transformed_dict\n",
    "\n",
    "def properly_set_time_idx(data:pd.DataFrame,**kwargs):\n",
    "    s = data.set_index(pd.DatetimeIndex(data.loc[:,kwargs.get(\"col\")]),inplace=False)\n",
    "    if 0 in s.columns:\n",
    "        s.drop([0],axis=1,inplace=True)\n",
    "    return s\n",
    "\n",
    "generated_features = apply_fun(data_dict_features,fun=properly_set_time_idx,**kwargs)\n"
   ]
  },
  {
   "cell_type": "markdown",
   "metadata": {},
   "source": [
    "### Generate Time Series Features by Rolling (Shifting)"
   ]
  },
  {
   "cell_type": "code",
   "execution_count": 270,
   "metadata": {
    "code_folding": [
     0
    ]
   },
   "outputs": [],
   "source": [
    "def generate_ts_features(data : pd.DataFrame, **kwargs ):\n",
    "    \"\"\"\n",
    "    Frame a time series as a supervised learning dataset.\n",
    "    Arguments:\n",
    "        data: Sequence of observations as a list or NumPy array.\n",
    "        n_in: Number of lag observations as input (X).\n",
    "        n_out: Number of observations as output (y).\n",
    "        dropnan: Boolean whether or not to drop rows with NaN values.\n",
    "    Returns:\n",
    "        Pandas DataFrame of series framed for supervised learning.\n",
    "    \"\"\"\n",
    "    n_in= kwargs.get(\"n_in\")\n",
    "    n_out= kwargs.get(\"n_out\")\n",
    "    dropnan= kwargs.get(\"dropnan\")\n",
    "    n_vars = 1 if type(data) is list else data.shape[1]\n",
    "    df = data.values\n",
    "    cols, names = list(), list()\n",
    "    \n",
    "    # input sequence (t-n, ... t-1)\n",
    "    \n",
    "    for i in range(n_in, 0, -1):\n",
    "        cols.append(pd.DataFrame(np.roll(df,i,axis=0)))\n",
    "        names += [('var%d(t-%d)' % (j+1, i)) for j in range(n_vars)]\n",
    "        \n",
    "    # forecast sequence (t, t+1, ... t+n)\n",
    "    for i in range(0, n_out):\n",
    "        cols.append(pd.DataFrame(np.roll(df,-i,axis=0)))\n",
    "        if i == 0:\n",
    "            names += [('var%d(t)' % (j+1)) for j in range(n_vars)]\n",
    "        else:\n",
    "            names += [('var%d(t+%d)' % (j+1, i)) for j in range(n_vars)]\n",
    "    # put it all together\n",
    "\n",
    "    agg = pd.concat(cols, axis=1)\n",
    "    agg.columns = names\n",
    "    \n",
    "    # drop rows with NaN values\n",
    "    if dropnan:\n",
    "        agg.dropna(inplace=True)\n",
    "        \n",
    "    return agg\n",
    "\n",
    "generated_features_numpy_roll = apply_fun(generated_features,fun=generate_ts_features,**kwargs)\n",
    "generated_features_numpy_roll[\"trainy\"] = raw_train.loc[:,raw_train.shape[1]-1]\n"
   ]
  },
  {
   "cell_type": "code",
   "execution_count": 271,
   "metadata": {},
   "outputs": [
    {
     "data": {
      "text/plain": [
       "{'trainX': (282, 165), 'testX': (52, 165), 'trainy': (282,)}"
      ]
     },
     "execution_count": 271,
     "metadata": {},
     "output_type": "execute_result"
    }
   ],
   "source": [
    "apply_fun(generated_features_numpy_roll,fun=lambda x : x.shape)"
   ]
  },
  {
   "cell_type": "markdown",
   "metadata": {},
   "source": [
    "As you see from below, time series delay features have been generated. Now the neural network can used both the original time series as well as all possibly delayed versions of it."
   ]
  },
  {
   "cell_type": "code",
   "execution_count": 251,
   "metadata": {},
   "outputs": [
    {
     "data": {
      "text/plain": [
       "{'trainX':    var1(t-10)  var2(t-10)  var3(t-10)  var4(t-10)  var5(t-10)  var6(t-10)  \\\n",
       " 0         4.0         1.0         2.0         2.0        20.0         0.0   \n",
       " 1        14.0         1.0         2.0         2.0        25.0         1.0   \n",
       " 2         5.0         1.0         6.0         4.0        24.0         1.0   \n",
       " 3         6.0         0.0         0.0         0.0        17.0         0.0   \n",
       " 4         5.0         3.0         2.0         1.0        16.0         0.0   \n",
       " \n",
       "    var7(t-10)  var8(t-10)  var9(t-10)  var10(t-10)  ...  var3(t+4)  var4(t+4)  \\\n",
       " 0         1.0         2.0        17.0          1.0  ...        3.0        5.0   \n",
       " 1         0.0         9.0        23.0          4.0  ...        8.0        7.0   \n",
       " 2         0.0         5.0        13.0         12.0  ...        7.0        9.0   \n",
       " 3         0.0         5.0        10.0          5.0  ...       12.0        3.0   \n",
       " 4         0.0         7.0        18.0          5.0  ...        3.0        6.0   \n",
       " \n",
       "    var5(t+4)  var6(t+4)  var7(t+4)  var8(t+4)  var9(t+4)  var10(t+4)  \\\n",
       " 0       58.0        0.0        0.0       28.0       41.0         5.0   \n",
       " 1       61.0        2.0        0.0       17.0       38.0         7.0   \n",
       " 2       55.0        3.0        0.0       21.0       31.0         4.0   \n",
       " 3       57.0        0.0        0.0       29.0       34.0         7.0   \n",
       " 4       35.0        1.0        0.0       21.0       34.0         7.0   \n",
       " \n",
       "    var11(t+4)  var12(t+4)  \n",
       " 0        27.0        51.0  \n",
       " 1        16.0        65.0  \n",
       " 2        14.0        37.0  \n",
       " 3        26.0        35.0  \n",
       " 4        10.0        22.0  \n",
       " \n",
       " [5 rows x 180 columns],\n",
       " 'testX':    var1(t-10)  var2(t-10)  var3(t-10)  var4(t-10)  var5(t-10)  var6(t-10)  \\\n",
       " 0         8.0         0.0         2.0         3.0        11.0         1.0   \n",
       " 1         7.0         1.0         0.0         3.0        11.0         0.0   \n",
       " 2        10.0         1.0         1.0         3.0         6.0         0.0   \n",
       " 3         1.0         1.0         2.0         1.0         7.0         0.0   \n",
       " 4         7.0         0.0         1.0         0.0         6.0         0.0   \n",
       " \n",
       "    var7(t-10)  var8(t-10)  var9(t-10)  var10(t-10)  ...  var2(t+4)  var3(t+4)  \\\n",
       " 0         0.0         6.0        12.0          5.0  ...        4.0        0.0   \n",
       " 1         0.0         7.0        14.0          3.0  ...        0.0        2.0   \n",
       " 2         0.0         3.0         5.0          5.0  ...        3.0        1.0   \n",
       " 3         0.0         2.0        11.0          1.0  ...        1.0        0.0   \n",
       " 4         0.0         3.0         8.0          7.0  ...        1.0        0.0   \n",
       " \n",
       "    var4(t+4)  var5(t+4)  var6(t+4)  var7(t+4)  var8(t+4)  var9(t+4)  \\\n",
       " 0        1.0       13.0        0.0        0.0        3.0       12.0   \n",
       " 1        0.0       10.0        0.0        0.0        3.0       19.0   \n",
       " 2        1.0        8.0        0.0        1.0        5.0       15.0   \n",
       " 3        1.0       15.0        0.0        0.0        4.0       17.0   \n",
       " 4        0.0       13.0        1.0        1.0        4.0        9.0   \n",
       " \n",
       "    var10(t+4)  var11(t+4)  \n",
       " 0         5.0         7.0  \n",
       " 1         7.0         2.0  \n",
       " 2         3.0         3.0  \n",
       " 3         2.0         3.0  \n",
       " 4         0.0         2.0  \n",
       " \n",
       " [5 rows x 165 columns],\n",
       " 'trainy': 0     9\n",
       " 1    15\n",
       " 2    20\n",
       " 3    51\n",
       " 4    51\n",
       " Name: 12, dtype: int64}"
      ]
     },
     "execution_count": 251,
     "metadata": {},
     "output_type": "execute_result"
    }
   ],
   "source": [
    "apply_fun(generated_features_numpy_roll,fun=pd.DataFrame.head)"
   ]
  },
  {
   "cell_type": "markdown",
   "metadata": {},
   "source": [
    "### Splitting the Data for Evaluation ; Reshaping for Input to LSTM"
   ]
  },
  {
   "cell_type": "code",
   "execution_count": 272,
   "metadata": {},
   "outputs": [
    {
     "name": "stdout",
     "output_type": "stream",
     "text": [
      "(188, 15, 11) (188,) (94, 15, 11) (94,) (52, 15, 11)\n"
     ]
    }
   ],
   "source": [
    "from sklearn.model_selection import train_test_split\n",
    "X,y  = generated_features_numpy_roll.get(\"trainX\").values, generated_features_numpy_roll.get(\"trainy\").values\n",
    "X_test = generated_features_numpy_roll.get(\"testX\").values                                                \n",
    "X_train, X_validate, y_train, y_validate = train_test_split(X, y, test_size=0.33, random_state=42)\n",
    "\n",
    "### Reshaping to conform to LSTM \n",
    "# reshape input to be 3D [samples, timesteps, features]\n",
    "n_in = kwargs.get(\"n_in\")\n",
    "n_out = kwargs.get(\"n_out\")\n",
    "\n",
    "X_train = X_train.reshape((X_train.shape[0],n_in + n_out , -1))\n",
    "X_validate = X_validate.reshape((X_validate.shape[0], n_in + n_out, -1)) # X_validate.shape[1]\n",
    "X_test = X_test.reshape((X_test.shape[0], n_in + n_out, -1)) # X_validate.shape[1]\n",
    "\n",
    "\n",
    "print(X_train.shape, y_train.shape, X_validate.shape, y_validate.shape,X_test.shape)\n",
    "\n"
   ]
  },
  {
   "cell_type": "markdown",
   "metadata": {},
   "source": [
    "##  Simple LSTM Approach with Keras"
   ]
  },
  {
   "cell_type": "code",
   "execution_count": 298,
   "metadata": {
    "code_folding": [
     13
    ]
   },
   "outputs": [],
   "source": [
    "import tensorflow as tf\n",
    "from tensorflow import keras\n",
    "from tensorflow.keras.models import Sequential\n",
    "from tensorflow.keras.layers import Dense, LSTM\n",
    "from tensorflow.keras.layers import Dropout\n",
    "from tensorflow.keras.optimizers import SGD\n",
    "\n",
    "\n",
    "kwargs_training = {\"momentum\":0.8,\"decay\":0.1,\"lr\":0.01,\"lstm_units\":80,\\\n",
    "                   \"optimizer\":\"sgd\",\"dropout_probability\":0.2,\"loss_\":\"mae\"}\n",
    "def model_string(**kwargs):\n",
    "    return ', '.join('%s=%r' % x for x in kwargs.items())\n",
    "\n",
    "def create_model(**kwargs):\n",
    "    loss_ = kwargs.get(\"loss_\")\n",
    "    optimizer_ = kwargs.get(\"optimizer\")\n",
    "    if optimizer_ == \"sgd\":\n",
    "          decay,momentum,lr = kwargs.get(\"decay\"), kwargs.get(\"momentum\"),kwargs.get(\"lr\")\n",
    "    dropout_probability = kwargs.get(\"dropout_probability\")\n",
    "    lstm_units = kwargs.get(\"lstm_units\")\n",
    "    model = tf.keras.Sequential()\n",
    "    sgd = SGD(lr=lr, momentum=momentum, decay=decay, nesterov=False)\n",
    "  \n",
    "    model.add(LSTM(lstm_units, input_shape=(X_train.shape[1], X_train.shape[2]))) # LSTM input is timesteps x features\n",
    "    # https://machinelearningmastery.com/dropout-regularization-deep-learning-models-keras/\n",
    "    model.add(Dropout(dropout_probability))\n",
    "    model.add(Dense(1)) # predicting one dependent variable\n",
    "    model.compile(loss=loss_,optimizer = optimizer_ ) #  or optimizer='adam'\n",
    "   \n",
    "    modelstring = model_string(**kwargs)\n",
    "    return model,modelstring\n"
   ]
  },
  {
   "cell_type": "markdown",
   "metadata": {},
   "source": [
    "### Model 1"
   ]
  },
  {
   "cell_type": "code",
   "execution_count": 306,
   "metadata": {},
   "outputs": [
    {
     "name": "stdout",
     "output_type": "stream",
     "text": [
      "Train on 188 samples, validate on 94 samples\n",
      "Epoch 1/200\n",
      "188/188 - 3s - loss: 27.8968 - val_loss: 41.9293\n",
      "Epoch 2/200\n",
      "188/188 - 0s - loss: 26.2010 - val_loss: 40.9348\n",
      "Epoch 3/200\n",
      "188/188 - 0s - loss: 25.5944 - val_loss: 40.4223\n",
      "Epoch 4/200\n",
      "188/188 - 1s - loss: 25.3523 - val_loss: 40.1713\n",
      "Epoch 5/200\n",
      "188/188 - 0s - loss: 25.2422 - val_loss: 40.0027\n",
      "Epoch 6/200\n",
      "188/188 - 0s - loss: 25.1746 - val_loss: 39.9293\n",
      "Epoch 7/200\n",
      "188/188 - 0s - loss: 25.1588 - val_loss: 39.8007\n",
      "Epoch 8/200\n",
      "188/188 - 1s - loss: 25.0664 - val_loss: 39.8054\n",
      "Epoch 9/200\n",
      "188/188 - 1s - loss: 24.9841 - val_loss: 39.7287\n",
      "Epoch 10/200\n",
      "188/188 - 0s - loss: 24.9334 - val_loss: 39.6160\n",
      "Epoch 11/200\n",
      "188/188 - 1s - loss: 24.8593 - val_loss: 39.7895\n",
      "Epoch 12/200\n",
      "188/188 - 0s - loss: 24.9153 - val_loss: 40.1319\n",
      "Epoch 13/200\n",
      "188/188 - 1s - loss: 24.8637 - val_loss: 39.8150\n",
      "Epoch 14/200\n",
      "188/188 - 0s - loss: 24.8786 - val_loss: 39.5098\n",
      "Epoch 15/200\n",
      "188/188 - 0s - loss: 24.8065 - val_loss: 39.4745\n",
      "Epoch 16/200\n",
      "188/188 - 1s - loss: 24.7559 - val_loss: 39.5356\n",
      "Epoch 17/200\n",
      "188/188 - 0s - loss: 24.6838 - val_loss: 39.6299\n",
      "Epoch 18/200\n",
      "188/188 - 0s - loss: 24.3628 - val_loss: 39.5610\n",
      "Epoch 19/200\n",
      "188/188 - 0s - loss: 24.6665 - val_loss: 39.2129\n",
      "Epoch 20/200\n",
      "188/188 - 0s - loss: 24.2880 - val_loss: 39.0383\n",
      "Epoch 21/200\n",
      "188/188 - 0s - loss: 24.3788 - val_loss: 39.2292\n",
      "Epoch 22/200\n",
      "188/188 - 0s - loss: 24.3158 - val_loss: 39.3000\n",
      "Epoch 23/200\n",
      "188/188 - 0s - loss: 24.1698 - val_loss: 39.5333\n",
      "Epoch 24/200\n",
      "188/188 - 0s - loss: 24.2518 - val_loss: 39.3642\n",
      "Epoch 25/200\n",
      "188/188 - 0s - loss: 24.1262 - val_loss: 39.0379\n",
      "Epoch 26/200\n",
      "188/188 - 0s - loss: 23.9498 - val_loss: 38.7957\n",
      "Epoch 27/200\n",
      "188/188 - 0s - loss: 24.0975 - val_loss: 39.0883\n",
      "Epoch 28/200\n",
      "188/188 - 0s - loss: 23.8215 - val_loss: 39.0445\n",
      "Epoch 29/200\n",
      "188/188 - 0s - loss: 23.7738 - val_loss: 39.0293\n",
      "Epoch 30/200\n",
      "188/188 - 1s - loss: 23.8636 - val_loss: 39.2492\n",
      "Epoch 31/200\n",
      "188/188 - 0s - loss: 24.1944 - val_loss: 39.0617\n",
      "Epoch 32/200\n",
      "188/188 - 0s - loss: 23.9506 - val_loss: 39.0279\n",
      "Epoch 33/200\n",
      "188/188 - 0s - loss: 23.9468 - val_loss: 38.9213\n",
      "Epoch 34/200\n",
      "188/188 - 1s - loss: 23.9629 - val_loss: 38.8874\n",
      "Epoch 35/200\n",
      "188/188 - 0s - loss: 23.9463 - val_loss: 38.8931\n",
      "Epoch 36/200\n",
      "188/188 - 1s - loss: 23.7750 - val_loss: 39.2705\n",
      "Epoch 37/200\n",
      "188/188 - 0s - loss: 23.9062 - val_loss: 38.8267\n",
      "Epoch 38/200\n",
      "188/188 - 0s - loss: 23.6153 - val_loss: 38.6370\n",
      "Epoch 39/200\n",
      "188/188 - 1s - loss: 23.8698 - val_loss: 38.8858\n",
      "Epoch 40/200\n",
      "188/188 - 0s - loss: 23.6120 - val_loss: 38.9540\n",
      "Epoch 41/200\n",
      "188/188 - 0s - loss: 23.7894 - val_loss: 38.5709\n",
      "Epoch 42/200\n",
      "188/188 - 0s - loss: 23.6328 - val_loss: 38.7202\n",
      "Epoch 43/200\n",
      "188/188 - 0s - loss: 23.3432 - val_loss: 38.5224\n",
      "Epoch 44/200\n",
      "188/188 - 0s - loss: 23.3823 - val_loss: 38.3770\n",
      "Epoch 45/200\n",
      "188/188 - 0s - loss: 23.7614 - val_loss: 38.4877\n",
      "Epoch 46/200\n",
      "188/188 - 0s - loss: 23.5285 - val_loss: 38.7085\n",
      "Epoch 47/200\n",
      "188/188 - 0s - loss: 23.1390 - val_loss: 38.6758\n",
      "Epoch 48/200\n",
      "188/188 - 0s - loss: 23.3354 - val_loss: 38.4384\n",
      "Epoch 49/200\n",
      "188/188 - 0s - loss: 23.1121 - val_loss: 38.7833\n",
      "Epoch 50/200\n",
      "188/188 - 0s - loss: 23.4775 - val_loss: 38.5510\n",
      "Epoch 51/200\n",
      "188/188 - 0s - loss: 23.5512 - val_loss: 38.8906\n",
      "Epoch 52/200\n",
      "188/188 - 0s - loss: 23.4522 - val_loss: 38.6099\n",
      "Epoch 53/200\n",
      "188/188 - 0s - loss: 23.3069 - val_loss: 38.9721\n",
      "Epoch 54/200\n",
      "188/188 - 0s - loss: 23.4424 - val_loss: 38.4622\n",
      "Epoch 55/200\n",
      "188/188 - 0s - loss: 23.1174 - val_loss: 38.4554\n",
      "Epoch 56/200\n",
      "188/188 - 0s - loss: 23.2976 - val_loss: 38.5414\n",
      "Epoch 57/200\n",
      "188/188 - 0s - loss: 23.1200 - val_loss: 38.3669\n",
      "Epoch 58/200\n",
      "188/188 - 0s - loss: 23.1684 - val_loss: 38.3410\n",
      "Epoch 59/200\n",
      "188/188 - 0s - loss: 23.2140 - val_loss: 38.5724\n",
      "Epoch 60/200\n",
      "188/188 - 1s - loss: 23.1537 - val_loss: 38.5185\n",
      "Epoch 61/200\n",
      "188/188 - 0s - loss: 23.2080 - val_loss: 38.2615\n",
      "Epoch 62/200\n",
      "188/188 - 0s - loss: 23.4899 - val_loss: 38.0609\n",
      "Epoch 63/200\n",
      "188/188 - 1s - loss: 23.3854 - val_loss: 38.4194\n",
      "Epoch 64/200\n",
      "188/188 - 0s - loss: 23.1700 - val_loss: 38.5043\n",
      "Epoch 65/200\n",
      "188/188 - 0s - loss: 23.2208 - val_loss: 38.4389\n",
      "Epoch 66/200\n",
      "188/188 - 0s - loss: 23.0150 - val_loss: 38.3050\n",
      "Epoch 67/200\n",
      "188/188 - 1s - loss: 22.9379 - val_loss: 37.9818\n",
      "Epoch 68/200\n",
      "188/188 - 0s - loss: 22.7911 - val_loss: 38.1129\n",
      "Epoch 69/200\n",
      "188/188 - 0s - loss: 22.9225 - val_loss: 38.0429\n",
      "Epoch 70/200\n",
      "188/188 - 0s - loss: 23.2461 - val_loss: 38.4731\n",
      "Epoch 71/200\n",
      "188/188 - 0s - loss: 23.3134 - val_loss: 37.8365\n",
      "Epoch 72/200\n",
      "188/188 - 0s - loss: 22.6542 - val_loss: 38.7071\n",
      "Epoch 73/200\n",
      "188/188 - 0s - loss: 23.1958 - val_loss: 38.0235\n",
      "Epoch 74/200\n",
      "188/188 - 0s - loss: 22.7594 - val_loss: 37.9769\n",
      "Epoch 75/200\n",
      "188/188 - 1s - loss: 22.7646 - val_loss: 38.7169\n",
      "Epoch 76/200\n",
      "188/188 - 0s - loss: 22.8763 - val_loss: 38.3375\n",
      "Epoch 77/200\n",
      "188/188 - 1s - loss: 22.7177 - val_loss: 38.1373\n",
      "Epoch 78/200\n",
      "188/188 - 0s - loss: 22.8363 - val_loss: 37.8355\n",
      "Epoch 79/200\n",
      "188/188 - 1s - loss: 22.6248 - val_loss: 38.5495\n",
      "Epoch 80/200\n",
      "188/188 - 1s - loss: 22.8923 - val_loss: 37.6583\n",
      "Epoch 81/200\n",
      "188/188 - 0s - loss: 22.6396 - val_loss: 37.6736\n",
      "Epoch 82/200\n",
      "188/188 - 0s - loss: 22.6274 - val_loss: 37.7754\n",
      "Epoch 83/200\n",
      "188/188 - 0s - loss: 22.4425 - val_loss: 37.7748\n",
      "Epoch 84/200\n",
      "188/188 - 0s - loss: 22.5043 - val_loss: 37.9660\n",
      "Epoch 85/200\n",
      "188/188 - 0s - loss: 23.0874 - val_loss: 37.8547\n",
      "Epoch 86/200\n",
      "188/188 - 0s - loss: 22.6108 - val_loss: 37.7149\n",
      "Epoch 87/200\n",
      "188/188 - 0s - loss: 22.6060 - val_loss: 37.6846\n",
      "Epoch 88/200\n",
      "188/188 - 0s - loss: 22.3581 - val_loss: 37.5205\n",
      "Epoch 89/200\n",
      "188/188 - 0s - loss: 22.4750 - val_loss: 37.3987\n",
      "Epoch 90/200\n",
      "188/188 - 1s - loss: 22.0929 - val_loss: 37.5478\n",
      "Epoch 91/200\n",
      "188/188 - 0s - loss: 22.4912 - val_loss: 37.5268\n",
      "Epoch 92/200\n",
      "188/188 - 1s - loss: 22.4478 - val_loss: 37.6076\n",
      "Epoch 93/200\n",
      "188/188 - 0s - loss: 22.6622 - val_loss: 37.7702\n",
      "Epoch 94/200\n",
      "188/188 - 0s - loss: 22.1033 - val_loss: 38.0147\n",
      "Epoch 95/200\n",
      "188/188 - 0s - loss: 22.5005 - val_loss: 37.1612\n",
      "Epoch 96/200\n",
      "188/188 - 0s - loss: 22.3205 - val_loss: 38.0292\n",
      "Epoch 97/200\n",
      "188/188 - 0s - loss: 22.9741 - val_loss: 37.6225\n",
      "Epoch 98/200\n",
      "188/188 - 0s - loss: 22.3109 - val_loss: 37.3766\n",
      "Epoch 99/200\n",
      "188/188 - 0s - loss: 22.4480 - val_loss: 37.4781\n",
      "Epoch 100/200\n",
      "188/188 - 0s - loss: 22.0616 - val_loss: 37.7327\n",
      "Epoch 101/200\n",
      "188/188 - 0s - loss: 22.5241 - val_loss: 37.8670\n",
      "Epoch 102/200\n",
      "188/188 - 0s - loss: 22.7783 - val_loss: 37.5859\n",
      "Epoch 103/200\n",
      "188/188 - 1s - loss: 22.3943 - val_loss: 37.6278\n",
      "Epoch 104/200\n",
      "188/188 - 0s - loss: 22.2346 - val_loss: 37.6674\n",
      "Epoch 105/200\n",
      "188/188 - 1s - loss: 22.3890 - val_loss: 38.3074\n",
      "Epoch 106/200\n",
      "188/188 - 0s - loss: 23.1005 - val_loss: 37.8651\n",
      "Epoch 107/200\n",
      "188/188 - 0s - loss: 22.7588 - val_loss: 37.6786\n",
      "Epoch 108/200\n",
      "188/188 - 0s - loss: 22.5190 - val_loss: 37.7425\n",
      "Epoch 109/200\n",
      "188/188 - 0s - loss: 22.5479 - val_loss: 37.3026\n",
      "Epoch 110/200\n",
      "188/188 - 0s - loss: 22.1635 - val_loss: 37.8790\n",
      "Epoch 111/200\n",
      "188/188 - 1s - loss: 22.2813 - val_loss: 36.8880\n",
      "Epoch 112/200\n",
      "188/188 - 1s - loss: 22.3093 - val_loss: 37.5030\n",
      "Epoch 113/200\n",
      "188/188 - 0s - loss: 22.3690 - val_loss: 37.7640\n",
      "Epoch 114/200\n",
      "188/188 - 0s - loss: 22.6344 - val_loss: 37.2657\n",
      "Epoch 115/200\n",
      "188/188 - 0s - loss: 21.9072 - val_loss: 37.1368\n",
      "Epoch 116/200\n",
      "188/188 - 0s - loss: 22.2582 - val_loss: 37.2627\n",
      "Epoch 117/200\n",
      "188/188 - 0s - loss: 22.0054 - val_loss: 37.4039\n",
      "Epoch 118/200\n",
      "188/188 - 0s - loss: 22.3508 - val_loss: 37.7959\n",
      "Epoch 119/200\n",
      "188/188 - 0s - loss: 22.1599 - val_loss: 36.9922\n",
      "Epoch 120/200\n",
      "188/188 - 0s - loss: 22.0995 - val_loss: 37.1968\n",
      "Epoch 121/200\n",
      "188/188 - 0s - loss: 22.2894 - val_loss: 37.4728\n",
      "Epoch 122/200\n",
      "188/188 - 0s - loss: 22.0729 - val_loss: 36.9973\n",
      "Epoch 123/200\n",
      "188/188 - 1s - loss: 21.9272 - val_loss: 36.9546\n",
      "Epoch 124/200\n",
      "188/188 - 1s - loss: 21.8117 - val_loss: 37.3020\n",
      "Epoch 125/200\n",
      "188/188 - 0s - loss: 21.8197 - val_loss: 37.1387\n",
      "Epoch 126/200\n",
      "188/188 - 0s - loss: 21.7712 - val_loss: 36.4832\n",
      "Epoch 127/200\n",
      "188/188 - 0s - loss: 21.7288 - val_loss: 36.9088\n",
      "Epoch 128/200\n",
      "188/188 - 0s - loss: 21.7628 - val_loss: 37.3018\n",
      "Epoch 129/200\n",
      "188/188 - 0s - loss: 21.6223 - val_loss: 36.4398\n",
      "Epoch 130/200\n",
      "188/188 - 0s - loss: 21.3014 - val_loss: 36.9049\n",
      "Epoch 131/200\n",
      "188/188 - 0s - loss: 21.8838 - val_loss: 36.5232\n",
      "Epoch 132/200\n"
     ]
    },
    {
     "name": "stdout",
     "output_type": "stream",
     "text": [
      "188/188 - 1s - loss: 21.5271 - val_loss: 36.5145\n",
      "Epoch 133/200\n",
      "188/188 - 1s - loss: 21.4557 - val_loss: 36.7753\n",
      "Epoch 134/200\n",
      "188/188 - 0s - loss: 21.7467 - val_loss: 37.0760\n",
      "Epoch 135/200\n",
      "188/188 - 0s - loss: 21.7166 - val_loss: 36.8293\n",
      "Epoch 136/200\n",
      "188/188 - 0s - loss: 21.6009 - val_loss: 36.5745\n",
      "Epoch 137/200\n",
      "188/188 - 1s - loss: 21.3160 - val_loss: 36.6040\n",
      "Epoch 138/200\n",
      "188/188 - 0s - loss: 21.5528 - val_loss: 36.5726\n",
      "Epoch 139/200\n",
      "188/188 - 1s - loss: 21.3435 - val_loss: 36.9936\n",
      "Epoch 140/200\n",
      "188/188 - 0s - loss: 21.2798 - val_loss: 37.8046\n",
      "Epoch 141/200\n",
      "188/188 - 0s - loss: 21.9226 - val_loss: 36.4779\n",
      "Epoch 142/200\n",
      "188/188 - 0s - loss: 21.5837 - val_loss: 36.7371\n",
      "Epoch 143/200\n",
      "188/188 - 1s - loss: 21.3331 - val_loss: 36.5396\n",
      "Epoch 144/200\n",
      "188/188 - 0s - loss: 21.4419 - val_loss: 36.5939\n",
      "Epoch 145/200\n",
      "188/188 - 1s - loss: 21.1287 - val_loss: 36.7319\n",
      "Epoch 146/200\n",
      "188/188 - 0s - loss: 21.4508 - val_loss: 36.7234\n",
      "Epoch 147/200\n",
      "188/188 - 0s - loss: 21.3530 - val_loss: 36.7118\n",
      "Epoch 148/200\n",
      "188/188 - 1s - loss: 21.1356 - val_loss: 36.7462\n",
      "Epoch 149/200\n",
      "188/188 - 0s - loss: 21.4840 - val_loss: 35.9579\n",
      "Epoch 150/200\n",
      "188/188 - 0s - loss: 21.2358 - val_loss: 36.4425\n",
      "Epoch 151/200\n",
      "188/188 - 1s - loss: 21.4080 - val_loss: 36.0240\n",
      "Epoch 152/200\n",
      "188/188 - 0s - loss: 21.0579 - val_loss: 36.4249\n",
      "Epoch 153/200\n",
      "188/188 - 0s - loss: 21.0955 - val_loss: 36.0049\n",
      "Epoch 154/200\n",
      "188/188 - 1s - loss: 21.3105 - val_loss: 35.8355\n",
      "Epoch 155/200\n",
      "188/188 - 0s - loss: 21.1544 - val_loss: 36.0769\n",
      "Epoch 156/200\n",
      "188/188 - 1s - loss: 21.3593 - val_loss: 36.5823\n",
      "Epoch 157/200\n",
      "188/188 - 0s - loss: 21.1918 - val_loss: 37.0106\n",
      "Epoch 158/200\n",
      "188/188 - 0s - loss: 21.7130 - val_loss: 36.5814\n",
      "Epoch 159/200\n",
      "188/188 - 1s - loss: 20.9758 - val_loss: 35.7327\n",
      "Epoch 160/200\n",
      "188/188 - 0s - loss: 21.1050 - val_loss: 36.0761\n",
      "Epoch 161/200\n",
      "188/188 - 0s - loss: 21.0658 - val_loss: 35.8640\n",
      "Epoch 162/200\n",
      "188/188 - 1s - loss: 21.0002 - val_loss: 36.1907\n",
      "Epoch 163/200\n",
      "188/188 - 0s - loss: 21.1297 - val_loss: 36.3619\n",
      "Epoch 164/200\n",
      "188/188 - 0s - loss: 20.9762 - val_loss: 35.5055\n",
      "Epoch 165/200\n",
      "188/188 - 0s - loss: 20.6919 - val_loss: 35.9504\n",
      "Epoch 166/200\n",
      "188/188 - 0s - loss: 20.7592 - val_loss: 35.4689\n",
      "Epoch 167/200\n",
      "188/188 - 0s - loss: 20.4417 - val_loss: 36.0728\n",
      "Epoch 168/200\n",
      "188/188 - 0s - loss: 21.3259 - val_loss: 35.6353\n",
      "Epoch 169/200\n",
      "188/188 - 0s - loss: 20.9047 - val_loss: 35.6295\n",
      "Epoch 170/200\n",
      "188/188 - 0s - loss: 20.8464 - val_loss: 35.5302\n",
      "Epoch 171/200\n",
      "188/188 - 0s - loss: 20.8162 - val_loss: 36.7509\n",
      "Epoch 172/200\n",
      "188/188 - 0s - loss: 20.8296 - val_loss: 36.0541\n",
      "Epoch 173/200\n",
      "188/188 - 0s - loss: 20.8282 - val_loss: 35.2248\n",
      "Epoch 174/200\n",
      "188/188 - 0s - loss: 20.6538 - val_loss: 35.3967\n",
      "Epoch 175/200\n",
      "188/188 - 1s - loss: 20.7099 - val_loss: 35.7486\n",
      "Epoch 176/200\n",
      "188/188 - 0s - loss: 21.1728 - val_loss: 35.3010\n",
      "Epoch 177/200\n",
      "188/188 - 0s - loss: 20.5090 - val_loss: 35.6913\n",
      "Epoch 178/200\n",
      "188/188 - 0s - loss: 20.6961 - val_loss: 35.7508\n",
      "Epoch 179/200\n",
      "188/188 - 0s - loss: 20.9069 - val_loss: 35.6286\n",
      "Epoch 180/200\n",
      "188/188 - 0s - loss: 20.4417 - val_loss: 35.9645\n",
      "Epoch 181/200\n",
      "188/188 - 0s - loss: 21.0049 - val_loss: 35.3220\n",
      "Epoch 182/200\n",
      "188/188 - 0s - loss: 20.5556 - val_loss: 34.8859\n",
      "Epoch 183/200\n",
      "188/188 - 0s - loss: 20.6552 - val_loss: 36.6003\n",
      "Epoch 184/200\n",
      "188/188 - 0s - loss: 21.3704 - val_loss: 35.4770\n",
      "Epoch 185/200\n",
      "188/188 - 0s - loss: 20.7995 - val_loss: 36.7102\n",
      "Epoch 186/200\n",
      "188/188 - 0s - loss: 20.6135 - val_loss: 35.1532\n",
      "Epoch 187/200\n",
      "188/188 - 0s - loss: 20.2564 - val_loss: 35.2863\n",
      "Epoch 188/200\n",
      "188/188 - 0s - loss: 20.6789 - val_loss: 36.9211\n",
      "Epoch 189/200\n",
      "188/188 - 1s - loss: 20.9764 - val_loss: 35.4951\n",
      "Epoch 190/200\n",
      "188/188 - 1s - loss: 20.6143 - val_loss: 36.1385\n",
      "Epoch 191/200\n",
      "188/188 - 0s - loss: 20.6171 - val_loss: 34.4918\n",
      "Epoch 192/200\n",
      "188/188 - 1s - loss: 20.1095 - val_loss: 35.6351\n",
      "Epoch 193/200\n",
      "188/188 - 0s - loss: 20.7958 - val_loss: 35.8846\n",
      "Epoch 194/200\n",
      "188/188 - 0s - loss: 21.3832 - val_loss: 35.3583\n",
      "Epoch 195/200\n",
      "188/188 - 0s - loss: 20.5275 - val_loss: 34.5942\n",
      "Epoch 196/200\n",
      "188/188 - 0s - loss: 20.6288 - val_loss: 35.0323\n",
      "Epoch 197/200\n",
      "188/188 - 0s - loss: 20.4071 - val_loss: 36.1474\n",
      "Epoch 198/200\n",
      "188/188 - 0s - loss: 20.6771 - val_loss: 34.6950\n",
      "Epoch 199/200\n",
      "188/188 - 0s - loss: 20.0845 - val_loss: 36.0922\n",
      "Epoch 200/200\n",
      "188/188 - 0s - loss: 21.1785 - val_loss: 34.9730\n",
      "The best validation with this LSTM model with 200 epochs was 34.97304392875509\n"
     ]
    },
    {
     "data": {
      "image/png": "[encoded data removed]",
      "text/plain": [
       "<Figure size 432x288 with 1 Axes>"
      ]
     },
     "metadata": {
      "needs_background": "light"
     },
     "output_type": "display_data"
    }
   ],
   "source": [
    "\n",
    "# FITTING #\n",
    "epochs1 = 200\n",
    "model,modelstring = create_model(**kwargs_training)\n",
    "history1 = model.fit(X_train, y_train, epochs=epochs1, batch_size=30, \\\n",
    "                    validation_data=(X_validate, y_validate), verbose=2, shuffle=False)\n",
    "\n",
    "model.save(f\"models/{modelstring}_model.h5\")  # creates a HDF5 file \n",
    "model.save_weights(f\"models/{modelstring}_model_weights.h5\")  # creates a HDF5 file 'my_model.h5'\n",
    "\n",
    "%matplotlib inline\n",
    "import matplotlib.pyplot as plt\n",
    "plt.plot(history1.history['loss'], label='train')\n",
    "plt.plot(history1.history['val_loss'], label='test')\n",
    "plt.legend()\n",
    "\n"
   ]
  },
  {
   "cell_type": "code",
   "execution_count": null,
   "metadata": {},
   "outputs": [],
   "source": [
    "print(f\"The best validation with this LSTM model with {epochs_} epochs was {history1.history['val_loss'][-1]}\")"
   ]
  },
  {
   "cell_type": "markdown",
   "metadata": {},
   "source": [
    "### LSTM Model 2"
   ]
  },
  {
   "cell_type": "code",
   "execution_count": 303,
   "metadata": {},
   "outputs": [
    {
     "name": "stdout",
     "output_type": "stream",
     "text": [
      "The best validation with this LSTM model with 200 epochs was 37.4167932145139\n"
     ]
    }
   ],
   "source": [
    "kwargs_training2 = {\"momentum\":0.8,\"decay\":0.1,\"lr\":0.01,\"lstm_units\":80,\\\n",
    "                   \"optimizer\":\"adam\",\"dropout_probability\":0.2,\"loss_\":\"mae\"}\n",
    "model2,modelstring2 = create_model(**kwargs_training)\n",
    "epochs_ = 200\n",
    "#history = model.fit(X_train, y_train, epochs=epochs_, batch_size=30, \\\n",
    "#                    validation_data=(X_validate, y_validate), verbose=2, shuffle=False)\n",
    "\n",
    "model2.save(f\"{modelstring2}_model.h5\")  # creates a HDF5 file \n",
    "model2.save_weights(f\"{modelstring2}_model_weights.h5\")  # creates a HDF5 file 'my_model.h5'\n",
    "print(f\"The best validation with this LSTM model with {epochs_} epochs was {history.history['val_loss'][-1]}\")"
   ]
  },
  {
   "cell_type": "code",
   "execution_count": 304,
   "metadata": {},
   "outputs": [
    {
     "data": {
      "text/plain": [
       "<matplotlib.legend.Legend at 0x7f88633f5a58>"
      ]
     },
     "execution_count": 304,
     "metadata": {},
     "output_type": "execute_result"
    },
    {
     "data": {
      "image/png": "[encoded data removed]",
      "text/plain": [
       "<Figure size 432x288 with 1 Axes>"
      ]
     },
     "metadata": {
      "needs_background": "light"
     },
     "output_type": "display_data"
    }
   ],
   "source": [
    "%matplotlib inline\n",
    "import matplotlib.pyplot as plt\n",
    "plt.plot(history.history['loss'], label='train')\n",
    "plt.plot(history.history['val_loss'], label='test')\n",
    "plt.legend()"
   ]
  },
  {
   "cell_type": "markdown",
   "metadata": {},
   "source": [
    "### From the Graph we can clearly see the overfitting problem!"
   ]
  },
  {
   "cell_type": "markdown",
   "metadata": {},
   "source": [
    "## Summary\n",
    "### Since Model 1 did better, we will use that to get the Test Predictions"
   ]
  },
  {
   "cell_type": "code",
   "execution_count": 314,
   "metadata": {},
   "outputs": [],
   "source": [
    "import tensorflow as tf\n",
    "generated_features_numpy_roll.keys()\n",
    "#generated_features_numpy_roll[\"test\"] = generated_features_numpy_roll[\"test\"].values.reshape((generated_features_numpy_roll[\"test\"].shape[0], n_in + n_out, -1)) # X_validate.shape[1]\n",
    "\n",
    "# Getting final predictions \n",
    "testpredictions = np.round(model.predict(X_test, verbose=0),0)\n"
   ]
  },
  {
   "cell_type": "code",
   "execution_count": 322,
   "metadata": {},
   "outputs": [
    {
     "name": "stdout",
     "output_type": "stream",
     "text": [
      "(188, 15, 11) (188,) (94, 15, 11) (94,) (52, 15, 11)\n"
     ]
    }
   ],
   "source": [
    "print(X_train.shape, y_train.shape, X_validate.shape, y_validate.shape,X_test.shape)\n",
    "# X_train has shape [samples x timesteps x features]"
   ]
  },
  {
   "cell_type": "markdown",
   "metadata": {},
   "source": [
    "### To improve the model:\n",
    "    - Generate more features\n",
    "    - Generate synthetic data\n",
    "    - Try more complex model"
   ]
  },
  {
   "cell_type": "markdown",
   "metadata": {},
   "source": [
    "## Simple Encoder-Decoder LSTM Approach"
   ]
  },
  {
   "cell_type": "code",
   "execution_count": null,
   "metadata": {},
   "outputs": [],
   "source": []
  }
 ],
 "metadata": {
  "kernelspec": {
   "display_name": "Python 3",
   "language": "python",
   "name": "python3"
  },
  "language_info": {
   "codemirror_mode": {
    "name": "ipython",
    "version": 3
   },
   "file_extension": ".py",
   "mimetype": "text/x-python",
   "name": "python",
   "nbconvert_exporter": "python",
   "pygments_lexer": "ipython3",
   "version": "3.7.3"
  },
  "toc": {
   "base_numbering": 1,
   "nav_menu": {},
   "number_sections": true,
   "sideBar": true,
   "skip_h1_title": false,
   "title_cell": "Table of Contents",
   "title_sidebar": "Contents",
   "toc_cell": false,
   "toc_position": {},
   "toc_section_display": true,
   "toc_window_display": true
  },
  "varInspector": {
   "cols": {
    "lenName": 16,
    "lenType": 16,
    "lenVar": 40
   },
   "kernels_config": {
    "python": {
     "delete_cmd_postfix": "",
     "delete_cmd_prefix": "del ",
     "library": "var_list.py",
     "varRefreshCmd": "print(var_dic_list())"
    },
    "r": {
     "delete_cmd_postfix": ") ",
     "delete_cmd_prefix": "rm(",
     "library": "var_list.r",
     "varRefreshCmd": "cat(var_dic_list()) "
    }
   },
   "oldHeight": 619,
   "position": {
    "height": "40px",
    "left": "1408px",
    "right": "20px",
    "top": "-12px",
    "width": "350px"
   },
   "types_to_exclude": [
    "module",
    "function",
    "builtin_function_or_method",
    "instance",
    "_Feature"
   ],
   "varInspector_section_display": "none",
   "window_display": true
  }
 },
 "nbformat": 4,
 "nbformat_minor": 2
}
